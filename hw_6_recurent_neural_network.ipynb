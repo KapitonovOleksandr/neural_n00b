{
 "cells": [
  {
   "cell_type": "markdown",
   "metadata": {},
   "source": [
    "# Task 6.\n",
    "\n",
    "\n",
    "### RNN Task: Predict Gold Prices for Next Day, Week, and Month\n",
    "\n",
    "### Objective\n",
    "Use a Recurrent Neural Network (RNN) to predict gold prices for the next day, next week, and next month using the \"Gold Price Prediction Dataset\" from Kaggle.\n",
    "\n",
    "### Steps\n",
    "\n",
    "1. **Data Acquisition**\n",
    "   - Import necessary libraries (pandas, numpy, TensorFlow/Keras, etc.).\n",
    "   - Load the dataset: `gold_data = pd.read_csv('path_to_FINAL_USO.csv')`.\n",
    "\n",
    "2. **Data Preprocessing**\n",
    "   - Perform data cleaning and preprocessing.\n",
    "   - Normalize the data if necessary.\n",
    "   - Create appropriate time series sequences for RNN.\n",
    "\n",
    "3. **Model Development**\n",
    "   - Define an RNN model using Torch or Keras.\n",
    "   - Split the data into training and testing sets.\n",
    "\n",
    "4. **Training the Model**\n",
    "   - Train the model on the training dataset.\n",
    "   - Use time steps as per your prediction needs (next day, week, month).\n",
    "\n",
    "5. **Model Evaluation**\n",
    "   - Evaluate the model's performance on the test set.\n",
    "   - Adjust model parameters and architecture as needed.\n",
    "\n",
    "6. **Prediction**\n",
    "   - Make predictions for the next day, week, and month.\n",
    "   - Analyze the results and accuracy of predictions.\n",
    "\n",
    "7. **Conclusion**\n",
    "   - Document your findings.\n",
    "   - Suggest potential improvements or further experiments.\n",
    "\n",
    "## Dataset\n",
    "Download from: [Kaggle - Gold Price Prediction Dataset](https://www.kaggle.com/datasets/sid321axn/gold-price-prediction-dataset?select=FINAL_USO.csv)\n",
    "\n",
    "\n"
   ]
  },
  {
   "cell_type": "code",
   "execution_count": 120,
   "metadata": {},
   "outputs": [],
   "source": [
    "# Imports\n",
    "import os\n",
    "import pathlib\n",
    "import logging\n",
    "import zipfile\n",
    "import shutil\n",
    "import random\n",
    "import numpy as np\n",
    "import pandas as pd\n",
    "import matplotlib.pyplot as plt\n",
    "from sklearn.model_selection import train_test_split\n",
    "import torch\n",
    "import torch.nn as nn\n",
    "from torchvision import transforms\n",
    "from torch.utils.data import DataLoader\n",
    "import torchmetrics\n",
    "from torchinfo import summary\n",
    "from tqdm import tqdm"
   ]
  },
  {
   "cell_type": "code",
   "execution_count": 121,
   "metadata": {},
   "outputs": [],
   "source": [
    "# Path to data \n",
    "data_path = pathlib.Path('./data/gold_pred/FINAL_USO.csv')\n",
    "\n",
    "# Device setup\n",
    "device = \"cuda\" if torch.cuda.is_available() else \"cpu\""
   ]
  },
  {
   "cell_type": "code",
   "execution_count": 122,
   "metadata": {},
   "outputs": [
    {
     "data": {
      "text/plain": [
       "Date             datetime64[ns]\n",
       "Open                    float64\n",
       "High                    float64\n",
       "Low                     float64\n",
       "Close                   float64\n",
       "                      ...      \n",
       "USO_High                float64\n",
       "USO_Low                 float64\n",
       "USO_Close               float64\n",
       "USO_Adj Close           float64\n",
       "USO_Volume                int64\n",
       "Length: 81, dtype: object"
      ]
     },
     "execution_count": 122,
     "metadata": {},
     "output_type": "execute_result"
    }
   ],
   "source": [
    "# EDA\n",
    "df = pd.read_csv(data_path, parse_dates=True)\n",
    "df.Date = pd.to_datetime(df.Date)\n",
    "df.dtypes"
   ]
  },
  {
   "cell_type": "code",
   "execution_count": 123,
   "metadata": {},
   "outputs": [
    {
     "data": {
      "text/plain": [
       "False"
      ]
     },
     "execution_count": 123,
     "metadata": {},
     "output_type": "execute_result"
    }
   ],
   "source": [
    "# Check missing values\n",
    "df.isna().sum().any()"
   ]
  },
  {
   "cell_type": "code",
   "execution_count": 124,
   "metadata": {},
   "outputs": [
    {
     "data": {
      "text/html": [
       "<div>\n",
       "<style scoped>\n",
       "    .dataframe tbody tr th:only-of-type {\n",
       "        vertical-align: middle;\n",
       "    }\n",
       "\n",
       "    .dataframe tbody tr th {\n",
       "        vertical-align: top;\n",
       "    }\n",
       "\n",
       "    .dataframe thead th {\n",
       "        text-align: right;\n",
       "    }\n",
       "</style>\n",
       "<table border=\"1\" class=\"dataframe\">\n",
       "  <thead>\n",
       "    <tr style=\"text-align: right;\">\n",
       "      <th></th>\n",
       "      <th>Date</th>\n",
       "      <th>Open</th>\n",
       "      <th>High</th>\n",
       "      <th>Low</th>\n",
       "      <th>Close</th>\n",
       "      <th>Adj Close</th>\n",
       "      <th>Volume</th>\n",
       "      <th>SP_open</th>\n",
       "      <th>SP_high</th>\n",
       "      <th>SP_low</th>\n",
       "      <th>...</th>\n",
       "      <th>GDX_Low</th>\n",
       "      <th>GDX_Close</th>\n",
       "      <th>GDX_Adj Close</th>\n",
       "      <th>GDX_Volume</th>\n",
       "      <th>USO_Open</th>\n",
       "      <th>USO_High</th>\n",
       "      <th>USO_Low</th>\n",
       "      <th>USO_Close</th>\n",
       "      <th>USO_Adj Close</th>\n",
       "      <th>USO_Volume</th>\n",
       "    </tr>\n",
       "  </thead>\n",
       "  <tbody>\n",
       "    <tr>\n",
       "      <th>0</th>\n",
       "      <td>2011-12-15</td>\n",
       "      <td>154.740005</td>\n",
       "      <td>154.949997</td>\n",
       "      <td>151.710007</td>\n",
       "      <td>152.330002</td>\n",
       "      <td>152.330002</td>\n",
       "      <td>21521900</td>\n",
       "      <td>123.029999</td>\n",
       "      <td>123.199997</td>\n",
       "      <td>121.989998</td>\n",
       "      <td>...</td>\n",
       "      <td>51.570000</td>\n",
       "      <td>51.680000</td>\n",
       "      <td>48.973877</td>\n",
       "      <td>20605600</td>\n",
       "      <td>36.900002</td>\n",
       "      <td>36.939999</td>\n",
       "      <td>36.049999</td>\n",
       "      <td>36.130001</td>\n",
       "      <td>36.130001</td>\n",
       "      <td>12616700</td>\n",
       "    </tr>\n",
       "    <tr>\n",
       "      <th>1</th>\n",
       "      <td>2011-12-16</td>\n",
       "      <td>154.309998</td>\n",
       "      <td>155.369995</td>\n",
       "      <td>153.899994</td>\n",
       "      <td>155.229996</td>\n",
       "      <td>155.229996</td>\n",
       "      <td>18124300</td>\n",
       "      <td>122.230003</td>\n",
       "      <td>122.949997</td>\n",
       "      <td>121.300003</td>\n",
       "      <td>...</td>\n",
       "      <td>52.040001</td>\n",
       "      <td>52.680000</td>\n",
       "      <td>49.921513</td>\n",
       "      <td>16285400</td>\n",
       "      <td>36.180000</td>\n",
       "      <td>36.500000</td>\n",
       "      <td>35.730000</td>\n",
       "      <td>36.270000</td>\n",
       "      <td>36.270000</td>\n",
       "      <td>12578800</td>\n",
       "    </tr>\n",
       "    <tr>\n",
       "      <th>2</th>\n",
       "      <td>2011-12-19</td>\n",
       "      <td>155.479996</td>\n",
       "      <td>155.860001</td>\n",
       "      <td>154.360001</td>\n",
       "      <td>154.869995</td>\n",
       "      <td>154.869995</td>\n",
       "      <td>12547200</td>\n",
       "      <td>122.059998</td>\n",
       "      <td>122.320000</td>\n",
       "      <td>120.029999</td>\n",
       "      <td>...</td>\n",
       "      <td>51.029999</td>\n",
       "      <td>51.169998</td>\n",
       "      <td>48.490578</td>\n",
       "      <td>15120200</td>\n",
       "      <td>36.389999</td>\n",
       "      <td>36.450001</td>\n",
       "      <td>35.930000</td>\n",
       "      <td>36.200001</td>\n",
       "      <td>36.200001</td>\n",
       "      <td>7418200</td>\n",
       "    </tr>\n",
       "    <tr>\n",
       "      <th>3</th>\n",
       "      <td>2011-12-20</td>\n",
       "      <td>156.820007</td>\n",
       "      <td>157.429993</td>\n",
       "      <td>156.580002</td>\n",
       "      <td>156.979996</td>\n",
       "      <td>156.979996</td>\n",
       "      <td>9136300</td>\n",
       "      <td>122.180000</td>\n",
       "      <td>124.139999</td>\n",
       "      <td>120.370003</td>\n",
       "      <td>...</td>\n",
       "      <td>52.369999</td>\n",
       "      <td>52.990002</td>\n",
       "      <td>50.215282</td>\n",
       "      <td>11644900</td>\n",
       "      <td>37.299999</td>\n",
       "      <td>37.610001</td>\n",
       "      <td>37.220001</td>\n",
       "      <td>37.560001</td>\n",
       "      <td>37.560001</td>\n",
       "      <td>10041600</td>\n",
       "    </tr>\n",
       "    <tr>\n",
       "      <th>4</th>\n",
       "      <td>2011-12-21</td>\n",
       "      <td>156.979996</td>\n",
       "      <td>157.529999</td>\n",
       "      <td>156.130005</td>\n",
       "      <td>157.160004</td>\n",
       "      <td>157.160004</td>\n",
       "      <td>11996100</td>\n",
       "      <td>123.930000</td>\n",
       "      <td>124.360001</td>\n",
       "      <td>122.750000</td>\n",
       "      <td>...</td>\n",
       "      <td>52.419998</td>\n",
       "      <td>52.959999</td>\n",
       "      <td>50.186852</td>\n",
       "      <td>8724300</td>\n",
       "      <td>37.669998</td>\n",
       "      <td>38.240002</td>\n",
       "      <td>37.520000</td>\n",
       "      <td>38.110001</td>\n",
       "      <td>38.110001</td>\n",
       "      <td>10728000</td>\n",
       "    </tr>\n",
       "  </tbody>\n",
       "</table>\n",
       "<p>5 rows × 81 columns</p>\n",
       "</div>"
      ],
      "text/plain": [
       "        Date        Open        High         Low       Close   Adj Close  \\\n",
       "0 2011-12-15  154.740005  154.949997  151.710007  152.330002  152.330002   \n",
       "1 2011-12-16  154.309998  155.369995  153.899994  155.229996  155.229996   \n",
       "2 2011-12-19  155.479996  155.860001  154.360001  154.869995  154.869995   \n",
       "3 2011-12-20  156.820007  157.429993  156.580002  156.979996  156.979996   \n",
       "4 2011-12-21  156.979996  157.529999  156.130005  157.160004  157.160004   \n",
       "\n",
       "     Volume     SP_open     SP_high      SP_low  ...    GDX_Low  GDX_Close  \\\n",
       "0  21521900  123.029999  123.199997  121.989998  ...  51.570000  51.680000   \n",
       "1  18124300  122.230003  122.949997  121.300003  ...  52.040001  52.680000   \n",
       "2  12547200  122.059998  122.320000  120.029999  ...  51.029999  51.169998   \n",
       "3   9136300  122.180000  124.139999  120.370003  ...  52.369999  52.990002   \n",
       "4  11996100  123.930000  124.360001  122.750000  ...  52.419998  52.959999   \n",
       "\n",
       "   GDX_Adj Close  GDX_Volume   USO_Open   USO_High    USO_Low  USO_Close  \\\n",
       "0      48.973877    20605600  36.900002  36.939999  36.049999  36.130001   \n",
       "1      49.921513    16285400  36.180000  36.500000  35.730000  36.270000   \n",
       "2      48.490578    15120200  36.389999  36.450001  35.930000  36.200001   \n",
       "3      50.215282    11644900  37.299999  37.610001  37.220001  37.560001   \n",
       "4      50.186852     8724300  37.669998  38.240002  37.520000  38.110001   \n",
       "\n",
       "   USO_Adj Close  USO_Volume  \n",
       "0      36.130001    12616700  \n",
       "1      36.270000    12578800  \n",
       "2      36.200001     7418200  \n",
       "3      37.560001    10041600  \n",
       "4      38.110001    10728000  \n",
       "\n",
       "[5 rows x 81 columns]"
      ]
     },
     "execution_count": 124,
     "metadata": {},
     "output_type": "execute_result"
    }
   ],
   "source": [
    "df.head()"
   ]
  },
  {
   "cell_type": "code",
   "execution_count": 125,
   "metadata": {},
   "outputs": [
    {
     "name": "stdout",
     "output_type": "stream",
     "text": [
      "<class 'pandas.core.frame.DataFrame'>\n",
      "RangeIndex: 1718 entries, 0 to 1717\n",
      "Data columns (total 81 columns):\n",
      " #   Column         Non-Null Count  Dtype         \n",
      "---  ------         --------------  -----         \n",
      " 0   Date           1718 non-null   datetime64[ns]\n",
      " 1   Open           1718 non-null   float64       \n",
      " 2   High           1718 non-null   float64       \n",
      " 3   Low            1718 non-null   float64       \n",
      " 4   Close          1718 non-null   float64       \n",
      " 5   Adj Close      1718 non-null   float64       \n",
      " 6   Volume         1718 non-null   int64         \n",
      " 7   SP_open        1718 non-null   float64       \n",
      " 8   SP_high        1718 non-null   float64       \n",
      " 9   SP_low         1718 non-null   float64       \n",
      " 10  SP_close       1718 non-null   float64       \n",
      " 11  SP_Ajclose     1718 non-null   float64       \n",
      " 12  SP_volume      1718 non-null   int64         \n",
      " 13  DJ_open        1718 non-null   float64       \n",
      " 14  DJ_high        1718 non-null   float64       \n",
      " 15  DJ_low         1718 non-null   float64       \n",
      " 16  DJ_close       1718 non-null   float64       \n",
      " 17  DJ_Ajclose     1718 non-null   float64       \n",
      " 18  DJ_volume      1718 non-null   int64         \n",
      " 19  EG_open        1718 non-null   float64       \n",
      " 20  EG_high        1718 non-null   float64       \n",
      " 21  EG_low         1718 non-null   float64       \n",
      " 22  EG_close       1718 non-null   float64       \n",
      " 23  EG_Ajclose     1718 non-null   float64       \n",
      " 24  EG_volume      1718 non-null   int64         \n",
      " 25  EU_Price       1718 non-null   float64       \n",
      " 26  EU_open        1718 non-null   float64       \n",
      " 27  EU_high        1718 non-null   float64       \n",
      " 28  EU_low         1718 non-null   float64       \n",
      " 29  EU_Trend       1718 non-null   int64         \n",
      " 30  OF_Price       1718 non-null   float64       \n",
      " 31  OF_Open        1718 non-null   float64       \n",
      " 32  OF_High        1718 non-null   float64       \n",
      " 33  OF_Low         1718 non-null   float64       \n",
      " 34  OF_Volume      1718 non-null   int64         \n",
      " 35  OF_Trend       1718 non-null   int64         \n",
      " 36  OS_Price       1718 non-null   float64       \n",
      " 37  OS_Open        1718 non-null   float64       \n",
      " 38  OS_High        1718 non-null   float64       \n",
      " 39  OS_Low         1718 non-null   float64       \n",
      " 40  OS_Trend       1718 non-null   int64         \n",
      " 41  SF_Price       1718 non-null   int64         \n",
      " 42  SF_Open        1718 non-null   int64         \n",
      " 43  SF_High        1718 non-null   int64         \n",
      " 44  SF_Low         1718 non-null   int64         \n",
      " 45  SF_Volume      1718 non-null   int64         \n",
      " 46  SF_Trend       1718 non-null   int64         \n",
      " 47  USB_Price      1718 non-null   float64       \n",
      " 48  USB_Open       1718 non-null   float64       \n",
      " 49  USB_High       1718 non-null   float64       \n",
      " 50  USB_Low        1718 non-null   float64       \n",
      " 51  USB_Trend      1718 non-null   int64         \n",
      " 52  PLT_Price      1718 non-null   float64       \n",
      " 53  PLT_Open       1718 non-null   float64       \n",
      " 54  PLT_High       1718 non-null   float64       \n",
      " 55  PLT_Low        1718 non-null   float64       \n",
      " 56  PLT_Trend      1718 non-null   int64         \n",
      " 57  PLD_Price      1718 non-null   float64       \n",
      " 58  PLD_Open       1718 non-null   float64       \n",
      " 59  PLD_High       1718 non-null   float64       \n",
      " 60  PLD_Low        1718 non-null   float64       \n",
      " 61  PLD_Trend      1718 non-null   int64         \n",
      " 62  RHO_PRICE      1718 non-null   int64         \n",
      " 63  USDI_Price     1718 non-null   float64       \n",
      " 64  USDI_Open      1718 non-null   float64       \n",
      " 65  USDI_High      1718 non-null   float64       \n",
      " 66  USDI_Low       1718 non-null   float64       \n",
      " 67  USDI_Volume    1718 non-null   int64         \n",
      " 68  USDI_Trend     1718 non-null   int64         \n",
      " 69  GDX_Open       1718 non-null   float64       \n",
      " 70  GDX_High       1718 non-null   float64       \n",
      " 71  GDX_Low        1718 non-null   float64       \n",
      " 72  GDX_Close      1718 non-null   float64       \n",
      " 73  GDX_Adj Close  1718 non-null   float64       \n",
      " 74  GDX_Volume     1718 non-null   int64         \n",
      " 75  USO_Open       1718 non-null   float64       \n",
      " 76  USO_High       1718 non-null   float64       \n",
      " 77  USO_Low        1718 non-null   float64       \n",
      " 78  USO_Close      1718 non-null   float64       \n",
      " 79  USO_Adj Close  1718 non-null   float64       \n",
      " 80  USO_Volume     1718 non-null   int64         \n",
      "dtypes: datetime64[ns](1), float64(58), int64(22)\n",
      "memory usage: 1.1 MB\n"
     ]
    }
   ],
   "source": [
    "df.info()"
   ]
  },
  {
   "cell_type": "code",
   "execution_count": 126,
   "metadata": {},
   "outputs": [
    {
     "data": {
      "text/plain": [
       "array([<Axes: >, <Axes: >, <Axes: >, <Axes: >, <Axes: >], dtype=object)"
      ]
     },
     "execution_count": 126,
     "metadata": {},
     "output_type": "execute_result"
    },
    {
     "data": {
      "text/plain": [
       "<Figure size 1000x1000 with 0 Axes>"
      ]
     },
     "metadata": {},
     "output_type": "display_data"
    },
    {
     "data": {
      "image/png": "[encoded data removed]",
      "text/plain": [
       "<Figure size 640x480 with 5 Axes>"
      ]
     },
     "metadata": {},
     "output_type": "display_data"
    }
   ],
   "source": [
    "fig = plt.figure(figsize=(10, 10))\n",
    "easy_df = df[[\"Open\", \"High\", \"Low\", \"Close\", \"Volume\"]]\n",
    "easy_df.plot(subplots=True)"
   ]
  },
  {
   "cell_type": "code",
   "execution_count": 127,
   "metadata": {},
   "outputs": [],
   "source": [
    "# Hyperparametrs\n",
    "time_frame_window_size = 3\n",
    "\n",
    "# Preprocess data\n",
    "dataset_len = len(df)\n",
    "y = easy_df[\"Close\"].to_list()\n",
    "X = easy_df.drop(columns=[\"Close\"])\n",
    "\n",
    "X_train, X_test, y_train, y_test = train_test_split(X, y, test_size=0.2)\n",
    "X_train, X_test, y_train, y_test = torch.tensor(X_train.values, dtype=torch.float32), torch.tensor(X_test.values, dtype=torch.float32), torch.tensor(y_train, dtype=torch.float32), torch.tensor(y_test, dtype=torch.float32)"
   ]
  },
  {
   "cell_type": "code",
   "execution_count": 128,
   "metadata": {},
   "outputs": [],
   "source": [
    "# Create model\n",
    "class GoldPricePredictor(nn.Module):\n",
    "    def __init__(self, input_units, hidden_units, output_units):\n",
    "        super(GoldPricePredictor, self).__init__()\n",
    "        self.rnn = nn.RNN(input_units, hidden_units, batch_first=True)\n",
    "        self.fc = nn.Linear(hidden_units, output_units)\n",
    "        \n",
    "    def forward(self, x):\n",
    "        x = x.squeeze(-1)\n",
    "        return self.fc(self.rnn(x)[0])"
   ]
  },
  {
   "cell_type": "code",
   "execution_count": 129,
   "metadata": {},
   "outputs": [
    {
     "data": {
      "text/plain": [
       "GoldPricePredictor(\n",
       "  (rnn): RNN(4, 3, batch_first=True)\n",
       "  (fc): Linear(in_features=3, out_features=1, bias=True)\n",
       ")"
      ]
     },
     "execution_count": 129,
     "metadata": {},
     "output_type": "execute_result"
    }
   ],
   "source": [
    "# Instanciate our model\n",
    "gp_model = GoldPricePredictor(4, 3, 1).to(device)\n",
    "gp_model"
   ]
  },
  {
   "cell_type": "code",
   "execution_count": 130,
   "metadata": {},
   "outputs": [],
   "source": [
    "# Setup loss function and optimizer\n",
    "criterion = nn.MSELoss()\n",
    "optimizer = torch.optim.Adam(gp_model.parameters(), lr=0.5)"
   ]
  },
  {
   "cell_type": "code",
   "execution_count": 131,
   "metadata": {},
   "outputs": [],
   "source": [
    "# Store our results\n",
    "results = {\"train_loss\": [], \"test_loss\":[]}"
   ]
  },
  {
   "cell_type": "code",
   "execution_count": 132,
   "metadata": {},
   "outputs": [
    {
     "name": "stderr",
     "output_type": "stream",
     "text": [
      "c:\\Users\\Sanya\\kapitonnov_nn_n00b\\neural_n00b\\nn_n00b_env\\Lib\\site-packages\\torch\\nn\\modules\\loss.py:535: UserWarning: Using a target size (torch.Size([1374])) that is different to the input size (torch.Size([1374, 1])). This will likely lead to incorrect results due to broadcasting. Please ensure they have the same size.\n",
      "  return F.mse_loss(input, target, reduction=self.reduction)\n"
     ]
    },
    {
     "name": "stdout",
     "output_type": "stream",
     "text": [
      "Epoch [10/100], Loss: 12172.3301\n",
      "Epoch [20/100], Loss: 8339.3975\n",
      "Epoch [30/100], Loss: 5429.2925\n",
      "Epoch [40/100], Loss: 3366.8867\n",
      "Epoch [50/100], Loss: 2008.2795\n",
      "Epoch [60/100], Loss: 1180.8077\n",
      "Epoch [70/100], Loss: 718.1556\n",
      "Epoch [80/100], Loss: 482.9161\n",
      "Epoch [90/100], Loss: 375.5152\n",
      "Epoch [100/100], Loss: 332.2947\n",
      "Epoch [110/100], Loss: 317.4231\n",
      "Epoch [120/100], Loss: 313.2958\n"
     ]
    }
   ],
   "source": [
    "# Model training\n",
    "gp_model.train()\n",
    "for epoch in range(120):\n",
    "    X_train, y_train = X_train.to(device), y_train.to(device)\n",
    "    logits = gp_model(X_train)\n",
    "    loss = criterion(logits, y_train)\n",
    "    optimizer.zero_grad()\n",
    "    loss.backward()\n",
    "    optimizer.step()\n",
    "    results['train_loss'].append(loss.item())\n",
    "    if (epoch+1) % 10 == 0:\n",
    "        print(f'Epoch [{epoch+1}/100], Loss: {loss.item():.4f}')    "
   ]
  },
  {
   "cell_type": "code",
   "execution_count": 133,
   "metadata": {},
   "outputs": [
    {
     "name": "stdout",
     "output_type": "stream",
     "text": [
      "Loss: 287.5592\n"
     ]
    },
    {
     "name": "stderr",
     "output_type": "stream",
     "text": [
      "c:\\Users\\Sanya\\kapitonnov_nn_n00b\\neural_n00b\\nn_n00b_env\\Lib\\site-packages\\torch\\nn\\modules\\loss.py:535: UserWarning: Using a target size (torch.Size([344])) that is different to the input size (torch.Size([344, 1])). This will likely lead to incorrect results due to broadcasting. Please ensure they have the same size.\n",
      "  return F.mse_loss(input, target, reduction=self.reduction)\n"
     ]
    }
   ],
   "source": [
    "# Model evaluating\n",
    "gp_model.eval()\n",
    "with torch.no_grad():\n",
    "    X_test, y_test = X_test.to(device), y_test.to(device)\n",
    "    logits = gp_model(X_test)\n",
    "    loss = criterion(logits, y_test)\n",
    "    print(f'Loss: {loss.item():.4f}')  "
   ]
  },
  {
   "cell_type": "code",
   "execution_count": 136,
   "metadata": {},
   "outputs": [
    {
     "data": {
      "text/plain": [
       "<matplotlib.legend.Legend at 0x136b1600c90>"
      ]
     },
     "execution_count": 136,
     "metadata": {},
     "output_type": "execute_result"
    },
    {
     "data": {
      "image/png": "[encoded data removed]",
      "text/plain": [
       "<Figure size 1200x700 with 1 Axes>"
      ]
     },
     "metadata": {},
     "output_type": "display_data"
    }
   ],
   "source": [
    "# Plot our results\n",
    "fig = plt.figure(figsize=(12, 7))\n",
    "plt.subplot(1, 2, 1)\n",
    "plt.plot(results[\"train_loss\"], label=\"train_loss\")\n",
    "plt.title(\"Loss Train\")\n",
    "plt.xlabel(\"Epoch\")\n",
    "plt.ylabel(\"Loss\")\n",
    "plt.ylim([0, max(results[\"train_loss\"])+1000])\n",
    "plt.legend()"
   ]
  },
  {
   "cell_type": "code",
   "execution_count": null,
   "metadata": {},
   "outputs": [],
   "source": []
  }
 ],
 "metadata": {
  "kernelspec": {
   "display_name": "Python 3",
   "language": "python",
   "name": "python3"
  },
  "language_info": {
   "codemirror_mode": {
    "name": "ipython",
    "version": 3
   },
   "file_extension": ".py",
   "mimetype": "text/x-python",
   "name": "python",
   "nbconvert_exporter": "python",
   "pygments_lexer": "ipython3",
   "version": "3.11.2"
  },
  "orig_nbformat": 4
 },
 "nbformat": 4,
 "nbformat_minor": 2
}
