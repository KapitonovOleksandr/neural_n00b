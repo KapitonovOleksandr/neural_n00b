{
 "cells": [
  {
   "cell_type": "markdown",
   "metadata": {},
   "source": [
    "# Task 5.\n",
    "\n",
    "### CNN Task: Multi-Tank Classification\n",
    "\n",
    "### Objective\n",
    "Develop a Convolutional Neural Network (CNN) to classify images of military tanks using the \"Military Tanks Dataset Images\" from Kaggle.\n",
    "\n",
    "## Steps\n",
    "\n",
    "1. **Data Acquisition**\n",
    "   - Import necessary libraries (Torch or TensorFlow/Keras, pandas, numpy, etc.).\n",
    "   - Load the dataset: `tank_images = 'path_to_dataset_directory'`.\n",
    "\n",
    "2. **Data Preprocessing**\n",
    "   - Perform image preprocessing (resizing, normalization).\n",
    "   - Split the dataset into training, validation, and testing sets.\n",
    "\n",
    "3. **CNN Model Development**\n",
    "   - Define a CNN model architecture using Torch or Keras.\n",
    "   - Consider using data augmentation techniques.\n",
    "\n",
    "4. **Training the Model**\n",
    "   - Compile the CNN model.\n",
    "   - Train the model on the training dataset.\n",
    "   - Use validation data to tune hyperparameters.\n",
    "\n",
    "5. **Model Evaluation**\n",
    "   - Evaluate the model's performance on the test set.\n",
    "   - Analyze the classification accuracy and loss.\n",
    "\n",
    "6. **Fine-Tuning and Optimization**\n",
    "   - Adjust model architecture and parameters for better performance.\n",
    "   - Re-train and evaluate the model.\n",
    "\n",
    "7. **Conclusion**\n",
    "   - Summarize the model's performance.\n",
    "   - Suggest potential improvements or further research areas.\n",
    "\n",
    "## Dataset\n",
    "Download from: [Kaggle - Military Tanks Dataset Images](https://www.kaggle.com/datasets/antoreepjana/military-tanks-dataset-images)\n"
   ]
  },
  {
   "cell_type": "code",
   "execution_count": 1,
   "metadata": {},
   "outputs": [
    {
     "name": "stderr",
     "output_type": "stream",
     "text": [
      "c:\\Users\\Sanya\\kapitonnov_nn_n00b\\neural_n00b\\nn_n00b_env\\Lib\\site-packages\\tqdm\\auto.py:21: TqdmWarning: IProgress not found. Please update jupyter and ipywidgets. See https://ipywidgets.readthedocs.io/en/stable/user_install.html\n",
      "  from .autonotebook import tqdm as notebook_tqdm\n"
     ]
    }
   ],
   "source": [
    "# Imports\n",
    "import os\n",
    "import pathlib\n",
    "import logging\n",
    "import zipfile\n",
    "import shutil\n",
    "import random\n",
    "import numpy as np\n",
    "import matplotlib.pyplot as plt\n",
    "import torch\n",
    "import torch.nn as nn\n",
    "from torchvision.datasets import ImageFolder\n",
    "from torchvision import transforms\n",
    "from torch.utils.data import DataLoader\n",
    "import torchmetrics\n",
    "from torchinfo import summary\n",
    "from tqdm import tqdm"
   ]
  },
  {
   "cell_type": "code",
   "execution_count": 2,
   "metadata": {},
   "outputs": [],
   "source": [
    "# Setting up the Logs for the first time\n",
    "logging.basicConfig(level=logging.INFO)\n",
    "logging.basicConfig(format=\"%(asctime)s - %(levelname)s - %(messages)s\")\n",
    "logging.basicConfig(filename=\"./logs/hw5_logs.log\", level=logging.INFO)"
   ]
  },
  {
   "cell_type": "code",
   "execution_count": 3,
   "metadata": {},
   "outputs": [],
   "source": [
    "# Setting up device\n",
    "device = \"cuda\" if torch.cuda.is_available() else \"cpu\""
   ]
  },
  {
   "cell_type": "markdown",
   "metadata": {},
   "source": [
    "Our datasets doesn't have train and test split"
   ]
  },
  {
   "cell_type": "code",
   "execution_count": 4,
   "metadata": {},
   "outputs": [],
   "source": [
    "# Set path to our data\n",
    "data = pathlib.Path('data/')\n",
    "tank_data_path = data / \"tank_images/\""
   ]
  },
  {
   "cell_type": "code",
   "execution_count": 5,
   "metadata": {},
   "outputs": [
    {
     "name": "stdout",
     "output_type": "stream",
     "text": [
      "data\\tank_images Num of files in directory:  0\n",
      "data\\tank_images\\test Num of files in directory:  0\n",
      "data\\tank_images\\test\\altay Num of files in directory:  2\n",
      "data\\tank_images\\test\\al_khalid Num of files in directory:  2\n",
      "data\\tank_images\\test\\amx_13 Num of files in directory:  2\n",
      "data\\tank_images\\test\\amx_30 Num of files in directory:  2\n",
      "data\\tank_images\\test\\amx_32 Num of files in directory:  2\n",
      "data\\tank_images\\test\\amx_40 Num of files in directory:  2\n",
      "data\\tank_images\\test\\anders Num of files in directory:  2\n",
      "data\\tank_images\\test\\ariete Num of files in directory:  2\n",
      "data\\tank_images\\test\\arjun Num of files in directory:  2\n",
      "data\\tank_images\\test\\arjun_mk2 Num of files in directory:  2\n",
      "data\\tank_images\\test\\armata Num of files in directory:  2\n",
      "data\\tank_images\\test\\bmpt Num of files in directory:  3\n",
      "data\\tank_images\\test\\bmpt_72 Num of files in directory:  2\n",
      "data\\tank_images\\test\\bmt_72 Num of files in directory:  2\n",
      "data\\tank_images\\test\\btmp_84 Num of files in directory:  1\n",
      "data\\tank_images\\test\\challenger_1 Num of files in directory:  3\n",
      "data\\tank_images\\test\\challenger_2 Num of files in directory:  3\n",
      "data\\tank_images\\test\\chieftain Num of files in directory:  3\n",
      "data\\tank_images\\test\\chieftain_untold_story Num of files in directory:  1\n",
      "data\\tank_images\\test\\cv90105 Num of files in directory:  2\n",
      "data\\tank_images\\test\\cv90120t Num of files in directory:  3\n",
      "data\\tank_images\\test\\drozd Num of files in directory:  2\n",
      "data\\tank_images\\test\\expeditionary_tank Num of files in directory:  2\n",
      "data\\tank_images\\test\\fv101_scorpion Num of files in directory:  2\n",
      "data\\tank_images\\test\\gl5 Num of files in directory:  1\n",
      "data\\tank_images\\test\\ikv_91 Num of files in directory:  2\n",
      "data\\tank_images\\test\\jaguar Num of files in directory:  1\n",
      "data\\tank_images\\test\\k1 Num of files in directory:  3\n",
      "data\\tank_images\\test\\k1a1 Num of files in directory:  3\n",
      "data\\tank_images\\test\\k21_105 Num of files in directory:  2\n",
      "data\\tank_images\\test\\k21_with_xc8 Num of files in directory:  1\n",
      "data\\tank_images\\test\\k2_black_panther_mbt Num of files in directory:  3\n",
      "data\\tank_images\\test\\kaplan Num of files in directory:  2\n",
      "data\\tank_images\\test\\karrar Num of files in directory:  2\n",
      "data\\tank_images\\test\\leclerc Num of files in directory:  3\n",
      "data\\tank_images\\test\\leopard Num of files in directory:  2\n",
      "data\\tank_images\\test\\leopard_2 Num of files in directory:  3\n",
      "data\\tank_images\\test\\leopard_2a4m_can Num of files in directory:  2\n",
      "data\\tank_images\\test\\leopard_2a5 Num of files in directory:  2\n",
      "data\\tank_images\\test\\leopard_2a6 Num of files in directory:  3\n",
      "data\\tank_images\\test\\leopard_2a7 Num of files in directory:  2\n",
      "data\\tank_images\\test\\leopard_2ng Num of files in directory:  2\n",
      "data\\tank_images\\test\\leopard_2pl Num of files in directory:  2\n",
      "data\\tank_images\\test\\leopard_c2 Num of files in directory:  3\n",
      "data\\tank_images\\test\\lince Num of files in directory:  1\n",
      "data\\tank_images\\test\\m1985 Num of files in directory:  2\n",
      "data\\tank_images\\test\\m1a1_abrams Num of files in directory:  3\n",
      "data\\tank_images\\test\\m1a2_abrams Num of files in directory:  2\n",
      "data\\tank_images\\test\\m1a2_sep Num of files in directory:  3\n",
      "data\\tank_images\\test\\m1_abrams Num of files in directory:  2\n",
      "data\\tank_images\\test\\m2002 Num of files in directory:  2\n",
      "data\\tank_images\\test\\m551_sheridan Num of files in directory:  2\n",
      "data\\tank_images\\test\\m60a2 Num of files in directory:  2\n",
      "data\\tank_images\\test\\m60a3 Num of files in directory:  3\n",
      "data\\tank_images\\test\\m60_patton Num of files in directory:  3\n",
      "data\\tank_images\\test\\m60_phoenix Num of files in directory:  2\n",
      "data\\tank_images\\test\\m84 Num of files in directory:  2\n",
      "data\\tank_images\\test\\m84ab1 Num of files in directory:  2\n",
      "data\\tank_images\\test\\m8_buford Num of files in directory:  2\n",
      "data\\tank_images\\test\\m90_vihor Num of files in directory:  1\n",
      "data\\tank_images\\test\\m95_degman Num of files in directory:  2\n",
      "data\\tank_images\\test\\magach_7 Num of files in directory:  3\n",
      "data\\tank_images\\test\\marder_light_tank Num of files in directory:  1\n",
      "data\\tank_images\\test\\mars_15 Num of files in directory:  2\n",
      "data\\tank_images\\test\\mb3_tamoyo Num of files in directory:  2\n",
      "data\\tank_images\\test\\mbt_3000 Num of files in directory:  1\n",
      "data\\tank_images\\test\\merkava_mk1 Num of files in directory:  2\n",
      "data\\tank_images\\test\\merkava_mk2 Num of files in directory:  2\n",
      "data\\tank_images\\test\\merkava_mk3 Num of files in directory:  3\n",
      "data\\tank_images\\test\\merkava_mk4 Num of files in directory:  3\n",
      "data\\tank_images\\test\\merkava_mk4_meil_ruach Num of files in directory:  2\n",
      "data\\tank_images\\test\\nkpz Num of files in directory:  1\n",
      "data\\tank_images\\test\\of_40 Num of files in directory:  2\n",
      "data\\tank_images\\test\\olifant_mk1b Num of files in directory:  2\n",
      "data\\tank_images\\test\\olifant_mk2 Num of files in directory:  2\n",
      "data\\tank_images\\test\\oplot Num of files in directory:  3\n",
      "data\\tank_images\\test\\oplot_m Num of files in directory:  2\n",
      "data\\tank_images\\test\\osorio Num of files in directory:  3\n",
      "data\\tank_images\\test\\pl_01 Num of files in directory:  3\n",
      "data\\tank_images\\test\\pt76 Num of files in directory:  2\n",
      "data\\tank_images\\test\\pt91_twardy Num of files in directory:  3\n",
      "data\\tank_images\\test\\pt_16 Num of files in directory:  2\n",
      "data\\tank_images\\test\\revolution Num of files in directory:  3\n",
      "data\\tank_images\\test\\ruag_leopard_upgrade Num of files in directory:  1\n",
      "data\\tank_images\\test\\sabalan Num of files in directory:  2\n",
      "data\\tank_images\\test\\sabra Num of files in directory:  3\n",
      "data\\tank_images\\test\\sk105_kurassier Num of files in directory:  2\n",
      "data\\tank_images\\test\\sprut_sd Num of files in directory:  2\n",
      "data\\tank_images\\test\\sprut_sdm1 Num of files in directory:  2\n",
      "data\\tank_images\\test\\st2 Num of files in directory:  2\n",
      "data\\tank_images\\test\\super_m48 Num of files in directory:  1\n",
      "data\\tank_images\\test\\super_m60 Num of files in directory:  1\n",
      "data\\tank_images\\test\\t12_black_eagle Num of files in directory:  3\n",
      "data\\tank_images\\test\\t55 Num of files in directory:  3\n",
      "data\\tank_images\\test\\t55_enigma Num of files in directory:  2\n",
      "data\\tank_images\\test\\t62 Num of files in directory:  2\n",
      "data\\tank_images\\test\\t64 Num of files in directory:  3\n",
      "data\\tank_images\\test\\t64b1m Num of files in directory:  2\n",
      "data\\tank_images\\test\\t64bm_bulat Num of files in directory:  2\n",
      "data\\tank_images\\test\\t64e Num of files in directory:  3\n",
      "data\\tank_images\\test\\t72 Num of files in directory:  2\n",
      "data\\tank_images\\test\\t72b3 Num of files in directory:  3\n",
      "data\\tank_images\\test\\t72b4 Num of files in directory:  2\n",
      "data\\tank_images\\test\\t72m2_moderna Num of files in directory:  2\n",
      "data\\tank_images\\test\\t72m4 Num of files in directory:  3\n",
      "data\\tank_images\\test\\t72ua1 Num of files in directory:  2\n",
      "data\\tank_images\\test\\t80 Num of files in directory:  1\n",
      "data\\tank_images\\test\\t80b Num of files in directory:  2\n",
      "data\\tank_images\\test\\t80bvm Num of files in directory:  2\n",
      "data\\tank_images\\test\\t80u Num of files in directory:  3\n",
      "data\\tank_images\\test\\t80ud Num of files in directory:  2\n",
      "data\\tank_images\\test\\t80um1_bars Num of files in directory:  1\n",
      "data\\tank_images\\test\\t84 Num of files in directory:  2\n",
      "data\\tank_images\\test\\t84_yatagan Num of files in directory:  2\n",
      "data\\tank_images\\test\\t90 Num of files in directory:  2\n",
      "data\\tank_images\\test\\t90m Num of files in directory:  2\n",
      "data\\tank_images\\test\\t90ms_tagil Num of files in directory:  3\n",
      "data\\tank_images\\test\\t95 Num of files in directory:  1\n",
      "data\\tank_images\\test\\tam Num of files in directory:  2\n",
      "data\\tank_images\\test\\tank_ex Num of files in directory:  2\n",
      "data\\tank_images\\test\\tank_technology_demonstrator Num of files in directory:  1\n",
      "data\\tank_images\\test\\tk_x Num of files in directory:  3\n",
      "data\\tank_images\\test\\tm_800 Num of files in directory:  1\n",
      "data\\tank_images\\test\\tosan Num of files in directory:  1\n",
      "data\\tank_images\\test\\tr85m1 Num of files in directory:  1\n",
      "data\\tank_images\\test\\tusk Num of files in directory:  3\n",
      "data\\tank_images\\test\\type_62 Num of files in directory:  2\n",
      "data\\tank_images\\test\\type_63 Num of files in directory:  2\n",
      "data\\tank_images\\test\\type_63a Num of files in directory:  2\n",
      "data\\tank_images\\test\\type_74 Num of files in directory:  3\n",
      "data\\tank_images\\test\\type_80 Num of files in directory:  2\n",
      "data\\tank_images\\test\\type_90 Num of files in directory:  3\n",
      "data\\tank_images\\test\\type_90_II Num of files in directory:  2\n",
      "data\\tank_images\\test\\type_96 Num of files in directory:  3\n",
      "data\\tank_images\\test\\type_98 Num of files in directory:  2\n",
      "data\\tank_images\\test\\type_99 Num of files in directory:  3\n",
      "data\\tank_images\\test\\type_99g Num of files in directory:  2\n",
      "data\\tank_images\\test\\unidentified_north_korean_mbt Num of files in directory:  2\n",
      "data\\tank_images\\test\\vfm_5 Num of files in directory:  1\n",
      "data\\tank_images\\test\\vickers_mk3 Num of files in directory:  1\n",
      "data\\tank_images\\test\\vickers_mk4 Num of files in directory:  1\n",
      "data\\tank_images\\test\\vickers_mk7 Num of files in directory:  1\n",
      "data\\tank_images\\test\\vt2 Num of files in directory:  1\n",
      "data\\tank_images\\test\\vt4 Num of files in directory:  2\n",
      "data\\tank_images\\test\\vt5 Num of files in directory:  2\n",
      "data\\tank_images\\test\\zbd_2000_light_tank Num of files in directory:  2\n",
      "data\\tank_images\\test\\ztq_15 Num of files in directory:  3\n",
      "data\\tank_images\\test\\zulfiqar_1 Num of files in directory:  3\n",
      "data\\tank_images\\test\\zulfiqar_2 Num of files in directory:  1\n",
      "data\\tank_images\\test\\zulfiqar_3 Num of files in directory:  1\n",
      "data\\tank_images\\train Num of files in directory:  0\n",
      "data\\tank_images\\train\\altay Num of files in directory:  6\n",
      "data\\tank_images\\train\\al_khalid Num of files in directory:  4\n",
      "data\\tank_images\\train\\amx_13 Num of files in directory:  4\n",
      "data\\tank_images\\train\\amx_30 Num of files in directory:  6\n",
      "data\\tank_images\\train\\amx_32 Num of files in directory:  4\n",
      "data\\tank_images\\train\\amx_40 Num of files in directory:  3\n",
      "data\\tank_images\\train\\anders Num of files in directory:  7\n",
      "data\\tank_images\\train\\ariete Num of files in directory:  3\n",
      "data\\tank_images\\train\\arjun Num of files in directory:  7\n",
      "data\\tank_images\\train\\arjun_mk2 Num of files in directory:  3\n",
      "data\\tank_images\\train\\armata Num of files in directory:  7\n",
      "data\\tank_images\\train\\bmpt Num of files in directory:  8\n",
      "data\\tank_images\\train\\bmpt_72 Num of files in directory:  5\n",
      "data\\tank_images\\train\\bmt_72 Num of files in directory:  5\n",
      "data\\tank_images\\train\\btmp_84 Num of files in directory:  3\n",
      "data\\tank_images\\train\\challenger_1 Num of files in directory:  8\n",
      "data\\tank_images\\train\\challenger_2 Num of files in directory:  8\n",
      "data\\tank_images\\train\\chieftain Num of files in directory:  8\n",
      "data\\tank_images\\train\\cv90105 Num of files in directory:  3\n",
      "data\\tank_images\\train\\cv90120t Num of files in directory:  7\n",
      "data\\tank_images\\train\\drozd Num of files in directory:  5\n",
      "data\\tank_images\\train\\expeditionary_tank Num of files in directory:  6\n",
      "data\\tank_images\\train\\fv101_scorpion Num of files in directory:  3\n",
      "data\\tank_images\\train\\gl5 Num of files in directory:  3\n",
      "data\\tank_images\\train\\ikv_91 Num of files in directory:  6\n",
      "data\\tank_images\\train\\jaguar Num of files in directory:  2\n",
      "data\\tank_images\\train\\k1 Num of files in directory:  7\n",
      "data\\tank_images\\train\\k1a1 Num of files in directory:  7\n",
      "data\\tank_images\\train\\k21_105 Num of files in directory:  4\n",
      "data\\tank_images\\train\\k21_with_xc8 Num of files in directory:  3\n",
      "data\\tank_images\\train\\k2_black_panther_mbt Num of files in directory:  7\n",
      "data\\tank_images\\train\\kaplan Num of files in directory:  6\n",
      "data\\tank_images\\train\\karrar Num of files in directory:  6\n",
      "data\\tank_images\\train\\leclerc Num of files in directory:  8\n",
      "data\\tank_images\\train\\leopard Num of files in directory:  4\n",
      "data\\tank_images\\train\\leopard_2 Num of files in directory:  8\n",
      "data\\tank_images\\train\\leopard_2a4m_can Num of files in directory:  5\n",
      "data\\tank_images\\train\\leopard_2a5 Num of files in directory:  7\n",
      "data\\tank_images\\train\\leopard_2a6 Num of files in directory:  8\n",
      "data\\tank_images\\train\\leopard_2a7 Num of files in directory:  4\n",
      "data\\tank_images\\train\\leopard_2ng Num of files in directory:  3\n",
      "data\\tank_images\\train\\leopard_2pl Num of files in directory:  6\n",
      "data\\tank_images\\train\\leopard_c2 Num of files in directory:  8\n",
      "data\\tank_images\\train\\m1985 Num of files in directory:  4\n",
      "data\\tank_images\\train\\m1a1_abrams Num of files in directory:  8\n",
      "data\\tank_images\\train\\m1a2_abrams Num of files in directory:  6\n",
      "data\\tank_images\\train\\m1a2_sep Num of files in directory:  8\n",
      "data\\tank_images\\train\\m1_abrams Num of files in directory:  4\n",
      "data\\tank_images\\train\\m2002 Num of files in directory:  7\n",
      "data\\tank_images\\train\\m551_sheridan Num of files in directory:  4\n",
      "data\\tank_images\\train\\m60a2 Num of files in directory:  7\n",
      "data\\tank_images\\train\\m60a3 Num of files in directory:  8\n",
      "data\\tank_images\\train\\m60_patton Num of files in directory:  8\n",
      "data\\tank_images\\train\\m60_phoenix Num of files in directory:  3\n",
      "data\\tank_images\\train\\m84 Num of files in directory:  7\n",
      "data\\tank_images\\train\\m84ab1 Num of files in directory:  4\n",
      "data\\tank_images\\train\\m8_buford Num of files in directory:  3\n",
      "data\\tank_images\\train\\m90_vihor Num of files in directory:  3\n",
      "data\\tank_images\\train\\m95_degman Num of files in directory:  3\n",
      "data\\tank_images\\train\\magach_7 Num of files in directory:  8\n",
      "data\\tank_images\\train\\marder_light_tank Num of files in directory:  2\n",
      "data\\tank_images\\train\\mars_15 Num of files in directory:  5\n",
      "data\\tank_images\\train\\mb3_tamoyo Num of files in directory:  4\n",
      "data\\tank_images\\train\\mbt_3000 Num of files in directory:  3\n",
      "data\\tank_images\\train\\merkava_mk1 Num of files in directory:  6\n",
      "data\\tank_images\\train\\merkava_mk2 Num of files in directory:  7\n",
      "data\\tank_images\\train\\merkava_mk3 Num of files in directory:  8\n",
      "data\\tank_images\\train\\merkava_mk4 Num of files in directory:  7\n",
      "data\\tank_images\\train\\merkava_mk4_meil_ruach Num of files in directory:  7\n",
      "data\\tank_images\\train\\nkpz Num of files in directory:  3\n",
      "data\\tank_images\\train\\of_40 Num of files in directory:  5\n",
      "data\\tank_images\\train\\olifant_mk1b Num of files in directory:  4\n",
      "data\\tank_images\\train\\olifant_mk2 Num of files in directory:  7\n",
      "data\\tank_images\\train\\oplot Num of files in directory:  8\n",
      "data\\tank_images\\train\\oplot_m Num of files in directory:  7\n",
      "data\\tank_images\\train\\osorio Num of files in directory:  7\n",
      "data\\tank_images\\train\\pl_01 Num of files in directory:  8\n",
      "data\\tank_images\\train\\pt76 Num of files in directory:  4\n",
      "data\\tank_images\\train\\pt91_twardy Num of files in directory:  8\n",
      "data\\tank_images\\train\\pt_16 Num of files in directory:  4\n",
      "data\\tank_images\\train\\revolution Num of files in directory:  8\n",
      "data\\tank_images\\train\\ruag_leopard_upgrade Num of files in directory:  1\n",
      "data\\tank_images\\train\\sabalan Num of files in directory:  4\n",
      "data\\tank_images\\train\\sabra Num of files in directory:  8\n",
      "data\\tank_images\\train\\sk105_kurassier Num of files in directory:  4\n",
      "data\\tank_images\\train\\sprut_sd Num of files in directory:  3\n",
      "data\\tank_images\\train\\sprut_sdm1 Num of files in directory:  7\n",
      "data\\tank_images\\train\\st2 Num of files in directory:  3\n",
      "data\\tank_images\\train\\super_m60 Num of files in directory:  2\n",
      "data\\tank_images\\train\\t12_black_eagle Num of files in directory:  8\n",
      "data\\tank_images\\train\\t55 Num of files in directory:  8\n",
      "data\\tank_images\\train\\t55_enigma Num of files in directory:  4\n",
      "data\\tank_images\\train\\t62 Num of files in directory:  6\n",
      "data\\tank_images\\train\\t64 Num of files in directory:  8\n",
      "data\\tank_images\\train\\t64b1m Num of files in directory:  5\n",
      "data\\tank_images\\train\\t64bm_bulat Num of files in directory:  7\n",
      "data\\tank_images\\train\\t64e Num of files in directory:  8\n",
      "data\\tank_images\\train\\t72 Num of files in directory:  6\n",
      "data\\tank_images\\train\\t72b3 Num of files in directory:  7\n",
      "data\\tank_images\\train\\t72b4 Num of files in directory:  4\n",
      "data\\tank_images\\train\\t72m2_moderna Num of files in directory:  4\n",
      "data\\tank_images\\train\\t72m4 Num of files in directory:  8\n",
      "data\\tank_images\\train\\t72ua1 Num of files in directory:  4\n",
      "data\\tank_images\\train\\t80 Num of files in directory:  3\n",
      "data\\tank_images\\train\\t80b Num of files in directory:  3\n",
      "data\\tank_images\\train\\t80bvm Num of files in directory:  4\n",
      "data\\tank_images\\train\\t80u Num of files in directory:  8\n",
      "data\\tank_images\\train\\t80ud Num of files in directory:  3\n",
      "data\\tank_images\\train\\t80um1_bars Num of files in directory:  3\n",
      "data\\tank_images\\train\\t84 Num of files in directory:  3\n",
      "data\\tank_images\\train\\t84_yatagan Num of files in directory:  3\n",
      "data\\tank_images\\train\\t90 Num of files in directory:  7\n",
      "data\\tank_images\\train\\t90m Num of files in directory:  3\n",
      "data\\tank_images\\train\\t90ms_tagil Num of files in directory:  7\n",
      "data\\tank_images\\train\\t95 Num of files in directory:  3\n",
      "data\\tank_images\\train\\tam Num of files in directory:  4\n",
      "data\\tank_images\\train\\tank_ex Num of files in directory:  3\n",
      "data\\tank_images\\train\\tk_x Num of files in directory:  7\n",
      "data\\tank_images\\train\\tm_800 Num of files in directory:  3\n",
      "data\\tank_images\\train\\tosan Num of files in directory:  3\n",
      "data\\tank_images\\train\\tr85m1 Num of files in directory:  3\n",
      "data\\tank_images\\train\\tusk Num of files in directory:  7\n",
      "data\\tank_images\\train\\type_62 Num of files in directory:  4\n",
      "data\\tank_images\\train\\type_63 Num of files in directory:  3\n",
      "data\\tank_images\\train\\type_63a Num of files in directory:  4\n",
      "data\\tank_images\\train\\type_74 Num of files in directory:  8\n",
      "data\\tank_images\\train\\type_80 Num of files in directory:  3\n",
      "data\\tank_images\\train\\type_90 Num of files in directory:  8\n",
      "data\\tank_images\\train\\type_90_II Num of files in directory:  3\n",
      "data\\tank_images\\train\\type_96 Num of files in directory:  7\n",
      "data\\tank_images\\train\\type_98 Num of files in directory:  7\n",
      "data\\tank_images\\train\\type_99 Num of files in directory:  8\n",
      "data\\tank_images\\train\\type_99g Num of files in directory:  6\n",
      "data\\tank_images\\train\\unidentified_north_korean_mbt Num of files in directory:  6\n",
      "data\\tank_images\\train\\vfm_5 Num of files in directory:  2\n",
      "data\\tank_images\\train\\vickers_mk3 Num of files in directory:  3\n",
      "data\\tank_images\\train\\vickers_mk4 Num of files in directory:  2\n",
      "data\\tank_images\\train\\vickers_mk7 Num of files in directory:  3\n",
      "data\\tank_images\\train\\vt2 Num of files in directory:  2\n",
      "data\\tank_images\\train\\vt4 Num of files in directory:  5\n",
      "data\\tank_images\\train\\vt5 Num of files in directory:  7\n",
      "data\\tank_images\\train\\zbd_2000_light_tank Num of files in directory:  4\n",
      "data\\tank_images\\train\\ztq_15 Num of files in directory:  8\n",
      "data\\tank_images\\train\\zulfiqar_1 Num of files in directory:  7\n",
      "data\\tank_images\\train\\zulfiqar_2 Num of files in directory:  1\n",
      "data\\tank_images\\train\\zulfiqar_3 Num of files in directory:  3\n",
      "\n",
      "Total num of imgs:  1079\n",
      "\n",
      "Average number of images in a folder:  3.620805369127517\n"
     ]
    }
   ],
   "source": [
    "# Take a look at our data folder and number of images in it\n",
    "number_of_files = 0\n",
    "for (roots, _, files) in os.walk(tank_data_path):\n",
    "    print(roots, \"Num of files in directory: \", len(files))\n",
    "    number_of_files+=len(files)\n",
    "print(\"\\nTotal num of imgs: \", number_of_files)\n",
    "\n",
    "print(\"\\nAverage number of images in a folder: \", number_of_files/(len(list(os.walk(tank_data_path)))-1))"
   ]
  },
  {
   "cell_type": "code",
   "execution_count": 6,
   "metadata": {},
   "outputs": [
    {
     "name": "stdout",
     "output_type": "stream",
     "text": [
      "data\\tank_images []\n",
      "data\\tank_images\\test []\n",
      "data\\tank_images\\test\\altay ['altay_l7.jpg', 'altay_main.jpg']\n",
      "data\\tank_images\\test\\al_khalid ['al_khalid_l5.jpg', 'al_khalid_main.jpg']\n",
      "data\\tank_images\\test\\amx_13 ['amx_13_l5.jpg', 'amx_13_main.jpg']\n",
      "data\\tank_images\\test\\amx_30 ['amx_30_l7.jpg', 'amx_30_main.jpg']\n",
      "data\\tank_images\\test\\amx_32 ['amx_32_l5.jpg', 'amx_32_main.jpg']\n",
      "data\\tank_images\\test\\amx_40 ['amx_40_l4.jpg', 'amx_40_main.jpg']\n",
      "data\\tank_images\\test\\anders ['anders_l8.jpg', 'anders_main.jpg']\n",
      "data\\tank_images\\test\\ariete ['ariete_l4.jpg', 'ariete_main.jpg']\n",
      "data\\tank_images\\test\\arjun ['arjun_l8.jpg', 'arjun_main.jpg']\n",
      "data\\tank_images\\test\\arjun_mk2 ['arjun_mk2_l4.jpg', 'arjun_mk2_main.jpg']\n",
      "data\\tank_images\\test\\armata ['armata_l8.jpg', 'armata_main.jpg']\n",
      "data\\tank_images\\test\\bmpt ['bmpt_l8.jpg', 'bmpt_l9.jpg', 'bmpt_main.jpg']\n",
      "data\\tank_images\\test\\bmpt_72 ['bmpt_72_l6.jpg', 'bmpt_72_main.jpg']\n",
      "data\\tank_images\\test\\bmt_72 ['bmt_72_l6.jpg', 'bmt_72_main.jpg']\n",
      "data\\tank_images\\test\\btmp_84 ['btmp_84_main.jpg']\n",
      "data\\tank_images\\test\\challenger_1 ['challenger_1_l8.jpg', 'challenger_1_l9.jpg', 'challenger_1_main.jpg']\n",
      "data\\tank_images\\test\\challenger_2 ['challenger_2_l8.jpg', 'challenger_2_l9.jpg', 'challenger_2_main.jpg']\n",
      "data\\tank_images\\test\\chieftain ['chieftain_l8.jpg', 'chieftain_l9.jpg', 'chieftain_main.jpg']\n",
      "data\\tank_images\\test\\chieftain_untold_story ['chieftain_untold_story_main.jpg']\n",
      "data\\tank_images\\test\\cv90105 ['cv90105_l4.jpg', 'cv90105_main.jpg']\n",
      "data\\tank_images\\test\\cv90120t ['cv90120t_l8.jpg', 'cv90120t_l9.jpg', 'cv90120t_main.jpg']\n",
      "data\\tank_images\\test\\drozd ['drozd_l6.jpg', 'drozd_main.jpg']\n",
      "data\\tank_images\\test\\expeditionary_tank ['expeditionary_tank_l7.jpg', 'expeditionary_tank_main.jpg']\n",
      "data\\tank_images\\test\\fv101_scorpion ['fv101_scorpion_l4.jpg', 'fv101_scorpion_main.jpg']\n",
      "data\\tank_images\\test\\gl5 ['gl5_main.jpg']\n",
      "data\\tank_images\\test\\ikv_91 ['ikv_91_l7.jpg', 'ikv_91_main.jpg']\n",
      "data\\tank_images\\test\\jaguar ['jaguar_main.jpg']\n",
      "data\\tank_images\\test\\k1 ['k1_l8.jpg', 'k1_l9.jpg', 'k1_main.jpg']\n",
      "data\\tank_images\\test\\k1a1 ['k1a1_l8.jpg', 'k1a1_l9.jpg', 'k1a1_main.jpg']\n",
      "data\\tank_images\\test\\k21_105 ['k21_105_l5.jpg', 'k21_105_main.jpg']\n",
      "data\\tank_images\\test\\k21_with_xc8 ['k21_with_xc8_main.jpg']\n",
      "data\\tank_images\\test\\k2_black_panther_mbt ['k2_black_panther_mbt_l8.jpg', 'k2_black_panther_mbt_l9.jpg', 'k2_black_panther_mbt_main.jpg']\n",
      "data\\tank_images\\test\\kaplan ['kaplan_l7.jpg', 'kaplan_main.jpg']\n",
      "data\\tank_images\\test\\karrar ['karrar_l7.jpg', 'karrar_main.jpg']\n",
      "data\\tank_images\\test\\leclerc ['leclerc_l8.jpg', 'leclerc_l9.jpg', 'leclerc_main.jpg']\n",
      "data\\tank_images\\test\\leopard ['leopard_l5.jpg', 'leopard_main.jpg']\n",
      "data\\tank_images\\test\\leopard_2 ['leopard_2_l8.jpg', 'leopard_2_l9.jpg', 'leopard_2_main.jpg']\n",
      "data\\tank_images\\test\\leopard_2a4m_can ['leopard_2a4m_can_l6.jpg', 'leopard_2a4m_can_main.jpg']\n",
      "data\\tank_images\\test\\leopard_2a5 ['leopard_2a5_l8.jpg', 'leopard_2a5_main.jpg']\n",
      "data\\tank_images\\test\\leopard_2a6 ['leopard_2a6_l8.jpg', 'leopard_2a6_l9.jpg', 'leopard_2a6_main.jpg']\n",
      "data\\tank_images\\test\\leopard_2a7 ['leopard_2a7_l5.jpg', 'leopard_2a7_main.jpg']\n",
      "data\\tank_images\\test\\leopard_2ng ['leopard_2ng_l4.jpg', 'leopard_2ng_main.jpg']\n",
      "data\\tank_images\\test\\leopard_2pl ['leopard_2pl_l7.jpg', 'leopard_2pl_main.jpg']\n",
      "data\\tank_images\\test\\leopard_c2 ['leopard_c2_l8.jpg', 'leopard_c2_l9.jpg', 'leopard_c2_main.jpg']\n",
      "data\\tank_images\\test\\lince ['lince_main.jpg']\n",
      "data\\tank_images\\test\\m1985 ['m1985_l5.jpg', 'm1985_main.jpg']\n",
      "data\\tank_images\\test\\m1a1_abrams ['m1a1_abrams_l8.jpg', 'm1a1_abrams_l9.jpg', 'm1a1_abrams_main.jpg']\n",
      "data\\tank_images\\test\\m1a2_abrams ['m1a2_abrams_l7.jpg', 'm1a2_abrams_main.jpg']\n",
      "data\\tank_images\\test\\m1a2_sep ['m1a2_sep_l8.jpg', 'm1a2_sep_l9.jpg', 'm1a2_sep_main.jpg']\n",
      "data\\tank_images\\test\\m1_abrams ['m1_abrams_l5.jpg', 'm1_abrams_main.jpg']\n",
      "data\\tank_images\\test\\m2002 ['m2002_l8.jpg', 'm2002_main.jpg']\n",
      "data\\tank_images\\test\\m551_sheridan ['m551_sheridan_l5.jpg', 'm551_sheridan_main.jpg']\n",
      "data\\tank_images\\test\\m60a2 ['m60a2_l8.jpg', 'm60a2_main.jpg']\n",
      "data\\tank_images\\test\\m60a3 ['m60a3_l8.jpg', 'm60a3_l9.jpg', 'm60a3_main.jpg']\n",
      "data\\tank_images\\test\\m60_patton ['m60_patton_l8.jpg', 'm60_patton_l9.jpg', 'm60_patton_main.jpg']\n",
      "data\\tank_images\\test\\m60_phoenix ['m60_phoenix_l4.jpg', 'm60_phoenix_main.jpg']\n",
      "data\\tank_images\\test\\m84 ['m84_l8.jpg', 'm84_main.jpg']\n",
      "data\\tank_images\\test\\m84ab1 ['m84ab1_l5.jpg', 'm84ab1_main.jpg']\n",
      "data\\tank_images\\test\\m8_buford ['m8_buford_l4.jpg', 'm8_buford_main.jpg']\n",
      "data\\tank_images\\test\\m90_vihor ['m90_vihor_main.jpg']\n",
      "data\\tank_images\\test\\m95_degman ['m95_degman_l4.jpg', 'm95_degman_main.jpg']\n",
      "data\\tank_images\\test\\magach_7 ['magach_7_l8.jpg', 'magach_7_l9.jpg', 'magach_7_main.jpg']\n",
      "data\\tank_images\\test\\marder_light_tank ['marder_light_tank_main.jpg']\n",
      "data\\tank_images\\test\\mars_15 ['mars_15_l6.jpg', 'mars_15_main.jpg']\n",
      "data\\tank_images\\test\\mb3_tamoyo ['mb3_tamoyo_l5.jpg', 'mb3_tamoyo_main.jpg']\n",
      "data\\tank_images\\test\\mbt_3000 ['mbt_3000_main.jpg']\n",
      "data\\tank_images\\test\\merkava_mk1 ['merkava_mk1_l7.jpg', 'merkava_mk1_main.jpg']\n",
      "data\\tank_images\\test\\merkava_mk2 ['merkava_mk2_l8.jpg', 'merkava_mk2_main.jpg']\n",
      "data\\tank_images\\test\\merkava_mk3 ['merkava_mk3_l8.jpg', 'merkava_mk3_l9.jpg', 'merkava_mk3_main.jpg']\n",
      "data\\tank_images\\test\\merkava_mk4 ['merkava_mk4_l8.jpg', 'merkava_mk4_l9.jpg', 'merkava_mk4_main.jpg']\n",
      "data\\tank_images\\test\\merkava_mk4_meil_ruach ['merkava_mk4_meil_ruach_l8.jpg', 'merkava_mk4_meil_ruach_main.jpg']\n",
      "data\\tank_images\\test\\nkpz ['nkpz_main.jpg']\n",
      "data\\tank_images\\test\\of_40 ['of_40_l6.jpg', 'of_40_main.jpg']\n",
      "data\\tank_images\\test\\olifant_mk1b ['olifant_mk1b_l5.jpg', 'olifant_mk1b_main.jpg']\n",
      "data\\tank_images\\test\\olifant_mk2 ['olifant_mk2_l8.jpg', 'olifant_mk2_main.jpg']\n",
      "data\\tank_images\\test\\oplot ['oplot_l8.jpg', 'oplot_l9.jpg', 'oplot_main.jpg']\n",
      "data\\tank_images\\test\\oplot_m ['oplot_m_l8.jpg', 'oplot_m_main.jpg']\n",
      "data\\tank_images\\test\\osorio ['osorio_l8.jpg', 'osorio_l9.jpg', 'osorio_main.jpg']\n",
      "data\\tank_images\\test\\pl_01 ['pl_01_l8.jpg', 'pl_01_l9.jpg', 'pl_01_main.jpg']\n",
      "data\\tank_images\\test\\pt76 ['pt76_l5.jpg', 'pt76_main.jpg']\n",
      "data\\tank_images\\test\\pt91_twardy ['pt91_twardy_l8.jpg', 'pt91_twardy_l9.jpg', 'pt91_twardy_main.jpg']\n",
      "data\\tank_images\\test\\pt_16 ['pt_16_l5.jpg', 'pt_16_main.jpg']\n",
      "data\\tank_images\\test\\revolution ['revolution_l8.jpg', 'revolution_l9.jpg', 'revolution_main.jpg']\n",
      "data\\tank_images\\test\\ruag_leopard_upgrade ['ruag_leopard_upgrade_main.jpg']\n",
      "data\\tank_images\\test\\sabalan ['sabalan_l5.jpg', 'sabalan_main.jpg']\n",
      "data\\tank_images\\test\\sabra ['sabra_l8.jpg', 'sabra_l9.jpg', 'sabra_main.jpg']\n",
      "data\\tank_images\\test\\sk105_kurassier ['sk105_kurassier_l5.jpg', 'sk105_kurassier_main.jpg']\n",
      "data\\tank_images\\test\\sprut_sd ['sprut_sd_l4.jpg', 'sprut_sd_main.jpg']\n",
      "data\\tank_images\\test\\sprut_sdm1 ['sprut_sdm1_l8.jpg', 'sprut_sdm1_main.jpg']\n",
      "data\\tank_images\\test\\st2 ['st2_l4.jpg', 'st2_main.jpg']\n",
      "data\\tank_images\\test\\super_m48 ['super_m48_main.jpg']\n",
      "data\\tank_images\\test\\super_m60 ['super_m60_main.jpg']\n",
      "data\\tank_images\\test\\t12_black_eagle ['t12_black_eagle_l8.jpg', 't12_black_eagle_l9.jpg', 't12_black_eagle_main.jpg']\n",
      "data\\tank_images\\test\\t55 ['t55_l8.jpg', 't55_l9.jpg', 't55_main.jpg']\n",
      "data\\tank_images\\test\\t55_enigma ['t55_enigma_l5.jpg', 't55_enigma_main.jpg']\n",
      "data\\tank_images\\test\\t62 ['t62_l7.jpg', 't62_main.jpg']\n",
      "data\\tank_images\\test\\t64 ['t64_l8.jpg', 't64_l9.jpg', 't64_main.jpg']\n",
      "data\\tank_images\\test\\t64b1m ['t64b1m_l6.jpg', 't64b1m_main.jpg']\n",
      "data\\tank_images\\test\\t64bm_bulat ['t64bm_bulat_l8.jpg', 't64bm_bulat_main.jpg']\n",
      "data\\tank_images\\test\\t64e ['t64e_l8.jpg', 't64e_l9.jpg', 't64e_main.jpg']\n",
      "data\\tank_images\\test\\t72 ['t72_l7.jpg', 't72_main.jpg']\n",
      "data\\tank_images\\test\\t72b3 ['t72b3_l8.jpg', 't72b3_l9.jpg', 't72b3_main.jpg']\n",
      "data\\tank_images\\test\\t72b4 ['t72b4_l5.jpg', 't72b4_main.jpg']\n",
      "data\\tank_images\\test\\t72m2_moderna ['t72m2_moderna_l5.jpg', 't72m2_moderna_main.jpg']\n",
      "data\\tank_images\\test\\t72m4 ['t72m4_l8.jpg', 't72m4_l9.jpg', 't72m4_main.jpg']\n",
      "data\\tank_images\\test\\t72ua1 ['t72ua1_l5.jpg', 't72ua1_main.jpg']\n",
      "data\\tank_images\\test\\t80 ['t80_main.jpg']\n",
      "data\\tank_images\\test\\t80b ['t80b_l4.jpg', 't80b_main.jpg']\n",
      "data\\tank_images\\test\\t80bvm ['t80bvm_l5.jpg', 't80bvm_main.jpg']\n",
      "data\\tank_images\\test\\t80u ['t80u_l8.jpg', 't80u_l9.jpg', 't80u_main.jpg']\n",
      "data\\tank_images\\test\\t80ud ['t80ud_l4.jpg', 't80ud_main.jpg']\n",
      "data\\tank_images\\test\\t80um1_bars ['t80um1_bars_main.jpg']\n",
      "data\\tank_images\\test\\t84 ['t84_l4.jpg', 't84_main.jpg']\n",
      "data\\tank_images\\test\\t84_yatagan ['t84_yatagan_l4.jpg', 't84_yatagan_main.jpg']\n",
      "data\\tank_images\\test\\t90 ['t90_l8.jpg', 't90_main.jpg']\n",
      "data\\tank_images\\test\\t90m ['t90m_l4.jpg', 't90m_main.jpg']\n",
      "data\\tank_images\\test\\t90ms_tagil ['t90ms_tagil_l8.jpg', 't90ms_tagil_l9.jpg', 't90ms_tagil_main.jpg']\n",
      "data\\tank_images\\test\\t95 ['t95_main.jpg']\n",
      "data\\tank_images\\test\\tam ['tam_l5.jpg', 'tam_main.jpg']\n",
      "data\\tank_images\\test\\tank_ex ['tank_ex_l4.jpg', 'tank_ex_main.jpg']\n",
      "data\\tank_images\\test\\tank_technology_demonstrator ['tank_technology_demonstrator_main.jpg']\n",
      "data\\tank_images\\test\\tk_x ['tk_x_l8.jpg', 'tk_x_l9.jpg', 'tk_x_main.jpg']\n",
      "data\\tank_images\\test\\tm_800 ['tm_800_main.jpg']\n",
      "data\\tank_images\\test\\tosan ['tosan_main.jpg']\n",
      "data\\tank_images\\test\\tr85m1 ['tr85m1_main.jpg']\n",
      "data\\tank_images\\test\\tusk ['tusk_l8.jpg', 'tusk_l9.jpg', 'tusk_main.jpg']\n",
      "data\\tank_images\\test\\type_62 ['type_62_l5.jpg', 'type_62_main.jpg']\n",
      "data\\tank_images\\test\\type_63 ['type_63_l4.jpg', 'type_63_main.jpg']\n",
      "data\\tank_images\\test\\type_63a ['type_63a_l5.jpg', 'type_63a_main.jpg']\n",
      "data\\tank_images\\test\\type_74 ['type_74_l8.jpg', 'type_74_l9.jpg', 'type_74_main.jpg']\n",
      "data\\tank_images\\test\\type_80 ['type_80_l4.jpg', 'type_80_main.jpg']\n",
      "data\\tank_images\\test\\type_90 ['type_90_l8.jpg', 'type_90_l9.jpg', 'type_90_main.jpg']\n",
      "data\\tank_images\\test\\type_90_II ['type_90_II_l4.jpg', 'type_90_II_main.jpg']\n",
      "data\\tank_images\\test\\type_96 ['type_96_l8.jpg', 'type_96_l9.jpg', 'type_96_main.jpg']\n",
      "data\\tank_images\\test\\type_98 ['type_98_l8.jpg', 'type_98_main.jpg']\n",
      "data\\tank_images\\test\\type_99 ['type_99_l8.jpg', 'type_99_l9.jpg', 'type_99_main.jpg']\n",
      "data\\tank_images\\test\\type_99g ['type_99g_l7.jpg', 'type_99g_main.jpg']\n",
      "data\\tank_images\\test\\unidentified_north_korean_mbt ['unidentified_north_korean_mbt_l7.jpg', 'unidentified_north_korean_mbt_main.jpg']\n",
      "data\\tank_images\\test\\vfm_5 ['vfm_5_main.jpg']\n",
      "data\\tank_images\\test\\vickers_mk3 ['vickers_mk3_main.jpg']\n",
      "data\\tank_images\\test\\vickers_mk4 ['vickers_mk4_main.jpg']\n",
      "data\\tank_images\\test\\vickers_mk7 ['vickers_mk7_main.jpg']\n",
      "data\\tank_images\\test\\vt2 ['vt2_main.jpg']\n",
      "data\\tank_images\\test\\vt4 ['vt4_l6.jpg', 'vt4_main.jpg']\n",
      "data\\tank_images\\test\\vt5 ['vt5_l8.jpg', 'vt5_main.jpg']\n",
      "data\\tank_images\\test\\zbd_2000_light_tank ['zbd_2000_light_tank_l5.jpg', 'zbd_2000_light_tank_main.jpg']\n",
      "data\\tank_images\\test\\ztq_15 ['ztq_15_l8.jpg', 'ztq_15_l9.jpg', 'ztq_15_main.jpg']\n",
      "data\\tank_images\\test\\zulfiqar_1 ['zulfiqar_1_l8.jpg', 'zulfiqar_1_l9.jpg', 'zulfiqar_1_main.jpg']\n",
      "data\\tank_images\\test\\zulfiqar_2 ['zulfiqar_2_main.jpg']\n",
      "data\\tank_images\\test\\zulfiqar_3 ['zulfiqar_3_main.jpg']\n",
      "data\\tank_images\\train []\n",
      "data\\tank_images\\train\\altay ['altay_l1.jpg', 'altay_l2.jpg', 'altay_l3.jpg', 'altay_l4.jpg', 'altay_l5.jpg', 'altay_l6.jpg']\n",
      "data\\tank_images\\train\\al_khalid ['al_khalid_l1.jpg', 'al_khalid_l2.jpg', 'al_khalid_l3.jpg', 'al_khalid_l4.jpg']\n",
      "data\\tank_images\\train\\amx_13 ['amx_13_l1.jpg', 'amx_13_l2.jpg', 'amx_13_l3.jpg', 'amx_13_l4.jpg']\n",
      "data\\tank_images\\train\\amx_30 ['amx_30_l1.jpg', 'amx_30_l2.jpg', 'amx_30_l3.jpg', 'amx_30_l4.jpg', 'amx_30_l5.jpg', 'amx_30_l6.jpg']\n",
      "data\\tank_images\\train\\amx_32 ['amx_32_l1.jpg', 'amx_32_l2.jpg', 'amx_32_l3.jpg', 'amx_32_l4.jpg']\n",
      "data\\tank_images\\train\\amx_40 ['amx_40_l1.jpg', 'amx_40_l2.jpg', 'amx_40_l3.jpg']\n",
      "data\\tank_images\\train\\anders ['anders_l1.jpg', 'anders_l2.jpg', 'anders_l3.jpg', 'anders_l4.jpg', 'anders_l5.jpg', 'anders_l6.jpg', 'anders_l7.jpg']\n",
      "data\\tank_images\\train\\ariete ['ariete_l1.jpg', 'ariete_l2.jpg', 'ariete_l3.jpg']\n",
      "data\\tank_images\\train\\arjun ['arjun_l1.jpg', 'arjun_l2.jpg', 'arjun_l3.jpg', 'arjun_l4.jpg', 'arjun_l5.jpg', 'arjun_l6.jpg', 'arjun_l7.jpg']\n",
      "data\\tank_images\\train\\arjun_mk2 ['arjun_mk2_l1.jpg', 'arjun_mk2_l2.jpg', 'arjun_mk2_l3.jpg']\n",
      "data\\tank_images\\train\\armata ['armata_l1.jpg', 'armata_l2.jpg', 'armata_l3.jpg', 'armata_l4.jpg', 'armata_l5.jpg', 'armata_l6.jpg', 'armata_l7.jpg']\n",
      "data\\tank_images\\train\\bmpt ['bmpt_l1.jpg', 'bmpt_l10.jpg', 'bmpt_l2.jpg', 'bmpt_l3.jpg', 'bmpt_l4.jpg', 'bmpt_l5.jpg', 'bmpt_l6.jpg', 'bmpt_l7.jpg']\n",
      "data\\tank_images\\train\\bmpt_72 ['bmpt_72_l1.jpg', 'bmpt_72_l2.jpg', 'bmpt_72_l3.jpg', 'bmpt_72_l4.jpg', 'bmpt_72_l5.jpg']\n",
      "data\\tank_images\\train\\bmt_72 ['bmt_72_l1.jpg', 'bmt_72_l2.jpg', 'bmt_72_l3.jpg', 'bmt_72_l4.jpg', 'bmt_72_l5.jpg']\n",
      "data\\tank_images\\train\\btmp_84 ['btmp_84_l1.jpg', 'btmp_84_l2.jpg', 'btmp_84_l3.jpg']\n",
      "data\\tank_images\\train\\challenger_1 ['challenger_1_l1.jpg', 'challenger_1_l10.jpg', 'challenger_1_l2.jpg', 'challenger_1_l3.jpg', 'challenger_1_l4.jpg', 'challenger_1_l5.jpg', 'challenger_1_l6.jpg', 'challenger_1_l7.jpg']\n",
      "data\\tank_images\\train\\challenger_2 ['challenger_2_l1.jpg', 'challenger_2_l10.jpg', 'challenger_2_l2.jpg', 'challenger_2_l3.jpg', 'challenger_2_l4.jpg', 'challenger_2_l5.jpg', 'challenger_2_l6.jpg', 'challenger_2_l7.jpg']\n",
      "data\\tank_images\\train\\chieftain ['chieftain_l1.jpg', 'chieftain_l10.jpg', 'chieftain_l2.jpg', 'chieftain_l3.jpg', 'chieftain_l4.jpg', 'chieftain_l5.jpg', 'chieftain_l6.jpg', 'chieftain_l7.jpg']\n",
      "data\\tank_images\\train\\cv90105 ['cv90105_l1.jpg', 'cv90105_l2.jpg', 'cv90105_l3.jpg']\n",
      "data\\tank_images\\train\\cv90120t ['cv90120t_l1.jpg', 'cv90120t_l2.jpg', 'cv90120t_l3.jpg', 'cv90120t_l4.jpg', 'cv90120t_l5.jpg', 'cv90120t_l6.jpg', 'cv90120t_l7.jpg']\n",
      "data\\tank_images\\train\\drozd ['drozd_l1.jpg', 'drozd_l2.jpg', 'drozd_l3.jpg', 'drozd_l4.jpg', 'drozd_l5.jpg']\n",
      "data\\tank_images\\train\\expeditionary_tank ['expeditionary_tank_l1.jpg', 'expeditionary_tank_l2.jpg', 'expeditionary_tank_l3.jpg', 'expeditionary_tank_l4.jpg', 'expeditionary_tank_l5.jpg', 'expeditionary_tank_l6.jpg']\n",
      "data\\tank_images\\train\\fv101_scorpion ['fv101_scorpion_l1.jpg', 'fv101_scorpion_l2.jpg', 'fv101_scorpion_l3.jpg']\n",
      "data\\tank_images\\train\\gl5 ['gl5_l1.jpg', 'gl5_l2.jpg', 'gl5_l3.jpg']\n",
      "data\\tank_images\\train\\ikv_91 ['ikv_91_l1.jpg', 'ikv_91_l2.jpg', 'ikv_91_l3.jpg', 'ikv_91_l4.jpg', 'ikv_91_l5.jpg', 'ikv_91_l6.jpg']\n",
      "data\\tank_images\\train\\jaguar ['jaguar_l1.jpg', 'jaguar_l2.jpg']\n",
      "data\\tank_images\\train\\k1 ['k1_l1.jpg', 'k1_l2.jpg', 'k1_l3.jpg', 'k1_l4.jpg', 'k1_l5.jpg', 'k1_l6.jpg', 'k1_l7.jpg']\n",
      "data\\tank_images\\train\\k1a1 ['k1a1_l1.jpg', 'k1a1_l2.jpg', 'k1a1_l3.jpg', 'k1a1_l4.jpg', 'k1a1_l5.jpg', 'k1a1_l6.jpg', 'k1a1_l7.jpg']\n",
      "data\\tank_images\\train\\k21_105 ['k21_105_l1.jpg', 'k21_105_l2.jpg', 'k21_105_l3.jpg', 'k21_105_l4.jpg']\n",
      "data\\tank_images\\train\\k21_with_xc8 ['k21_with_xc8_l1.jpg', 'k21_with_xc8_l2.jpg', 'k21_with_xc8_l3.jpg']\n",
      "data\\tank_images\\train\\k2_black_panther_mbt ['k2_black_panther_mbt_l1.jpg', 'k2_black_panther_mbt_l2.jpg', 'k2_black_panther_mbt_l3.jpg', 'k2_black_panther_mbt_l4.jpg', 'k2_black_panther_mbt_l5.jpg', 'k2_black_panther_mbt_l6.jpg', 'k2_black_panther_mbt_l7.jpg']\n",
      "data\\tank_images\\train\\kaplan ['kaplan_l1.jpg', 'kaplan_l2.jpg', 'kaplan_l3.jpg', 'kaplan_l4.jpg', 'kaplan_l5.jpg', 'kaplan_l6.jpg']\n",
      "data\\tank_images\\train\\karrar ['karrar_l1.jpg', 'karrar_l2.jpg', 'karrar_l3.jpg', 'karrar_l4.jpg', 'karrar_l5.jpg', 'karrar_l6.jpg']\n",
      "data\\tank_images\\train\\leclerc ['leclerc_l1.jpg', 'leclerc_l10.jpg', 'leclerc_l2.jpg', 'leclerc_l3.jpg', 'leclerc_l4.jpg', 'leclerc_l5.jpg', 'leclerc_l6.jpg', 'leclerc_l7.jpg']\n",
      "data\\tank_images\\train\\leopard ['leopard_l1.jpg', 'leopard_l2.jpg', 'leopard_l3.jpg', 'leopard_l4.jpg']\n",
      "data\\tank_images\\train\\leopard_2 ['leopard_2_l1.jpg', 'leopard_2_l10.jpg', 'leopard_2_l2.jpg', 'leopard_2_l3.jpg', 'leopard_2_l4.jpg', 'leopard_2_l5.jpg', 'leopard_2_l6.jpg', 'leopard_2_l7.jpg']\n",
      "data\\tank_images\\train\\leopard_2a4m_can ['leopard_2a4m_can_l1.jpg', 'leopard_2a4m_can_l2.jpg', 'leopard_2a4m_can_l3.jpg', 'leopard_2a4m_can_l4.jpg', 'leopard_2a4m_can_l5.jpg']\n",
      "data\\tank_images\\train\\leopard_2a5 ['leopard_2a5_l1.jpg', 'leopard_2a5_l2.jpg', 'leopard_2a5_l3.jpg', 'leopard_2a5_l4.jpg', 'leopard_2a5_l5.jpg', 'leopard_2a5_l6.jpg', 'leopard_2a5_l7.jpg']\n",
      "data\\tank_images\\train\\leopard_2a6 ['leopard_2a6_l1.jpg', 'leopard_2a6_l10.jpg', 'leopard_2a6_l2.jpg', 'leopard_2a6_l3.jpg', 'leopard_2a6_l4.jpg', 'leopard_2a6_l5.jpg', 'leopard_2a6_l6.jpg', 'leopard_2a6_l7.jpg']\n",
      "data\\tank_images\\train\\leopard_2a7 ['leopard_2a7_l1.jpg', 'leopard_2a7_l2.jpg', 'leopard_2a7_l3.jpg', 'leopard_2a7_l4.jpg']\n",
      "data\\tank_images\\train\\leopard_2ng ['leopard_2ng_l1.jpg', 'leopard_2ng_l2.jpg', 'leopard_2ng_l3.jpg']\n",
      "data\\tank_images\\train\\leopard_2pl ['leopard_2pl_l1.jpg', 'leopard_2pl_l2.jpg', 'leopard_2pl_l3.jpg', 'leopard_2pl_l4.jpg', 'leopard_2pl_l5.jpg', 'leopard_2pl_l6.jpg']\n",
      "data\\tank_images\\train\\leopard_c2 ['leopard_c2_l1.jpg', 'leopard_c2_l10.jpg', 'leopard_c2_l2.jpg', 'leopard_c2_l3.jpg', 'leopard_c2_l4.jpg', 'leopard_c2_l5.jpg', 'leopard_c2_l6.jpg', 'leopard_c2_l7.jpg']\n",
      "data\\tank_images\\train\\m1985 ['m1985_l1.jpg', 'm1985_l2.jpg', 'm1985_l3.jpg', 'm1985_l4.jpg']\n",
      "data\\tank_images\\train\\m1a1_abrams ['m1a1_abrams_l1.jpg', 'm1a1_abrams_l10.jpg', 'm1a1_abrams_l2.jpg', 'm1a1_abrams_l3.jpg', 'm1a1_abrams_l4.jpg', 'm1a1_abrams_l5.jpg', 'm1a1_abrams_l6.jpg', 'm1a1_abrams_l7.jpg']\n",
      "data\\tank_images\\train\\m1a2_abrams ['m1a2_abrams_l1.jpg', 'm1a2_abrams_l2.jpg', 'm1a2_abrams_l3.jpg', 'm1a2_abrams_l4.jpg', 'm1a2_abrams_l5.jpg', 'm1a2_abrams_l6.jpg']\n",
      "data\\tank_images\\train\\m1a2_sep ['m1a2_sep_l1.jpg', 'm1a2_sep_l10.jpg', 'm1a2_sep_l2.jpg', 'm1a2_sep_l3.jpg', 'm1a2_sep_l4.jpg', 'm1a2_sep_l5.jpg', 'm1a2_sep_l6.jpg', 'm1a2_sep_l7.jpg']\n",
      "data\\tank_images\\train\\m1_abrams ['m1_abrams_l1.jpg', 'm1_abrams_l2.jpg', 'm1_abrams_l3.jpg', 'm1_abrams_l4.jpg']\n",
      "data\\tank_images\\train\\m2002 ['m2002_l1.jpg', 'm2002_l2.jpg', 'm2002_l3.jpg', 'm2002_l4.jpg', 'm2002_l5.jpg', 'm2002_l6.jpg', 'm2002_l7.jpg']\n",
      "data\\tank_images\\train\\m551_sheridan ['m551_sheridan_l1.jpg', 'm551_sheridan_l2.jpg', 'm551_sheridan_l3.jpg', 'm551_sheridan_l4.jpg']\n",
      "data\\tank_images\\train\\m60a2 ['m60a2_l1.jpg', 'm60a2_l2.jpg', 'm60a2_l3.jpg', 'm60a2_l4.jpg', 'm60a2_l5.jpg', 'm60a2_l6.jpg', 'm60a2_l7.jpg']\n",
      "data\\tank_images\\train\\m60a3 ['m60a3_l1.jpg', 'm60a3_l10.jpg', 'm60a3_l2.jpg', 'm60a3_l3.jpg', 'm60a3_l4.jpg', 'm60a3_l5.jpg', 'm60a3_l6.jpg', 'm60a3_l7.jpg']\n",
      "data\\tank_images\\train\\m60_patton ['m60_patton_l1.jpg', 'm60_patton_l10.jpg', 'm60_patton_l2.jpg', 'm60_patton_l3.jpg', 'm60_patton_l4.jpg', 'm60_patton_l5.jpg', 'm60_patton_l6.jpg', 'm60_patton_l7.jpg']\n",
      "data\\tank_images\\train\\m60_phoenix ['m60_phoenix_l1.jpg', 'm60_phoenix_l2.jpg', 'm60_phoenix_l3.jpg']\n",
      "data\\tank_images\\train\\m84 ['m84_l1.jpg', 'm84_l2.jpg', 'm84_l3.jpg', 'm84_l4.jpg', 'm84_l5.jpg', 'm84_l6.jpg', 'm84_l7.jpg']\n",
      "data\\tank_images\\train\\m84ab1 ['m84ab1_l1.jpg', 'm84ab1_l2.jpg', 'm84ab1_l3.jpg', 'm84ab1_l4.jpg']\n",
      "data\\tank_images\\train\\m8_buford ['m8_buford_l1.jpg', 'm8_buford_l2.jpg', 'm8_buford_l3.jpg']\n",
      "data\\tank_images\\train\\m90_vihor ['m90_vihor_l1.jpg', 'm90_vihor_l2.jpg', 'm90_vihor_l3.jpg']\n",
      "data\\tank_images\\train\\m95_degman ['m95_degman_l1.jpg', 'm95_degman_l2.jpg', 'm95_degman_l3.jpg']\n",
      "data\\tank_images\\train\\magach_7 ['magach_7_l1.jpg', 'magach_7_l10.jpg', 'magach_7_l2.jpg', 'magach_7_l3.jpg', 'magach_7_l4.jpg', 'magach_7_l5.jpg', 'magach_7_l6.jpg', 'magach_7_l7.jpg']\n",
      "data\\tank_images\\train\\marder_light_tank ['marder_light_tank_l1.jpg', 'marder_light_tank_l2.jpg']\n",
      "data\\tank_images\\train\\mars_15 ['mars_15_l1.jpg', 'mars_15_l2.jpg', 'mars_15_l3.jpg', 'mars_15_l4.jpg', 'mars_15_l5.jpg']\n",
      "data\\tank_images\\train\\mb3_tamoyo ['mb3_tamoyo_l1.jpg', 'mb3_tamoyo_l2.jpg', 'mb3_tamoyo_l3.jpg', 'mb3_tamoyo_l4.jpg']\n",
      "data\\tank_images\\train\\mbt_3000 ['mbt_3000_l1.jpg', 'mbt_3000_l2.jpg', 'mbt_3000_l3.jpg']\n",
      "data\\tank_images\\train\\merkava_mk1 ['merkava_mk1_l1.jpg', 'merkava_mk1_l2.jpg', 'merkava_mk1_l3.jpg', 'merkava_mk1_l4.jpg', 'merkava_mk1_l5.jpg', 'merkava_mk1_l6.jpg']\n",
      "data\\tank_images\\train\\merkava_mk2 ['merkava_mk2_l1.jpg', 'merkava_mk2_l2.jpg', 'merkava_mk2_l3.jpg', 'merkava_mk2_l4.jpg', 'merkava_mk2_l5.jpg', 'merkava_mk2_l6.jpg', 'merkava_mk2_l7.jpg']\n",
      "data\\tank_images\\train\\merkava_mk3 ['merkava_mk3_l1.jpg', 'merkava_mk3_l10.jpg', 'merkava_mk3_l2.jpg', 'merkava_mk3_l3.jpg', 'merkava_mk3_l4.jpg', 'merkava_mk3_l5.jpg', 'merkava_mk3_l6.jpg', 'merkava_mk3_l7.jpg']\n",
      "data\\tank_images\\train\\merkava_mk4 ['merkava_mk4_l1.jpg', 'merkava_mk4_l2.jpg', 'merkava_mk4_l3.jpg', 'merkava_mk4_l4.jpg', 'merkava_mk4_l5.jpg', 'merkava_mk4_l6.jpg', 'merkava_mk4_l7.jpg']\n",
      "data\\tank_images\\train\\merkava_mk4_meil_ruach ['merkava_mk4_meil_ruach_l1.jpg', 'merkava_mk4_meil_ruach_l2.jpg', 'merkava_mk4_meil_ruach_l3.jpg', 'merkava_mk4_meil_ruach_l4.jpg', 'merkava_mk4_meil_ruach_l5.jpg', 'merkava_mk4_meil_ruach_l6.jpg', 'merkava_mk4_meil_ruach_l7.jpg']\n",
      "data\\tank_images\\train\\nkpz ['nkpz_l1.jpg', 'nkpz_l2.jpg', 'nkpz_l3.jpg']\n",
      "data\\tank_images\\train\\of_40 ['of_40_l1.jpg', 'of_40_l2.jpg', 'of_40_l3.jpg', 'of_40_l4.jpg', 'of_40_l5.jpg']\n",
      "data\\tank_images\\train\\olifant_mk1b ['olifant_mk1b_l1.jpg', 'olifant_mk1b_l2.jpg', 'olifant_mk1b_l3.jpg', 'olifant_mk1b_l4.jpg']\n",
      "data\\tank_images\\train\\olifant_mk2 ['olifant_mk2_l1.jpg', 'olifant_mk2_l2.jpg', 'olifant_mk2_l3.jpg', 'olifant_mk2_l4.jpg', 'olifant_mk2_l5.jpg', 'olifant_mk2_l6.jpg', 'olifant_mk2_l7.jpg']\n",
      "data\\tank_images\\train\\oplot ['oplot_l1.jpg', 'oplot_l10.jpg', 'oplot_l2.jpg', 'oplot_l3.jpg', 'oplot_l4.jpg', 'oplot_l5.jpg', 'oplot_l6.jpg', 'oplot_l7.jpg']\n",
      "data\\tank_images\\train\\oplot_m ['oplot_m_l1.jpg', 'oplot_m_l2.jpg', 'oplot_m_l3.jpg', 'oplot_m_l4.jpg', 'oplot_m_l5.jpg', 'oplot_m_l6.jpg', 'oplot_m_l7.jpg']\n",
      "data\\tank_images\\train\\osorio ['osorio_l1.jpg', 'osorio_l2.jpg', 'osorio_l3.jpg', 'osorio_l4.jpg', 'osorio_l5.jpg', 'osorio_l6.jpg', 'osorio_l7.jpg']\n",
      "data\\tank_images\\train\\pl_01 ['pl_01_l1.jpg', 'pl_01_l10.jpg', 'pl_01_l2.jpg', 'pl_01_l3.jpg', 'pl_01_l4.jpg', 'pl_01_l5.jpg', 'pl_01_l6.jpg', 'pl_01_l7.jpg']\n",
      "data\\tank_images\\train\\pt76 ['pt76_l1.jpg', 'pt76_l2.jpg', 'pt76_l3.jpg', 'pt76_l4.jpg']\n",
      "data\\tank_images\\train\\pt91_twardy ['pt91_twardy_l1.jpg', 'pt91_twardy_l10.jpg', 'pt91_twardy_l2.jpg', 'pt91_twardy_l3.jpg', 'pt91_twardy_l4.jpg', 'pt91_twardy_l5.jpg', 'pt91_twardy_l6.jpg', 'pt91_twardy_l7.jpg']\n",
      "data\\tank_images\\train\\pt_16 ['pt_16_l1.jpg', 'pt_16_l2.jpg', 'pt_16_l3.jpg', 'pt_16_l4.jpg']\n",
      "data\\tank_images\\train\\revolution ['revolution_l1.jpg', 'revolution_l10.jpg', 'revolution_l2.jpg', 'revolution_l3.jpg', 'revolution_l4.jpg', 'revolution_l5.jpg', 'revolution_l6.jpg', 'revolution_l7.jpg']\n",
      "data\\tank_images\\train\\ruag_leopard_upgrade ['ruag_leopard_upgrade_l1.jpg']\n",
      "data\\tank_images\\train\\sabalan ['sabalan_l1.jpg', 'sabalan_l2.jpg', 'sabalan_l3.jpg', 'sabalan_l4.jpg']\n",
      "data\\tank_images\\train\\sabra ['sabra_l1.jpg', 'sabra_l10.jpg', 'sabra_l2.jpg', 'sabra_l3.jpg', 'sabra_l4.jpg', 'sabra_l5.jpg', 'sabra_l6.jpg', 'sabra_l7.jpg']\n",
      "data\\tank_images\\train\\sk105_kurassier ['sk105_kurassier_l1.jpg', 'sk105_kurassier_l2.jpg', 'sk105_kurassier_l3.jpg', 'sk105_kurassier_l4.jpg']\n",
      "data\\tank_images\\train\\sprut_sd ['sprut_sd_l1.jpg', 'sprut_sd_l2.jpg', 'sprut_sd_l3.jpg']\n",
      "data\\tank_images\\train\\sprut_sdm1 ['sprut_sdm1_l1.jpg', 'sprut_sdm1_l2.jpg', 'sprut_sdm1_l3.jpg', 'sprut_sdm1_l4.jpg', 'sprut_sdm1_l5.jpg', 'sprut_sdm1_l6.jpg', 'sprut_sdm1_l7.jpg']\n",
      "data\\tank_images\\train\\st2 ['st2_l1.jpg', 'st2_l2.jpg', 'st2_l3.jpg']\n",
      "data\\tank_images\\train\\super_m60 ['super_m60_l1.jpg', 'super_m60_l2.jpg']\n",
      "data\\tank_images\\train\\t12_black_eagle ['t12_black_eagle_l1.jpg', 't12_black_eagle_l10.jpg', 't12_black_eagle_l2.jpg', 't12_black_eagle_l3.jpg', 't12_black_eagle_l4.jpg', 't12_black_eagle_l5.jpg', 't12_black_eagle_l6.jpg', 't12_black_eagle_l7.jpg']\n",
      "data\\tank_images\\train\\t55 ['t55_l1.jpg', 't55_l10.jpg', 't55_l2.jpg', 't55_l3.jpg', 't55_l4.jpg', 't55_l5.jpg', 't55_l6.jpg', 't55_l7.jpg']\n",
      "data\\tank_images\\train\\t55_enigma ['t55_enigma_l1.jpg', 't55_enigma_l2.jpg', 't55_enigma_l3.jpg', 't55_enigma_l4.jpg']\n",
      "data\\tank_images\\train\\t62 ['t62_l1.jpg', 't62_l2.jpg', 't62_l3.jpg', 't62_l4.jpg', 't62_l5.jpg', 't62_l6.jpg']\n",
      "data\\tank_images\\train\\t64 ['t64_l1.jpg', 't64_l10.jpg', 't64_l2.jpg', 't64_l3.jpg', 't64_l4.jpg', 't64_l5.jpg', 't64_l6.jpg', 't64_l7.jpg']\n",
      "data\\tank_images\\train\\t64b1m ['t64b1m_l1.jpg', 't64b1m_l2.jpg', 't64b1m_l3.jpg', 't64b1m_l4.jpg', 't64b1m_l5.jpg']\n",
      "data\\tank_images\\train\\t64bm_bulat ['t64bm_bulat_l1.jpg', 't64bm_bulat_l2.jpg', 't64bm_bulat_l3.jpg', 't64bm_bulat_l4.jpg', 't64bm_bulat_l5.jpg', 't64bm_bulat_l6.jpg', 't64bm_bulat_l7.jpg']\n",
      "data\\tank_images\\train\\t64e ['t64e_l1.jpg', 't64e_l10.jpg', 't64e_l2.jpg', 't64e_l3.jpg', 't64e_l4.jpg', 't64e_l5.jpg', 't64e_l6.jpg', 't64e_l7.jpg']\n",
      "data\\tank_images\\train\\t72 ['t72_l1.jpg', 't72_l2.jpg', 't72_l3.jpg', 't72_l4.jpg', 't72_l5.jpg', 't72_l6.jpg']\n",
      "data\\tank_images\\train\\t72b3 ['t72b3_l1.jpg', 't72b3_l2.jpg', 't72b3_l3.jpg', 't72b3_l4.jpg', 't72b3_l5.jpg', 't72b3_l6.jpg', 't72b3_l7.jpg']\n",
      "data\\tank_images\\train\\t72b4 ['t72b4_l1.jpg', 't72b4_l2.jpg', 't72b4_l3.jpg', 't72b4_l4.jpg']\n",
      "data\\tank_images\\train\\t72m2_moderna ['t72m2_moderna_l1.jpg', 't72m2_moderna_l2.jpg', 't72m2_moderna_l3.jpg', 't72m2_moderna_l4.jpg']\n",
      "data\\tank_images\\train\\t72m4 ['t72m4_l1.jpg', 't72m4_l10.jpg', 't72m4_l2.jpg', 't72m4_l3.jpg', 't72m4_l4.jpg', 't72m4_l5.jpg', 't72m4_l6.jpg', 't72m4_l7.jpg']\n",
      "data\\tank_images\\train\\t72ua1 ['t72ua1_l1.jpg', 't72ua1_l2.jpg', 't72ua1_l3.jpg', 't72ua1_l4.jpg']\n",
      "data\\tank_images\\train\\t80 ['t80_l1.jpg', 't80_l2.jpg', 't80_l3.jpg']\n",
      "data\\tank_images\\train\\t80b ['t80b_l1.jpg', 't80b_l2.jpg', 't80b_l3.jpg']\n",
      "data\\tank_images\\train\\t80bvm ['t80bvm_l1.jpg', 't80bvm_l2.jpg', 't80bvm_l3.jpg', 't80bvm_l4.jpg']\n",
      "data\\tank_images\\train\\t80u ['t80u_l1.jpg', 't80u_l10.jpg', 't80u_l2.jpg', 't80u_l3.jpg', 't80u_l4.jpg', 't80u_l5.jpg', 't80u_l6.jpg', 't80u_l7.jpg']\n",
      "data\\tank_images\\train\\t80ud ['t80ud_l1.jpg', 't80ud_l2.jpg', 't80ud_l3.jpg']\n",
      "data\\tank_images\\train\\t80um1_bars ['t80um1_bars_l1.jpg', 't80um1_bars_l2.jpg', 't80um1_bars_l3.jpg']\n",
      "data\\tank_images\\train\\t84 ['t84_l1.jpg', 't84_l2.jpg', 't84_l3.jpg']\n",
      "data\\tank_images\\train\\t84_yatagan ['t84_yatagan_l1.jpg', 't84_yatagan_l2.jpg', 't84_yatagan_l3.jpg']\n",
      "data\\tank_images\\train\\t90 ['t90_l1.jpg', 't90_l2.jpg', 't90_l3.jpg', 't90_l4.jpg', 't90_l5.jpg', 't90_l6.jpg', 't90_l7.jpg']\n",
      "data\\tank_images\\train\\t90m ['t90m_l1.jpg', 't90m_l2.jpg', 't90m_l3.jpg']\n",
      "data\\tank_images\\train\\t90ms_tagil ['t90ms_tagil_l1.jpg', 't90ms_tagil_l2.jpg', 't90ms_tagil_l3.jpg', 't90ms_tagil_l4.jpg', 't90ms_tagil_l5.jpg', 't90ms_tagil_l6.jpg', 't90ms_tagil_l7.jpg']\n",
      "data\\tank_images\\train\\t95 ['t95_l1.jpg', 't95_l2.jpg', 't95_l3.jpg']\n",
      "data\\tank_images\\train\\tam ['tam_l1.jpg', 'tam_l2.jpg', 'tam_l3.jpg', 'tam_l4.jpg']\n",
      "data\\tank_images\\train\\tank_ex ['tank_ex_l1.jpg', 'tank_ex_l2.jpg', 'tank_ex_l3.jpg']\n",
      "data\\tank_images\\train\\tk_x ['tk_x_l1.jpg', 'tk_x_l2.jpg', 'tk_x_l3.jpg', 'tk_x_l4.jpg', 'tk_x_l5.jpg', 'tk_x_l6.jpg', 'tk_x_l7.jpg']\n",
      "data\\tank_images\\train\\tm_800 ['tm_800_l1.jpg', 'tm_800_l2.jpg', 'tm_800_l3.jpg']\n",
      "data\\tank_images\\train\\tosan ['tosan_l1.jpg', 'tosan_l2.jpg', 'tosan_l3.jpg']\n",
      "data\\tank_images\\train\\tr85m1 ['tr85m1_l1.jpg', 'tr85m1_l2.jpg', 'tr85m1_l3.jpg']\n",
      "data\\tank_images\\train\\tusk ['tusk_l1.jpg', 'tusk_l2.jpg', 'tusk_l3.jpg', 'tusk_l4.jpg', 'tusk_l5.jpg', 'tusk_l6.jpg', 'tusk_l7.jpg']\n",
      "data\\tank_images\\train\\type_62 ['type_62_l1.jpg', 'type_62_l2.jpg', 'type_62_l3.jpg', 'type_62_l4.jpg']\n",
      "data\\tank_images\\train\\type_63 ['type_63_l1.jpg', 'type_63_l2.jpg', 'type_63_l3.jpg']\n",
      "data\\tank_images\\train\\type_63a ['type_63a_l1.jpg', 'type_63a_l2.jpg', 'type_63a_l3.jpg', 'type_63a_l4.jpg']\n",
      "data\\tank_images\\train\\type_74 ['type_74_l1.jpg', 'type_74_l10.jpg', 'type_74_l2.jpg', 'type_74_l3.jpg', 'type_74_l4.jpg', 'type_74_l5.jpg', 'type_74_l6.jpg', 'type_74_l7.jpg']\n",
      "data\\tank_images\\train\\type_80 ['type_80_l1.jpg', 'type_80_l2.jpg', 'type_80_l3.jpg']\n",
      "data\\tank_images\\train\\type_90 ['type_90_l1.jpg', 'type_90_l10.jpg', 'type_90_l2.jpg', 'type_90_l3.jpg', 'type_90_l4.jpg', 'type_90_l5.jpg', 'type_90_l6.jpg', 'type_90_l7.jpg']\n",
      "data\\tank_images\\train\\type_90_II ['type_90_II_l1.jpg', 'type_90_II_l2.jpg', 'type_90_II_l3.jpg']\n",
      "data\\tank_images\\train\\type_96 ['type_96_l1.jpg', 'type_96_l2.jpg', 'type_96_l3.jpg', 'type_96_l4.jpg', 'type_96_l5.jpg', 'type_96_l6.jpg', 'type_96_l7.jpg']\n",
      "data\\tank_images\\train\\type_98 ['type_98_l1.jpg', 'type_98_l2.jpg', 'type_98_l3.jpg', 'type_98_l4.jpg', 'type_98_l5.jpg', 'type_98_l6.jpg', 'type_98_l7.jpg']\n",
      "data\\tank_images\\train\\type_99 ['type_99_l1.jpg', 'type_99_l10.jpg', 'type_99_l2.jpg', 'type_99_l3.jpg', 'type_99_l4.jpg', 'type_99_l5.jpg', 'type_99_l6.jpg', 'type_99_l7.jpg']\n",
      "data\\tank_images\\train\\type_99g ['type_99g_l1.jpg', 'type_99g_l2.jpg', 'type_99g_l3.jpg', 'type_99g_l4.jpg', 'type_99g_l5.jpg', 'type_99g_l6.jpg']\n",
      "data\\tank_images\\train\\unidentified_north_korean_mbt ['unidentified_north_korean_mbt_l1.jpg', 'unidentified_north_korean_mbt_l2.jpg', 'unidentified_north_korean_mbt_l3.jpg', 'unidentified_north_korean_mbt_l4.jpg', 'unidentified_north_korean_mbt_l5.jpg', 'unidentified_north_korean_mbt_l6.jpg']\n",
      "data\\tank_images\\train\\vfm_5 ['vfm_5_l1.jpg', 'vfm_5_l2.jpg']\n",
      "data\\tank_images\\train\\vickers_mk3 ['vickers_mk3_l1.jpg', 'vickers_mk3_l2.jpg', 'vickers_mk3_l3.jpg']\n",
      "data\\tank_images\\train\\vickers_mk4 ['vickers_mk4_l1.jpg', 'vickers_mk4_l2.jpg']\n",
      "data\\tank_images\\train\\vickers_mk7 ['vickers_mk7_l1.jpg', 'vickers_mk7_l2.jpg', 'vickers_mk7_l3.jpg']\n",
      "data\\tank_images\\train\\vt2 ['vt2_l1.jpg', 'vt2_l2.jpg']\n",
      "data\\tank_images\\train\\vt4 ['vt4_l1.jpg', 'vt4_l2.jpg', 'vt4_l3.jpg', 'vt4_l4.jpg', 'vt4_l5.jpg']\n",
      "data\\tank_images\\train\\vt5 ['vt5_l1.jpg', 'vt5_l2.jpg', 'vt5_l3.jpg', 'vt5_l4.jpg', 'vt5_l5.jpg', 'vt5_l6.jpg', 'vt5_l7.jpg']\n",
      "data\\tank_images\\train\\zbd_2000_light_tank ['zbd_2000_light_tank_l1.jpg', 'zbd_2000_light_tank_l2.jpg', 'zbd_2000_light_tank_l3.jpg', 'zbd_2000_light_tank_l4.jpg']\n",
      "data\\tank_images\\train\\ztq_15 ['ztq_15_l1.jpg', 'ztq_15_l10.jpg', 'ztq_15_l2.jpg', 'ztq_15_l3.jpg', 'ztq_15_l4.jpg', 'ztq_15_l5.jpg', 'ztq_15_l6.jpg', 'ztq_15_l7.jpg']\n",
      "data\\tank_images\\train\\zulfiqar_1 ['zulfiqar_1_l1.jpg', 'zulfiqar_1_l2.jpg', 'zulfiqar_1_l3.jpg', 'zulfiqar_1_l4.jpg', 'zulfiqar_1_l5.jpg', 'zulfiqar_1_l6.jpg', 'zulfiqar_1_l7.jpg']\n",
      "data\\tank_images\\train\\zulfiqar_2 ['zulfiqar_2_l1.jpg']\n",
      "data\\tank_images\\train\\zulfiqar_3 ['zulfiqar_3_l1.jpg', 'zulfiqar_3_l2.jpg', 'zulfiqar_3_l3.jpg']\n"
     ]
    }
   ],
   "source": [
    "# Looking through the paths with images to understand the structure of dirs\n",
    "for (roots, _, files) in os.walk(tank_data_path):\n",
    "    print(roots, files)"
   ]
  },
  {
   "cell_type": "code",
   "execution_count": 7,
   "metadata": {},
   "outputs": [],
   "source": [
    "# Here I'm restructuring our data directories to the \"right form\" to easily fit it to pytorch workflow \n",
    "\n",
    "\n",
    "# Restart\n",
    "shutil.rmtree(tank_data_path)\n",
    "\n",
    "# Create a proper structure for ImageFolder datasets\n",
    "test_split = 0.2\n",
    "name_index = 17\n",
    "\n",
    "# Unzip tank_imgs archive\n",
    "with zipfile.ZipFile('data/tank_imgs.zip', 'r') as f:\n",
    "    f.extractall(path=data)\n",
    "\n",
    "# Creating train and test folders if such don't exist\n",
    "train_tank_dir = pathlib.Path(\"data/tank_images/train\")\n",
    "test_tank_dir = pathlib.Path(\"data/tank_images/test\")\n",
    "if not train_tank_dir.is_dir():\n",
    "    train_tank_dir.mkdir()\n",
    "if not test_tank_dir.is_dir():\n",
    "    test_tank_dir.mkdir()\n",
    "\n",
    "# Iter through dirs with tank imgs and move them to train and test folders  \n",
    "for (roots, dirs, files) in os.walk(tank_data_path):\n",
    "    train_im_num = len(files) - int(test_split*len(files)) # Counts 80% of images in folder for training\n",
    "    # Splits !dirs! in train/test (This block will run ones!)\n",
    "    for dir in dirs:\n",
    "        if dir in [\"train\", \"test\"]:\n",
    "            continue\n",
    "        if not (train_tank_dir/dir).is_dir():\n",
    "            (train_tank_dir/dir).mkdir()\n",
    "        if not (test_tank_dir/dir).is_dir():\n",
    "            (test_tank_dir/dir).mkdir()\n",
    "    # Split !images! into train/test\n",
    "    for i, file in enumerate(files, start=1):\n",
    "        parents = [train_tank_dir, test_tank_dir]\n",
    "        root = pathlib.Path(roots)\n",
    "        if root.parent in parents:\n",
    "            continue\n",
    "        if i < train_im_num:\n",
    "            file_a = pathlib.Path(f'{roots}\\\\{file}')\n",
    "            file_b = train_tank_dir / f'{roots[name_index:]}\\\\{file}'\n",
    "            file_a.rename(file_b)\n",
    "        else:\n",
    "            file_a = pathlib.Path(f'{roots}\\\\{file}')\n",
    "            file_b = test_tank_dir / f'{roots[name_index:]}\\\\{file}'\n",
    "            file_a.rename(file_b)\n",
    "            \n",
    "# Cleanup (delete all spare folders)\n",
    "for (roots, dirs, files) in os.walk(tank_data_path):\n",
    "    root = pathlib.Path(roots)\n",
    "    for dir in dirs:\n",
    "        if ((train_tank_dir != (root/dir).parent and test_tank_dir != (root/dir).parent) and ((root/dir) not in [train_tank_dir, test_tank_dir])) or len(os.listdir(root/dir))==0:\n",
    "            shutil.rmtree(root / dir)"
   ]
  },
  {
   "cell_type": "code",
   "execution_count": 8,
   "metadata": {},
   "outputs": [],
   "source": [
    "number_of_classes = len(os.listdir(test_tank_dir))"
   ]
  },
  {
   "cell_type": "code",
   "execution_count": 9,
   "metadata": {},
   "outputs": [],
   "source": [
    "# Train image transformations\n",
    "train_transform = transforms.Compose([\n",
    "    transforms.Resize((64, 64)),\n",
    "    transforms.RandomHorizontalFlip(p=0.5),\n",
    "    transforms.TrivialAugmentWide(3),\n",
    "    transforms.Grayscale(),\n",
    "    transforms.ToTensor()])\n",
    "\n",
    "# Test image transformations\n",
    "test_transform = transforms.Compose([\n",
    "    transforms.Resize((64, 64)),\n",
    "    transforms.Grayscale(),\n",
    "    transforms.ToTensor()])\n",
    "\n",
    "# Hyperparameters for dataloaders\n",
    "BATCHSIZE = 32\n",
    "NUM_WORKERS = os.cpu_count()\n",
    "\n",
    "# Creating datasets\n",
    "raw_tank_dataset = ImageFolder(train_tank_dir)\n",
    "train_dataset = ImageFolder(train_tank_dir, transform=train_transform)\n",
    "test_dataset = ImageFolder(test_tank_dir, transform=test_transform)\n",
    "\n",
    "# Store labels\n",
    "class_names = train_dataset.classes\n",
    "\n",
    "# Creating dataLoaders\n",
    "train_dataloader = DataLoader(train_dataset, batch_size=BATCHSIZE, shuffle=True, num_workers=NUM_WORKERS)\n",
    "test_dataloader = DataLoader(test_dataset, batch_size=BATCHSIZE, shuffle=False, num_workers=NUM_WORKERS)"
   ]
  },
  {
   "cell_type": "code",
   "execution_count": 10,
   "metadata": {},
   "outputs": [
    {
     "data": {
      "text/plain": [
       "tensor([[[0.9686, 0.9686, 0.9647,  ..., 0.9608, 0.9608, 0.9569],\n",
       "         [0.9725, 0.9725, 0.9686,  ..., 0.9608, 0.9608, 0.9569],\n",
       "         [0.9765, 0.9725, 0.9725,  ..., 0.9608, 0.9608, 0.9569],\n",
       "         ...,\n",
       "         [0.9882, 0.9882, 0.9882,  ..., 0.7333, 0.7804, 0.8471],\n",
       "         [0.9882, 0.9882, 0.9882,  ..., 0.6745, 0.7686, 0.8706],\n",
       "         [0.9882, 0.9882, 0.9882,  ..., 0.9412, 0.9412, 0.9098]]])"
      ]
     },
     "execution_count": 10,
     "metadata": {},
     "output_type": "execute_result"
    }
   ],
   "source": [
    "# Take a look if dataset is not empty\n",
    "train_dataset[0][0]"
   ]
  },
  {
   "cell_type": "code",
   "execution_count": 11,
   "metadata": {},
   "outputs": [
    {
     "data": {
      "image/png": "[encoded data removed]",
      "text/plain": [
       "<Figure size 640x480 with 2 Axes>"
      ]
     },
     "metadata": {},
     "output_type": "display_data"
    }
   ],
   "source": [
    "# Visualize images randomly\n",
    "im_num = random.choice(range(len(class_names)))\n",
    "raw_sample = raw_tank_dataset[im_num][0]\n",
    "sample = train_dataset[im_num][0]\n",
    "im_label = train_dataset[im_num][1]\n",
    "plt.subplot(1, 2, 1)\n",
    "plt.title(f'{class_names[im_label].upper()} before transform:')\n",
    "plt.axis(False)\n",
    "plt.imshow(raw_sample, cmap='gray');\n",
    "plt.subplot(1, 2, 2)\n",
    "plt.title(f'{class_names[im_label].upper()} after transform:')\n",
    "plt.axis(False)\n",
    "plt.imshow((sample).permute(1,2,0).numpy(), cmap='gray');"
   ]
  },
  {
   "cell_type": "code",
   "execution_count": 12,
   "metadata": {},
   "outputs": [],
   "source": [
    "# Create a NN\n",
    "class TankFinderModel_V0(nn.Module):\n",
    "    def __init__(self, input_nodes, hidden_nodes, output_nodes):\n",
    "        super().__init__()  # inherite the nn.Module atributes\n",
    "        self.conv_layer_1 = nn.Sequential(  # the first convolution block\n",
    "            nn.Conv2d(in_channels=input_nodes, out_channels=hidden_nodes, stride=1, padding=0, kernel_size=3),\n",
    "            nn.ReLU(),\n",
    "            nn.Conv2d(in_channels=hidden_nodes, out_channels=hidden_nodes, stride=1, padding=0, kernel_size=3),\n",
    "            nn.ReLU(),\n",
    "            nn.MaxPool2d(stride=1, padding=0, kernel_size=3)\n",
    "        )\n",
    "        self.classifier = nn.Sequential(  # classifier block\n",
    "            nn.Flatten(),\n",
    "            nn.Linear(in_features=hidden_nodes*58*58, out_features=64),\n",
    "            nn.Linear(in_features=64, out_features=output_nodes),\n",
    "            nn.Softmax()\n",
    "        )\n",
    "        \n",
    "    def forward(self, x):  # overwrite the forward method\n",
    "        return self.classifier(self.conv_layer_1(x))\n",
    "    \n",
    "class TankFinderModel_V1(nn.Module):\n",
    "    def __init__(self, input_nodes, hidden_nodes, output_nodes):\n",
    "        super().__init__()  # inherite the nn.Module atributes\n",
    "        self.conv_layer_1 = nn.Sequential(  # the first convolution block\n",
    "            nn.Conv2d(in_channels=input_nodes, out_channels=hidden_nodes, stride=1, padding=0, kernel_size=3),\n",
    "            nn.ReLU(),\n",
    "            nn.Conv2d(in_channels=hidden_nodes, out_channels=hidden_nodes, stride=1, padding=0, kernel_size=3),\n",
    "            nn.ReLU(),\n",
    "            nn.MaxPool2d(stride=1, padding=0, kernel_size=3)\n",
    "        )\n",
    "        self.conv_layer_2 = nn.Sequential(  # second convolution block\n",
    "            nn.Conv2d(in_channels=hidden_nodes, out_channels=hidden_nodes, stride=1, padding=0, kernel_size=3),\n",
    "            nn.ReLU(),\n",
    "            nn.Conv2d(in_channels=hidden_nodes, out_channels=hidden_nodes, stride=1, padding=0, kernel_size=3),\n",
    "            nn.ReLU(),\n",
    "            nn.MaxPool2d(stride=1, padding=0, kernel_size=3)\n",
    "        )\n",
    "        self.classifier = nn.Sequential(  # classifier block\n",
    "            nn.Flatten(),\n",
    "            nn.Linear(in_features=hidden_nodes*52*52, out_features=64),\n",
    "            nn.Linear(in_features=64, out_features=output_nodes),\n",
    "            nn.Softmax()\n",
    "        )\n",
    "        \n",
    "    def forward(self, x):  # overwrite the forward method\n",
    "        return self.classifier(self.conv_layer_2(self.conv_layer_1(x)))\n",
    "    \n",
    "    \n",
    "class TankFinderModel_V2(nn.Module):\n",
    "    def __init__(self, input_nodes, hidden_nodes, output_nodes):\n",
    "        super().__init__()  # inherite the nn.Module atributes\n",
    "        self.conv_layer_1 = nn.Sequential(  # the first convolution block\n",
    "            nn.Conv2d(in_channels=input_nodes, out_channels=hidden_nodes, stride=1, padding=0, kernel_size=3),\n",
    "            nn.ReLU(),\n",
    "            nn.Conv2d(in_channels=hidden_nodes, out_channels=hidden_nodes, stride=1, padding=0, kernel_size=3),\n",
    "            nn.ReLU(),\n",
    "            nn.MaxPool2d(stride=1, padding=0, kernel_size=3)\n",
    "        )\n",
    "        self.conv_layer_2 = nn.Sequential(  # second convolution block\n",
    "            nn.Conv2d(in_channels=hidden_nodes, out_channels=hidden_nodes, stride=1, padding=0, kernel_size=3),\n",
    "            nn.ReLU(),\n",
    "            nn.Conv2d(in_channels=hidden_nodes, out_channels=hidden_nodes, stride=1, padding=0, kernel_size=3),\n",
    "            nn.ReLU(),\n",
    "            nn.MaxPool2d(stride=1, padding=0, kernel_size=3)\n",
    "        )\n",
    "        self.classifier = nn.Sequential(  # classifier block\n",
    "            nn.Flatten(),\n",
    "            nn.Linear(in_features=hidden_nodes*46*46, out_features=64),\n",
    "            nn.Linear(in_features=64, out_features=output_nodes),\n",
    "            nn.Softmax()\n",
    "        )\n",
    "        \n",
    "    def forward(self, x):  # overwrite the forward method\n",
    "        return self.classifier(self.conv_layer_2(self.conv_layer_2(self.conv_layer_1(x))))\n",
    "    \n",
    "    \n",
    "class TankFinderModel_V3(nn.Module):\n",
    "    def __init__(self, input_nodes, output_nodes):\n",
    "        super().__init__()  # inherite the nn.Module atributes\n",
    "        self.conv_layer_1 = nn.Sequential(  # the first convolution block\n",
    "            nn.Conv2d(in_channels=input_nodes, out_channels=512, stride=1, padding=0, kernel_size=3),\n",
    "            nn.ReLU(),\n",
    "            nn.Conv2d(in_channels=512, out_channels=256, stride=1, padding=0, kernel_size=3),\n",
    "            nn.ReLU(),\n",
    "            nn.MaxPool2d(stride=1, padding=0, kernel_size=3)\n",
    "        )\n",
    "        self.conv_layer_2 = nn.Sequential(  # second convolution block\n",
    "            nn.Conv2d(in_channels=256, out_channels=128, stride=1, padding=0, kernel_size=3),\n",
    "            nn.ReLU(),\n",
    "            nn.Conv2d(in_channels=128, out_channels=64, stride=1, padding=0, kernel_size=3),\n",
    "            nn.ReLU(),\n",
    "            nn.MaxPool2d(stride=1, padding=0, kernel_size=3)\n",
    "        )\n",
    "        x = torch.randn(1, 1, 64, 64)  # Adjust for 1-channel input\n",
    "        self.flattened_size = (self.conv_layer_2(self.conv_layer_1(x))).view(-1).shape[0]\n",
    "        self.classifier = nn.Sequential(  # classifier block\n",
    "            nn.Flatten(),\n",
    "            nn.Linear(in_features=self.flattened_size, out_features=128),\n",
    "            nn.Linear(in_features=128, out_features=output_nodes),\n",
    "            nn.Softmax()\n",
    "        )\n",
    "    def forward(self, x):  # overwrite the forward method\n",
    "        return self.classifier(self.conv_layer_2(self.conv_layer_1(x)))\n",
    "        "
   ]
  },
  {
   "cell_type": "code",
   "execution_count": 13,
   "metadata": {},
   "outputs": [],
   "source": [
    "# Create an instance of our model (do not forget to set it to device)\n",
    "model_V0 = TankFinderModel_V3(input_nodes=1, output_nodes=number_of_classes).to(device=device)"
   ]
  },
  {
   "cell_type": "code",
   "execution_count": 14,
   "metadata": {},
   "outputs": [
    {
     "data": {
      "text/plain": [
       "TankFinderModel_V3(\n",
       "  (conv_layer_1): Sequential(\n",
       "    (0): Conv2d(1, 512, kernel_size=(3, 3), stride=(1, 1))\n",
       "    (1): ReLU()\n",
       "    (2): Conv2d(512, 256, kernel_size=(3, 3), stride=(1, 1))\n",
       "    (3): ReLU()\n",
       "    (4): MaxPool2d(kernel_size=3, stride=1, padding=0, dilation=1, ceil_mode=False)\n",
       "  )\n",
       "  (conv_layer_2): Sequential(\n",
       "    (0): Conv2d(256, 128, kernel_size=(3, 3), stride=(1, 1))\n",
       "    (1): ReLU()\n",
       "    (2): Conv2d(128, 64, kernel_size=(3, 3), stride=(1, 1))\n",
       "    (3): ReLU()\n",
       "    (4): MaxPool2d(kernel_size=3, stride=1, padding=0, dilation=1, ceil_mode=False)\n",
       "  )\n",
       "  (classifier): Sequential(\n",
       "    (0): Flatten(start_dim=1, end_dim=-1)\n",
       "    (1): Linear(in_features=173056, out_features=128, bias=True)\n",
       "    (2): Linear(in_features=128, out_features=150, bias=True)\n",
       "    (3): Softmax(dim=None)\n",
       "  )\n",
       ")"
      ]
     },
     "execution_count": 14,
     "metadata": {},
     "output_type": "execute_result"
    }
   ],
   "source": [
    "# Take a look at model architecture\n",
    "model_V0"
   ]
  },
  {
   "cell_type": "code",
   "execution_count": 15,
   "metadata": {},
   "outputs": [
    {
     "data": {
      "text/plain": [
       "=================================================================\n",
       "Layer (type:depth-idx)                   Param #\n",
       "=================================================================\n",
       "TankFinderModel_V3                       --\n",
       "├─Sequential: 1-1                        --\n",
       "│    └─Conv2d: 2-1                       5,120\n",
       "│    └─ReLU: 2-2                         --\n",
       "│    └─Conv2d: 2-3                       1,179,904\n",
       "│    └─ReLU: 2-4                         --\n",
       "│    └─MaxPool2d: 2-5                    --\n",
       "├─Sequential: 1-2                        --\n",
       "│    └─Conv2d: 2-6                       295,040\n",
       "│    └─ReLU: 2-7                         --\n",
       "│    └─Conv2d: 2-8                       73,792\n",
       "│    └─ReLU: 2-9                         --\n",
       "│    └─MaxPool2d: 2-10                   --\n",
       "├─Sequential: 1-3                        --\n",
       "│    └─Flatten: 2-11                     --\n",
       "│    └─Linear: 2-12                      22,151,296\n",
       "│    └─Linear: 2-13                      19,350\n",
       "│    └─Softmax: 2-14                     --\n",
       "=================================================================\n",
       "Total params: 23,724,502\n",
       "Trainable params: 23,724,502\n",
       "Non-trainable params: 0\n",
       "================================================================="
      ]
     },
     "execution_count": 15,
     "metadata": {},
     "output_type": "execute_result"
    }
   ],
   "source": [
    "# Take a look at the number of parameters\n",
    "summary(model_V0)"
   ]
  },
  {
   "cell_type": "code",
   "execution_count": 63,
   "metadata": {},
   "outputs": [],
   "source": [
    "# Accuracy function\n",
    "def accuracy_fn(y_preds: torch.tensor, y_true: torch.tensor) -> float:  # made my own accuracy function\n",
    "    \"\"\"Returns a percentage of correct predictions to all predictions\"\"\"\n",
    "    y_preds = torch.argmax(y_preds, dim=1)  # find the predicted class\n",
    "    correct = y_true.detach().cpu().numpy() == y_preds.detach().cpu().numpy()  # compare our predictions to ground truth\n",
    "    res = (correct.sum() / len(y_preds))*100  # calculate the ratio of correct predictions * 100\n",
    "    return res"
   ]
  },
  {
   "cell_type": "code",
   "execution_count": 64,
   "metadata": {},
   "outputs": [],
   "source": [
    "# Functionize our code a bit\n",
    "\n",
    "\n",
    "# Setup options\n",
    "EPOCHS = 5  # our epochs hyperparameter\n",
    "LR = 0.001  # our learning rate hyperparameter\n",
    "loss_func = nn.CrossEntropyLoss()  # select our loss function\n",
    "optim = torch.optim.Adam(params=model_V0.parameters(), lr=LR)  # select optimizer\n",
    "\n",
    "# Training func\n",
    "def train_step(model, dataloader, loss_fn, acc_fn, optimizer, device, epoch):\n",
    "    model.train()  # set the model to training mode\n",
    "    mean_loss, mean_acc = 0, 0  # keep track of our metrics\n",
    "    progress_bar = tqdm(  # a nice loading bar \n",
    "      enumerate(dataloader, start=1), \n",
    "      desc=f\"Training Epoch {epoch}\", \n",
    "      total=len(dataloader)\n",
    "      )\n",
    "    for batch, (X, y) in progress_bar:  # iterate through our dataloaders\n",
    "        X, y = X.to(device), y.to(device)  # set our tensors to the current device to avoid exeptions\n",
    "        logits = model(X)  # store our inference into logits variable\n",
    "        loss = loss_fn(logits, y)  # calculate our loss function\n",
    "        acc = accuracy_fn(logits, y)  # calculate our metrics (in this case accuracy)\n",
    "        optimizer.zero_grad()  # reset our gradience\n",
    "        loss.backward()  # calculate our losses for weights\n",
    "        optimizer.step()  # backpropagate through our network\n",
    "        logging.info('')\n",
    "        logging.info(f'Train Loss: {loss} || Train accuracy: {acc} Batch №: {batch}')\n",
    "        mean_loss += loss.item()  # save the value of our loss\n",
    "        mean_acc += acc  # save the value of our accuracy\n",
    "    mean_loss /= batch  # find the mean loss\n",
    "    mean_acc /= batch  # find the mean accuracy\n",
    "    logging.info(f'Mean Train Loss: {mean_loss} || Mean Train acc: {mean_acc}')\n",
    "    return mean_loss, mean_acc  # return results\n",
    "    \n",
    "# Testing func\n",
    "def test_step(model, dataloader, loss_fn, acc_fn, device, epoch):\n",
    "    model.eval()  # set our model to evaluation mode for testing\n",
    "    mean_loss, mean_acc = 0, 0  # keep track of our metrics\n",
    "    progress_bar = tqdm(  # a nice loading bar\n",
    "      enumerate(dataloader, start=1), \n",
    "      desc=f\"Testing Epoch {epoch}\", \n",
    "      total=len(dataloader)\n",
    "      )\n",
    "    with torch.no_grad():  # disable gradience (```torch.inference_mode()``` is also a thing, but i heard it's a bit buggy in 2.0)\n",
    "        for batch, (X, y) in progress_bar:  # iterate through our dataloaders\n",
    "            X, y = X.to(device), y.to(device)  # set our tensors to the current device to avoid exeptions\n",
    "            preds = model(X)  # store our inference into logits variable\n",
    "            loss = loss_fn(preds, y)  # calculate our loss function\n",
    "            acc = accuracy_fn(preds, y)  # calculate our metrics (in this case accuracy)\n",
    "            logging.info('')\n",
    "            logging.info(f'Test Loss: {loss} || Test accuracy: {acc} Batch №: {batch}')\n",
    "            mean_loss += loss.item()  # save the value of our loss\n",
    "            mean_acc += acc  # save the value of our ccuracy\n",
    "        mean_loss /= batch  # find the mean loss\n",
    "        mean_acc /= batch  # find the mean accuracy\n",
    "        logging.info(f'Mean Train Loss: {mean_loss} || Mean Train acc: {mean_acc}')\n",
    "    return mean_loss, mean_acc  # return results\n",
    "\n",
    "# Training loop\n",
    "def train(model, train_dataloader, test_dataloader, loss_fn, acc_fn, optimizer, device, epochs):\n",
    "    # Dictionary of our metrics to keep track of them\n",
    "    results_of_train_test = {\"train_loss\": [],\n",
    "                            \"train_acc\": [],\n",
    "                            \"test_loss\": [],\n",
    "                            \"test_acc\": []}\n",
    "    # Here we finally do the training and testing of our model, store the metrics of each epoch and return it\n",
    "    for epoch in range(1, epochs+1):\n",
    "        train_loss, train_acc = train_step(model, train_dataloader, loss_fn, acc_fn, optimizer, device, epoch)\n",
    "        results_of_train_test[\"train_loss\"].append(train_loss)\n",
    "        results_of_train_test[\"train_acc\"].append(train_acc)\n",
    "        test_loss, test_acc = test_step(model, test_dataloader, loss_fn, acc_fn, device, epoch)\n",
    "        results_of_train_test[\"test_loss\"].append(test_loss)\n",
    "        results_of_train_test[\"test_acc\"].append(test_acc)\n",
    "    return results_of_train_test"
   ]
  },
  {
   "cell_type": "code",
   "execution_count": 65,
   "metadata": {},
   "outputs": [
    {
     "name": "stderr",
     "output_type": "stream",
     "text": [
      "Training Epoch 1:   0%|          | 0/24 [00:00<?, ?it/s]"
     ]
    },
    {
     "name": "stdout",
     "output_type": "stream",
     "text": [
      "32\n"
     ]
    },
    {
     "name": "stderr",
     "output_type": "stream",
     "text": [
      "INFO:root:\n",
      "INFO:root:Train Loss: 5.022024154663086 || Train accuracy: 0.0 Batch №: 1\n",
      "Training Epoch 1:   4%|▍         | 1/24 [00:17<06:39, 17.38s/it]"
     ]
    },
    {
     "name": "stdout",
     "output_type": "stream",
     "text": [
      "32\n"
     ]
    },
    {
     "name": "stderr",
     "output_type": "stream",
     "text": [
      "INFO:root:\n",
      "INFO:root:Train Loss: 5.022024154663086 || Train accuracy: 0.0 Batch №: 2\n",
      "Training Epoch 1:   8%|▊         | 2/24 [00:17<02:45,  7.52s/it]INFO:root:\n"
     ]
    },
    {
     "name": "stdout",
     "output_type": "stream",
     "text": [
      "32\n"
     ]
    },
    {
     "name": "stderr",
     "output_type": "stream",
     "text": [
      "INFO:root:Train Loss: 5.022024154663086 || Train accuracy: 0.0 Batch №: 3\n",
      "Training Epoch 1:  12%|█▎        | 3/24 [00:18<01:30,  4.30s/it]INFO:root:\n"
     ]
    },
    {
     "name": "stdout",
     "output_type": "stream",
     "text": [
      "32\n"
     ]
    },
    {
     "name": "stderr",
     "output_type": "stream",
     "text": [
      "INFO:root:Train Loss: 5.022024154663086 || Train accuracy: 0.0 Batch №: 4\n",
      "Training Epoch 1:  17%|█▋        | 4/24 [00:19<01:02,  3.15s/it]INFO:root:\n"
     ]
    },
    {
     "name": "stdout",
     "output_type": "stream",
     "text": [
      "32\n"
     ]
    },
    {
     "name": "stderr",
     "output_type": "stream",
     "text": [
      "INFO:root:Train Loss: 4.990774154663086 || Train accuracy: 3.125 Batch №: 5\n",
      "Training Epoch 1:  21%|██        | 5/24 [00:20<00:40,  2.15s/it]INFO:root:\n"
     ]
    },
    {
     "name": "stdout",
     "output_type": "stream",
     "text": [
      "32\n"
     ]
    },
    {
     "name": "stderr",
     "output_type": "stream",
     "text": [
      "INFO:root:Train Loss: 5.022024154663086 || Train accuracy: 0.0 Batch №: 6\n",
      "Training Epoch 1:  25%|██▌       | 6/24 [00:20<00:27,  1.55s/it]INFO:root:\n"
     ]
    },
    {
     "name": "stdout",
     "output_type": "stream",
     "text": [
      "32\n"
     ]
    },
    {
     "name": "stderr",
     "output_type": "stream",
     "text": [
      "INFO:root:Train Loss: 5.022024154663086 || Train accuracy: 0.0 Batch №: 7\n",
      "Training Epoch 1:  29%|██▉       | 7/24 [00:21<00:21,  1.29s/it]INFO:root:\n"
     ]
    },
    {
     "name": "stdout",
     "output_type": "stream",
     "text": [
      "32\n"
     ]
    },
    {
     "name": "stderr",
     "output_type": "stream",
     "text": [
      "INFO:root:Train Loss: 5.022024154663086 || Train accuracy: 0.0 Batch №: 8\n",
      "Training Epoch 1:  33%|███▎      | 8/24 [00:22<00:18,  1.13s/it]INFO:root:\n"
     ]
    },
    {
     "name": "stdout",
     "output_type": "stream",
     "text": [
      "32\n"
     ]
    },
    {
     "name": "stderr",
     "output_type": "stream",
     "text": [
      "INFO:root:Train Loss: 5.022024154663086 || Train accuracy: 0.0 Batch №: 9\n",
      "Training Epoch 1:  38%|███▊      | 9/24 [00:24<00:20,  1.40s/it]INFO:root:\n"
     ]
    },
    {
     "name": "stdout",
     "output_type": "stream",
     "text": [
      "32\n"
     ]
    },
    {
     "name": "stderr",
     "output_type": "stream",
     "text": [
      "INFO:root:Train Loss: 5.022024154663086 || Train accuracy: 0.0 Batch №: 10\n",
      "Training Epoch 1:  42%|████▏     | 10/24 [00:24<00:15,  1.09s/it]INFO:root:\n"
     ]
    },
    {
     "name": "stdout",
     "output_type": "stream",
     "text": [
      "32\n"
     ]
    },
    {
     "name": "stderr",
     "output_type": "stream",
     "text": [
      "INFO:root:Train Loss: 5.022024154663086 || Train accuracy: 0.0 Batch №: 11\n",
      "Training Epoch 1:  46%|████▌     | 11/24 [00:25<00:12,  1.04it/s]INFO:root:\n"
     ]
    },
    {
     "name": "stdout",
     "output_type": "stream",
     "text": [
      "32\n"
     ]
    },
    {
     "name": "stderr",
     "output_type": "stream",
     "text": [
      "INFO:root:Train Loss: 4.990774154663086 || Train accuracy: 3.125 Batch №: 12\n",
      "Training Epoch 1:  50%|█████     | 12/24 [00:25<00:09,  1.23it/s]INFO:root:\n"
     ]
    },
    {
     "name": "stdout",
     "output_type": "stream",
     "text": [
      "32\n"
     ]
    },
    {
     "name": "stderr",
     "output_type": "stream",
     "text": [
      "INFO:root:Train Loss: 4.990774154663086 || Train accuracy: 3.125 Batch №: 13\n",
      "Training Epoch 1:  54%|█████▍    | 13/24 [00:26<00:07,  1.46it/s]INFO:root:\n"
     ]
    },
    {
     "name": "stdout",
     "output_type": "stream",
     "text": [
      "32\n"
     ]
    },
    {
     "name": "stderr",
     "output_type": "stream",
     "text": [
      "INFO:root:Train Loss: 5.022024154663086 || Train accuracy: 0.0 Batch №: 14\n",
      "Training Epoch 1:  58%|█████▊    | 14/24 [00:26<00:05,  1.68it/s]INFO:root:\n"
     ]
    },
    {
     "name": "stdout",
     "output_type": "stream",
     "text": [
      "32\n"
     ]
    },
    {
     "name": "stderr",
     "output_type": "stream",
     "text": [
      "INFO:root:Train Loss: 5.022024154663086 || Train accuracy: 0.0 Batch №: 15\n",
      "Training Epoch 1:  62%|██████▎   | 15/24 [00:26<00:04,  1.87it/s]INFO:root:\n"
     ]
    },
    {
     "name": "stdout",
     "output_type": "stream",
     "text": [
      "32\n"
     ]
    },
    {
     "name": "stderr",
     "output_type": "stream",
     "text": [
      "INFO:root:Train Loss: 5.022024154663086 || Train accuracy: 0.0 Batch №: 16\n",
      "Training Epoch 1:  67%|██████▋   | 16/24 [00:27<00:03,  2.04it/s]INFO:root:\n"
     ]
    },
    {
     "name": "stdout",
     "output_type": "stream",
     "text": [
      "32\n"
     ]
    },
    {
     "name": "stderr",
     "output_type": "stream",
     "text": [
      "INFO:root:Train Loss: 4.928274154663086 || Train accuracy: 9.375 Batch №: 17\n",
      "Training Epoch 1:  71%|███████   | 17/24 [00:27<00:03,  2.17it/s]INFO:root:\n"
     ]
    },
    {
     "name": "stdout",
     "output_type": "stream",
     "text": [
      "32\n"
     ]
    },
    {
     "name": "stderr",
     "output_type": "stream",
     "text": [
      "INFO:root:Train Loss: 4.990774154663086 || Train accuracy: 3.125 Batch №: 18\n",
      "Training Epoch 1:  75%|███████▌  | 18/24 [00:28<00:02,  2.28it/s]INFO:root:\n"
     ]
    },
    {
     "name": "stdout",
     "output_type": "stream",
     "text": [
      "32\n"
     ]
    },
    {
     "name": "stderr",
     "output_type": "stream",
     "text": [
      "INFO:root:Train Loss: 4.990774154663086 || Train accuracy: 3.125 Batch №: 19\n",
      "Training Epoch 1:  79%|███████▉  | 19/24 [00:28<00:02,  2.36it/s]INFO:root:\n"
     ]
    },
    {
     "name": "stdout",
     "output_type": "stream",
     "text": [
      "32\n"
     ]
    },
    {
     "name": "stderr",
     "output_type": "stream",
     "text": [
      "INFO:root:Train Loss: 5.022024154663086 || Train accuracy: 0.0 Batch №: 20\n",
      "Training Epoch 1:  83%|████████▎ | 20/24 [00:28<00:01,  2.41it/s]INFO:root:\n"
     ]
    },
    {
     "name": "stdout",
     "output_type": "stream",
     "text": [
      "32\n"
     ]
    },
    {
     "name": "stderr",
     "output_type": "stream",
     "text": [
      "INFO:root:Train Loss: 5.022024154663086 || Train accuracy: 0.0 Batch №: 21\n",
      "Training Epoch 1:  88%|████████▊ | 21/24 [00:29<00:01,  2.46it/s]INFO:root:\n"
     ]
    },
    {
     "name": "stdout",
     "output_type": "stream",
     "text": [
      "32\n"
     ]
    },
    {
     "name": "stderr",
     "output_type": "stream",
     "text": [
      "INFO:root:Train Loss: 5.022024154663086 || Train accuracy: 0.0 Batch №: 22\n",
      "Training Epoch 1:  92%|█████████▏| 22/24 [00:29<00:00,  2.49it/s]INFO:root:\n"
     ]
    },
    {
     "name": "stdout",
     "output_type": "stream",
     "text": [
      "32\n"
     ]
    },
    {
     "name": "stderr",
     "output_type": "stream",
     "text": [
      "INFO:root:Train Loss: 5.022024154663086 || Train accuracy: 0.0 Batch №: 23\n",
      "Training Epoch 1:  96%|█████████▌| 23/24 [00:29<00:00,  2.50it/s]INFO:root:\n"
     ]
    },
    {
     "name": "stdout",
     "output_type": "stream",
     "text": [
      "29\n"
     ]
    },
    {
     "name": "stderr",
     "output_type": "stream",
     "text": [
      "INFO:root:Train Loss: 5.022024631500244 || Train accuracy: 0.0 Batch №: 24\n",
      "Training Epoch 1: 100%|██████████| 24/24 [00:34<00:00,  1.45s/it]\n",
      "INFO:root:Mean Train Loss: 5.0116075078646345 || Mean Train acc: 1.0416666666666667\n",
      "Testing Epoch 1:   0%|          | 0/10 [00:00<?, ?it/s]"
     ]
    },
    {
     "name": "stdout",
     "output_type": "stream",
     "text": [
      "32\n"
     ]
    },
    {
     "name": "stderr",
     "output_type": "stream",
     "text": [
      "INFO:root:\n",
      "INFO:root:Test Loss: 5.022024154663086 || Test accuracy: 0.0 Batch №: 1\n",
      "Testing Epoch 1:  10%|█         | 1/10 [00:22<03:25, 22.85s/it]INFO:root:\n",
      "INFO:root:Test Loss: 5.022024154663086 || Test accuracy: 0.0 Batch №: 2\n",
      "Testing Epoch 1:  20%|██        | 2/10 [00:23<01:15,  9.50s/it]"
     ]
    },
    {
     "name": "stdout",
     "output_type": "stream",
     "text": [
      "32\n"
     ]
    },
    {
     "name": "stderr",
     "output_type": "stream",
     "text": [
      "INFO:root:\n",
      "INFO:root:Test Loss: 5.022024154663086 || Test accuracy: 0.0 Batch №: 3\n",
      "Testing Epoch 1:  30%|███       | 3/10 [00:26<00:47,  6.83s/it]"
     ]
    },
    {
     "name": "stdout",
     "output_type": "stream",
     "text": [
      "32\n",
      "32\n"
     ]
    },
    {
     "name": "stderr",
     "output_type": "stream",
     "text": [
      "INFO:root:\n",
      "INFO:root:Test Loss: 5.022024154663086 || Test accuracy: 0.0 Batch №: 4\n",
      "Testing Epoch 1:  40%|████      | 4/10 [00:26<00:25,  4.20s/it]INFO:root:\n",
      "INFO:root:Test Loss: 4.959524154663086 || Test accuracy: 6.25 Batch №: 5\n",
      "Testing Epoch 1:  50%|█████     | 5/10 [00:26<00:13,  2.73s/it]"
     ]
    },
    {
     "name": "stdout",
     "output_type": "stream",
     "text": [
      "32\n",
      "32\n"
     ]
    },
    {
     "name": "stderr",
     "output_type": "stream",
     "text": [
      "INFO:root:\n",
      "INFO:root:Test Loss: 5.022024154663086 || Test accuracy: 0.0 Batch №: 6\n",
      "Testing Epoch 1:  60%|██████    | 6/10 [00:27<00:07,  1.85s/it]INFO:root:\n",
      "INFO:root:Test Loss: 5.022024154663086 || Test accuracy: 0.0 Batch №: 7\n",
      "Testing Epoch 1:  70%|███████   | 7/10 [00:27<00:04,  1.54s/it]"
     ]
    },
    {
     "name": "stdout",
     "output_type": "stream",
     "text": [
      "32\n",
      "32\n"
     ]
    },
    {
     "name": "stderr",
     "output_type": "stream",
     "text": [
      "INFO:root:\n",
      "INFO:root:Test Loss: 5.022024154663086 || Test accuracy: 0.0 Batch №: 8\n",
      "Testing Epoch 1:  80%|████████  | 8/10 [00:28<00:02,  1.09s/it]INFO:root:\n",
      "INFO:root:Test Loss: 5.022024154663086 || Test accuracy: 0.0 Batch №: 9\n",
      "Testing Epoch 1:  90%|█████████ | 9/10 [00:29<00:01,  1.13s/it]"
     ]
    },
    {
     "name": "stdout",
     "output_type": "stream",
     "text": [
      "32\n"
     ]
    },
    {
     "name": "stderr",
     "output_type": "stream",
     "text": [
      "INFO:root:\n",
      "INFO:root:Test Loss: 5.0220255851745605 || Test accuracy: 0.0 Batch №: 10\n",
      "Testing Epoch 1: 100%|██████████| 10/10 [00:30<00:00,  1.03s/it]"
     ]
    },
    {
     "name": "stdout",
     "output_type": "stream",
     "text": [
      "26\n"
     ]
    },
    {
     "name": "stderr",
     "output_type": "stream",
     "text": [
      "Testing Epoch 1: 100%|██████████| 10/10 [00:34<00:00,  3.46s/it]\n",
      "INFO:root:Mean Train Loss: 5.015774297714233 || Mean Train acc: 0.625\n",
      "Training Epoch 2:   0%|          | 0/24 [00:00<?, ?it/s]"
     ]
    },
    {
     "name": "stdout",
     "output_type": "stream",
     "text": [
      "32\n"
     ]
    },
    {
     "name": "stderr",
     "output_type": "stream",
     "text": [
      "INFO:root:\n",
      "INFO:root:Train Loss: 5.022024154663086 || Train accuracy: 0.0 Batch №: 1\n",
      "Training Epoch 2:   4%|▍         | 1/24 [00:12<04:36, 12.03s/it]INFO:root:\n"
     ]
    },
    {
     "name": "stdout",
     "output_type": "stream",
     "text": [
      "32\n"
     ]
    },
    {
     "name": "stderr",
     "output_type": "stream",
     "text": [
      "INFO:root:Train Loss: 5.022024154663086 || Train accuracy: 0.0 Batch №: 2\n",
      "Training Epoch 2:   8%|▊         | 2/24 [00:13<02:04,  5.68s/it]INFO:root:\n"
     ]
    },
    {
     "name": "stdout",
     "output_type": "stream",
     "text": [
      "32\n"
     ]
    },
    {
     "name": "stderr",
     "output_type": "stream",
     "text": [
      "INFO:root:Train Loss: 5.022024154663086 || Train accuracy: 0.0 Batch №: 3\n",
      "Training Epoch 2:  12%|█▎        | 3/24 [00:13<01:08,  3.27s/it]INFO:root:\n"
     ]
    },
    {
     "name": "stdout",
     "output_type": "stream",
     "text": [
      "32\n"
     ]
    },
    {
     "name": "stderr",
     "output_type": "stream",
     "text": [
      "INFO:root:Train Loss: 5.022024154663086 || Train accuracy: 0.0 Batch №: 4\n",
      "Training Epoch 2:  17%|█▋        | 4/24 [00:14<00:42,  2.14s/it]INFO:root:\n"
     ]
    },
    {
     "name": "stdout",
     "output_type": "stream",
     "text": [
      "32\n"
     ]
    },
    {
     "name": "stderr",
     "output_type": "stream",
     "text": [
      "INFO:root:Train Loss: 5.022024154663086 || Train accuracy: 0.0 Batch №: 5\n",
      "Training Epoch 2:  21%|██        | 5/24 [00:14<00:28,  1.51s/it]INFO:root:\n"
     ]
    },
    {
     "name": "stdout",
     "output_type": "stream",
     "text": [
      "32\n"
     ]
    },
    {
     "name": "stderr",
     "output_type": "stream",
     "text": [
      "INFO:root:Train Loss: 5.022024154663086 || Train accuracy: 0.0 Batch №: 6\n",
      "Training Epoch 2:  25%|██▌       | 6/24 [00:15<00:23,  1.32s/it]INFO:root:\n"
     ]
    },
    {
     "name": "stdout",
     "output_type": "stream",
     "text": [
      "32\n"
     ]
    },
    {
     "name": "stderr",
     "output_type": "stream",
     "text": [
      "INFO:root:Train Loss: 5.022024154663086 || Train accuracy: 0.0 Batch №: 7\n",
      "Training Epoch 2:  29%|██▉       | 7/24 [00:15<00:17,  1.02s/it]INFO:root:\n"
     ]
    },
    {
     "name": "stdout",
     "output_type": "stream",
     "text": [
      "32\n"
     ]
    },
    {
     "name": "stderr",
     "output_type": "stream",
     "text": [
      "INFO:root:Train Loss: 4.990774154663086 || Train accuracy: 3.125 Batch №: 8\n",
      "Training Epoch 2:  33%|███▎      | 8/24 [00:16<00:15,  1.01it/s]INFO:root:\n"
     ]
    },
    {
     "name": "stdout",
     "output_type": "stream",
     "text": [
      "32\n"
     ]
    },
    {
     "name": "stderr",
     "output_type": "stream",
     "text": [
      "INFO:root:Train Loss: 5.022024154663086 || Train accuracy: 0.0 Batch №: 9\n",
      "Training Epoch 2:  38%|███▊      | 9/24 [00:17<00:15,  1.07s/it]INFO:root:\n"
     ]
    },
    {
     "name": "stdout",
     "output_type": "stream",
     "text": [
      "32\n"
     ]
    },
    {
     "name": "stderr",
     "output_type": "stream",
     "text": [
      "INFO:root:Train Loss: 4.959524154663086 || Train accuracy: 6.25 Batch №: 10\n",
      "Training Epoch 2:  42%|████▏     | 10/24 [00:18<00:13,  1.07it/s]INFO:root:\n"
     ]
    },
    {
     "name": "stdout",
     "output_type": "stream",
     "text": [
      "32\n"
     ]
    },
    {
     "name": "stderr",
     "output_type": "stream",
     "text": [
      "INFO:root:Train Loss: 5.022024154663086 || Train accuracy: 0.0 Batch №: 11\n",
      "Training Epoch 2:  46%|████▌     | 11/24 [00:19<00:11,  1.11it/s]INFO:root:\n"
     ]
    },
    {
     "name": "stdout",
     "output_type": "stream",
     "text": [
      "32\n"
     ]
    },
    {
     "name": "stderr",
     "output_type": "stream",
     "text": [
      "INFO:root:Train Loss: 4.990774154663086 || Train accuracy: 3.125 Batch №: 12\n",
      "Training Epoch 2:  50%|█████     | 12/24 [00:20<00:09,  1.25it/s]INFO:root:\n"
     ]
    },
    {
     "name": "stdout",
     "output_type": "stream",
     "text": [
      "32\n"
     ]
    },
    {
     "name": "stderr",
     "output_type": "stream",
     "text": [
      "INFO:root:Train Loss: 5.022024154663086 || Train accuracy: 0.0 Batch №: 13\n",
      "Training Epoch 2:  54%|█████▍    | 13/24 [00:20<00:07,  1.47it/s]INFO:root:\n"
     ]
    },
    {
     "name": "stdout",
     "output_type": "stream",
     "text": [
      "32\n"
     ]
    },
    {
     "name": "stderr",
     "output_type": "stream",
     "text": [
      "INFO:root:Train Loss: 5.022024154663086 || Train accuracy: 0.0 Batch №: 14\n",
      "Training Epoch 2:  58%|█████▊    | 14/24 [00:20<00:05,  1.68it/s]INFO:root:\n"
     ]
    },
    {
     "name": "stdout",
     "output_type": "stream",
     "text": [
      "32\n"
     ]
    },
    {
     "name": "stderr",
     "output_type": "stream",
     "text": [
      "INFO:root:Train Loss: 5.022024154663086 || Train accuracy: 0.0 Batch №: 15\n",
      "Training Epoch 2:  62%|██████▎   | 15/24 [00:21<00:04,  1.87it/s]INFO:root:\n"
     ]
    },
    {
     "name": "stdout",
     "output_type": "stream",
     "text": [
      "32\n"
     ]
    },
    {
     "name": "stderr",
     "output_type": "stream",
     "text": [
      "INFO:root:Train Loss: 4.990774154663086 || Train accuracy: 3.125 Batch №: 16\n",
      "Training Epoch 2:  67%|██████▋   | 16/24 [00:21<00:03,  2.03it/s]INFO:root:\n"
     ]
    },
    {
     "name": "stdout",
     "output_type": "stream",
     "text": [
      "32\n"
     ]
    },
    {
     "name": "stderr",
     "output_type": "stream",
     "text": [
      "INFO:root:Train Loss: 5.022024154663086 || Train accuracy: 0.0 Batch №: 17\n",
      "Training Epoch 2:  71%|███████   | 17/24 [00:21<00:03,  2.16it/s]INFO:root:\n"
     ]
    },
    {
     "name": "stdout",
     "output_type": "stream",
     "text": [
      "32\n"
     ]
    },
    {
     "name": "stderr",
     "output_type": "stream",
     "text": [
      "INFO:root:Train Loss: 5.022024154663086 || Train accuracy: 0.0 Batch №: 18\n",
      "Training Epoch 2:  75%|███████▌  | 18/24 [00:22<00:02,  2.27it/s]INFO:root:\n"
     ]
    },
    {
     "name": "stdout",
     "output_type": "stream",
     "text": [
      "32\n"
     ]
    },
    {
     "name": "stderr",
     "output_type": "stream",
     "text": [
      "INFO:root:Train Loss: 5.022024154663086 || Train accuracy: 0.0 Batch №: 19\n",
      "Training Epoch 2:  79%|███████▉  | 19/24 [00:22<00:02,  2.36it/s]INFO:root:\n"
     ]
    },
    {
     "name": "stdout",
     "output_type": "stream",
     "text": [
      "32\n"
     ]
    },
    {
     "name": "stderr",
     "output_type": "stream",
     "text": [
      "INFO:root:Train Loss: 5.022024154663086 || Train accuracy: 0.0 Batch №: 20\n",
      "Training Epoch 2:  83%|████████▎ | 20/24 [00:23<00:01,  2.41it/s]INFO:root:\n"
     ]
    },
    {
     "name": "stdout",
     "output_type": "stream",
     "text": [
      "32\n"
     ]
    },
    {
     "name": "stderr",
     "output_type": "stream",
     "text": [
      "INFO:root:Train Loss: 4.990774154663086 || Train accuracy: 3.125 Batch №: 21\n",
      "Training Epoch 2:  88%|████████▊ | 21/24 [00:23<00:01,  2.46it/s]INFO:root:\n"
     ]
    },
    {
     "name": "stdout",
     "output_type": "stream",
     "text": [
      "32\n"
     ]
    },
    {
     "name": "stderr",
     "output_type": "stream",
     "text": [
      "INFO:root:Train Loss: 4.990774154663086 || Train accuracy: 3.125 Batch №: 22\n",
      "Training Epoch 2:  92%|█████████▏| 22/24 [00:23<00:00,  2.50it/s]INFO:root:\n"
     ]
    },
    {
     "name": "stdout",
     "output_type": "stream",
     "text": [
      "32\n"
     ]
    },
    {
     "name": "stderr",
     "output_type": "stream",
     "text": [
      "INFO:root:Train Loss: 5.022024154663086 || Train accuracy: 0.0 Batch №: 23\n",
      "Training Epoch 2:  96%|█████████▌| 23/24 [00:24<00:00,  2.52it/s]INFO:root:\n"
     ]
    },
    {
     "name": "stdout",
     "output_type": "stream",
     "text": [
      "29\n"
     ]
    },
    {
     "name": "stderr",
     "output_type": "stream",
     "text": [
      "INFO:root:Train Loss: 4.987542152404785 || Train accuracy: 3.4482758620689653 Batch №: 24\n",
      "Training Epoch 2: 100%|██████████| 24/24 [00:28<00:00,  1.20s/it]\n",
      "INFO:root:Mean Train Loss: 5.011472821235657 || Mean Train acc: 1.0551364942528736\n",
      "Testing Epoch 2:   0%|          | 0/10 [00:00<?, ?it/s]INFO:root:\n",
      "INFO:root:Test Loss: 5.022024154663086 || Test accuracy: 0.0 Batch №: 1\n",
      "Testing Epoch 2:  10%|█         | 1/10 [00:20<03:05, 20.62s/it]"
     ]
    },
    {
     "name": "stdout",
     "output_type": "stream",
     "text": [
      "32\n",
      "32\n"
     ]
    },
    {
     "name": "stderr",
     "output_type": "stream",
     "text": [
      "INFO:root:\n",
      "INFO:root:Test Loss: 5.022024154663086 || Test accuracy: 0.0 Batch №: 2\n",
      "Testing Epoch 2:  20%|██        | 2/10 [00:20<01:08,  8.57s/it]INFO:root:\n",
      "INFO:root:Test Loss: 5.022024154663086 || Test accuracy: 0.0 Batch №: 3\n",
      "Testing Epoch 2:  30%|███       | 3/10 [00:20<00:33,  4.72s/it]"
     ]
    },
    {
     "name": "stdout",
     "output_type": "stream",
     "text": [
      "32\n",
      "32\n"
     ]
    },
    {
     "name": "stderr",
     "output_type": "stream",
     "text": [
      "INFO:root:\n",
      "INFO:root:Test Loss: 5.022024154663086 || Test accuracy: 0.0 Batch №: 4\n",
      "Testing Epoch 2:  40%|████      | 4/10 [00:21<00:17,  2.91s/it]INFO:root:\n",
      "INFO:root:Test Loss: 4.959524154663086 || Test accuracy: 6.25 Batch №: 5\n",
      "Testing Epoch 2:  50%|█████     | 5/10 [00:21<00:09,  1.92s/it]"
     ]
    },
    {
     "name": "stdout",
     "output_type": "stream",
     "text": [
      "32\n",
      "32\n"
     ]
    },
    {
     "name": "stderr",
     "output_type": "stream",
     "text": [
      "INFO:root:\n",
      "INFO:root:Test Loss: 5.022024154663086 || Test accuracy: 0.0 Batch №: 6\n",
      "Testing Epoch 2:  60%|██████    | 6/10 [00:21<00:05,  1.31s/it]INFO:root:\n",
      "INFO:root:Test Loss: 5.022024154663086 || Test accuracy: 0.0 Batch №: 7\n",
      "Testing Epoch 2:  70%|███████   | 7/10 [00:22<00:03,  1.12s/it]"
     ]
    },
    {
     "name": "stdout",
     "output_type": "stream",
     "text": [
      "32\n",
      "32\n"
     ]
    },
    {
     "name": "stderr",
     "output_type": "stream",
     "text": [
      "INFO:root:\n",
      "INFO:root:Test Loss: 5.022024154663086 || Test accuracy: 0.0 Batch №: 8\n",
      "Testing Epoch 2:  80%|████████  | 8/10 [00:22<00:01,  1.24it/s]INFO:root:\n",
      "INFO:root:Test Loss: 5.022024154663086 || Test accuracy: 0.0 Batch №: 9\n",
      "Testing Epoch 2:  90%|█████████ | 9/10 [00:22<00:00,  1.67it/s]"
     ]
    },
    {
     "name": "stdout",
     "output_type": "stream",
     "text": [
      "32\n",
      "26\n"
     ]
    },
    {
     "name": "stderr",
     "output_type": "stream",
     "text": [
      "INFO:root:\n",
      "INFO:root:Test Loss: 5.0220255851745605 || Test accuracy: 0.0 Batch №: 10\n",
      "Testing Epoch 2: 100%|██████████| 10/10 [00:27<00:00,  2.73s/it]\n",
      "INFO:root:Mean Train Loss: 5.015774297714233 || Mean Train acc: 0.625\n",
      "Training Epoch 3:   0%|          | 0/24 [00:00<?, ?it/s]"
     ]
    },
    {
     "name": "stdout",
     "output_type": "stream",
     "text": [
      "32\n"
     ]
    },
    {
     "name": "stderr",
     "output_type": "stream",
     "text": [
      "INFO:root:\n",
      "INFO:root:Train Loss: 5.022024154663086 || Train accuracy: 0.0 Batch №: 1\n",
      "Training Epoch 3:   4%|▍         | 1/24 [00:15<05:53, 15.36s/it]INFO:root:\n"
     ]
    },
    {
     "name": "stdout",
     "output_type": "stream",
     "text": [
      "32\n"
     ]
    },
    {
     "name": "stderr",
     "output_type": "stream",
     "text": [
      "INFO:root:Train Loss: 5.022024154663086 || Train accuracy: 0.0 Batch №: 2\n",
      "Training Epoch 3:   8%|▊         | 2/24 [00:15<02:24,  6.56s/it]INFO:root:\n"
     ]
    },
    {
     "name": "stdout",
     "output_type": "stream",
     "text": [
      "32\n"
     ]
    },
    {
     "name": "stderr",
     "output_type": "stream",
     "text": [
      "INFO:root:Train Loss: 5.022024154663086 || Train accuracy: 0.0 Batch №: 3\n",
      "Training Epoch 3:  12%|█▎        | 3/24 [00:16<01:18,  3.75s/it]INFO:root:\n"
     ]
    },
    {
     "name": "stdout",
     "output_type": "stream",
     "text": [
      "32\n"
     ]
    },
    {
     "name": "stderr",
     "output_type": "stream",
     "text": [
      "INFO:root:Train Loss: 4.990774154663086 || Train accuracy: 3.125 Batch №: 4\n",
      "Training Epoch 3:  17%|█▋        | 4/24 [00:16<00:48,  2.43s/it]INFO:root:\n"
     ]
    },
    {
     "name": "stdout",
     "output_type": "stream",
     "text": [
      "32\n"
     ]
    },
    {
     "name": "stderr",
     "output_type": "stream",
     "text": [
      "INFO:root:Train Loss: 5.022024154663086 || Train accuracy: 0.0 Batch №: 5\n",
      "Training Epoch 3:  21%|██        | 5/24 [00:16<00:32,  1.69s/it]INFO:root:\n"
     ]
    },
    {
     "name": "stdout",
     "output_type": "stream",
     "text": [
      "32\n"
     ]
    },
    {
     "name": "stderr",
     "output_type": "stream",
     "text": [
      "INFO:root:Train Loss: 5.022024154663086 || Train accuracy: 0.0 Batch №: 6\n",
      "Training Epoch 3:  25%|██▌       | 6/24 [00:17<00:22,  1.25s/it]INFO:root:\n"
     ]
    },
    {
     "name": "stdout",
     "output_type": "stream",
     "text": [
      "32\n"
     ]
    },
    {
     "name": "stderr",
     "output_type": "stream",
     "text": [
      "INFO:root:Train Loss: 5.022024154663086 || Train accuracy: 0.0 Batch №: 7\n",
      "Training Epoch 3:  29%|██▉       | 7/24 [00:17<00:16,  1.03it/s]INFO:root:\n"
     ]
    },
    {
     "name": "stdout",
     "output_type": "stream",
     "text": [
      "32\n"
     ]
    },
    {
     "name": "stderr",
     "output_type": "stream",
     "text": [
      "INFO:root:Train Loss: 4.990774154663086 || Train accuracy: 3.125 Batch №: 8\n",
      "Training Epoch 3:  33%|███▎      | 8/24 [00:18<00:14,  1.14it/s]INFO:root:\n"
     ]
    },
    {
     "name": "stdout",
     "output_type": "stream",
     "text": [
      "32\n"
     ]
    },
    {
     "name": "stderr",
     "output_type": "stream",
     "text": [
      "INFO:root:Train Loss: 5.022024154663086 || Train accuracy: 0.0 Batch №: 9\n",
      "Training Epoch 3:  38%|███▊      | 9/24 [00:18<00:10,  1.37it/s]INFO:root:\n"
     ]
    },
    {
     "name": "stdout",
     "output_type": "stream",
     "text": [
      "32\n"
     ]
    },
    {
     "name": "stderr",
     "output_type": "stream",
     "text": [
      "INFO:root:Train Loss: 4.990774154663086 || Train accuracy: 3.125 Batch №: 10\n",
      "Training Epoch 3:  42%|████▏     | 10/24 [00:20<00:15,  1.14s/it]INFO:root:\n"
     ]
    },
    {
     "name": "stdout",
     "output_type": "stream",
     "text": [
      "32\n"
     ]
    },
    {
     "name": "stderr",
     "output_type": "stream",
     "text": [
      "INFO:root:Train Loss: 5.022024154663086 || Train accuracy: 0.0 Batch №: 11\n",
      "Training Epoch 3:  46%|████▌     | 11/24 [00:21<00:12,  1.04it/s]INFO:root:\n"
     ]
    },
    {
     "name": "stdout",
     "output_type": "stream",
     "text": [
      "32\n"
     ]
    },
    {
     "name": "stderr",
     "output_type": "stream",
     "text": [
      "INFO:root:Train Loss: 4.959524154663086 || Train accuracy: 6.25 Batch №: 12\n",
      "Training Epoch 3:  50%|█████     | 12/24 [00:22<00:10,  1.11it/s]INFO:root:\n"
     ]
    },
    {
     "name": "stdout",
     "output_type": "stream",
     "text": [
      "32\n"
     ]
    },
    {
     "name": "stderr",
     "output_type": "stream",
     "text": [
      "INFO:root:Train Loss: 4.990774154663086 || Train accuracy: 3.125 Batch №: 13\n",
      "Training Epoch 3:  54%|█████▍    | 13/24 [00:22<00:08,  1.34it/s]INFO:root:\n"
     ]
    },
    {
     "name": "stdout",
     "output_type": "stream",
     "text": [
      "32\n"
     ]
    },
    {
     "name": "stderr",
     "output_type": "stream",
     "text": [
      "INFO:root:Train Loss: 5.022024154663086 || Train accuracy: 0.0 Batch №: 14\n",
      "Training Epoch 3:  58%|█████▊    | 14/24 [00:22<00:06,  1.57it/s]INFO:root:\n"
     ]
    },
    {
     "name": "stdout",
     "output_type": "stream",
     "text": [
      "32\n"
     ]
    },
    {
     "name": "stderr",
     "output_type": "stream",
     "text": [
      "INFO:root:Train Loss: 4.990774154663086 || Train accuracy: 3.125 Batch №: 15\n",
      "Training Epoch 3:  62%|██████▎   | 15/24 [00:23<00:05,  1.77it/s]INFO:root:\n"
     ]
    },
    {
     "name": "stdout",
     "output_type": "stream",
     "text": [
      "32\n"
     ]
    },
    {
     "name": "stderr",
     "output_type": "stream",
     "text": [
      "INFO:root:Train Loss: 5.022024154663086 || Train accuracy: 0.0 Batch №: 16\n",
      "Training Epoch 3:  67%|██████▋   | 16/24 [00:23<00:04,  1.95it/s]INFO:root:\n"
     ]
    },
    {
     "name": "stdout",
     "output_type": "stream",
     "text": [
      "32\n"
     ]
    },
    {
     "name": "stderr",
     "output_type": "stream",
     "text": [
      "INFO:root:Train Loss: 5.022024154663086 || Train accuracy: 0.0 Batch №: 17\n",
      "Training Epoch 3:  71%|███████   | 17/24 [00:24<00:03,  2.11it/s]INFO:root:\n"
     ]
    },
    {
     "name": "stdout",
     "output_type": "stream",
     "text": [
      "32\n"
     ]
    },
    {
     "name": "stderr",
     "output_type": "stream",
     "text": [
      "INFO:root:Train Loss: 5.022024154663086 || Train accuracy: 0.0 Batch №: 18\n",
      "Training Epoch 3:  75%|███████▌  | 18/24 [00:24<00:02,  2.23it/s]INFO:root:\n"
     ]
    },
    {
     "name": "stdout",
     "output_type": "stream",
     "text": [
      "32\n"
     ]
    },
    {
     "name": "stderr",
     "output_type": "stream",
     "text": [
      "INFO:root:Train Loss: 5.022024154663086 || Train accuracy: 0.0 Batch №: 19\n",
      "Training Epoch 3:  79%|███████▉  | 19/24 [00:24<00:02,  2.33it/s]INFO:root:\n"
     ]
    },
    {
     "name": "stdout",
     "output_type": "stream",
     "text": [
      "32\n"
     ]
    },
    {
     "name": "stderr",
     "output_type": "stream",
     "text": [
      "INFO:root:Train Loss: 5.022024154663086 || Train accuracy: 0.0 Batch №: 20\n",
      "Training Epoch 3:  83%|████████▎ | 20/24 [00:25<00:01,  2.41it/s]INFO:root:\n"
     ]
    },
    {
     "name": "stdout",
     "output_type": "stream",
     "text": [
      "32\n"
     ]
    },
    {
     "name": "stderr",
     "output_type": "stream",
     "text": [
      "INFO:root:Train Loss: 5.022024154663086 || Train accuracy: 0.0 Batch №: 21\n",
      "Training Epoch 3:  88%|████████▊ | 21/24 [00:25<00:01,  2.47it/s]INFO:root:\n"
     ]
    },
    {
     "name": "stdout",
     "output_type": "stream",
     "text": [
      "32\n"
     ]
    },
    {
     "name": "stderr",
     "output_type": "stream",
     "text": [
      "INFO:root:Train Loss: 5.022024154663086 || Train accuracy: 0.0 Batch №: 22\n",
      "Training Epoch 3:  92%|█████████▏| 22/24 [00:26<00:00,  2.51it/s]INFO:root:\n"
     ]
    },
    {
     "name": "stdout",
     "output_type": "stream",
     "text": [
      "32\n"
     ]
    },
    {
     "name": "stderr",
     "output_type": "stream",
     "text": [
      "INFO:root:Train Loss: 5.022024154663086 || Train accuracy: 0.0 Batch №: 23\n",
      "Training Epoch 3:  96%|█████████▌| 23/24 [00:26<00:00,  2.53it/s]INFO:root:\n"
     ]
    },
    {
     "name": "stdout",
     "output_type": "stream",
     "text": [
      "29\n"
     ]
    },
    {
     "name": "stderr",
     "output_type": "stream",
     "text": [
      "INFO:root:Train Loss: 4.987542152404785 || Train accuracy: 3.4482758620689653 Batch №: 24\n",
      "Training Epoch 3: 100%|██████████| 24/24 [00:30<00:00,  1.28s/it]\n",
      "INFO:root:Mean Train Loss: 5.011472821235657 || Mean Train acc: 1.0551364942528736\n",
      "Testing Epoch 3:   0%|          | 0/10 [00:00<?, ?it/s]"
     ]
    },
    {
     "name": "stdout",
     "output_type": "stream",
     "text": [
      "32\n"
     ]
    },
    {
     "name": "stderr",
     "output_type": "stream",
     "text": [
      "INFO:root:\n",
      "INFO:root:Test Loss: 5.022024154663086 || Test accuracy: 0.0 Batch №: 1\n",
      "Testing Epoch 3:  10%|█         | 1/10 [00:20<03:00, 20.09s/it]INFO:root:\n",
      "INFO:root:Test Loss: 5.022024154663086 || Test accuracy: 0.0 Batch №: 2\n",
      "Testing Epoch 3:  20%|██        | 2/10 [00:20<01:06,  8.36s/it]"
     ]
    },
    {
     "name": "stdout",
     "output_type": "stream",
     "text": [
      "32\n",
      "32\n"
     ]
    },
    {
     "name": "stderr",
     "output_type": "stream",
     "text": [
      "INFO:root:\n",
      "INFO:root:Test Loss: 5.022024154663086 || Test accuracy: 0.0 Batch №: 3\n",
      "Testing Epoch 3:  30%|███       | 3/10 [00:20<00:32,  4.61s/it]INFO:root:\n",
      "INFO:root:Test Loss: 5.022024154663086 || Test accuracy: 0.0 Batch №: 4\n",
      "Testing Epoch 3:  40%|████      | 4/10 [00:20<00:17,  2.84s/it]"
     ]
    },
    {
     "name": "stdout",
     "output_type": "stream",
     "text": [
      "32\n",
      "32\n"
     ]
    },
    {
     "name": "stderr",
     "output_type": "stream",
     "text": [
      "INFO:root:\n",
      "INFO:root:Test Loss: 4.959524154663086 || Test accuracy: 6.25 Batch №: 5\n",
      "Testing Epoch 3:  50%|█████     | 5/10 [00:20<00:09,  1.87s/it]INFO:root:\n",
      "INFO:root:Test Loss: 5.022024154663086 || Test accuracy: 0.0 Batch №: 6\n",
      "Testing Epoch 3:  60%|██████    | 6/10 [00:21<00:05,  1.42s/it]"
     ]
    },
    {
     "name": "stdout",
     "output_type": "stream",
     "text": [
      "32\n"
     ]
    },
    {
     "name": "stderr",
     "output_type": "stream",
     "text": [
      "INFO:root:\n",
      "INFO:root:Test Loss: 5.022024154663086 || Test accuracy: 0.0 Batch №: 7\n",
      "Testing Epoch 3:  70%|███████   | 7/10 [00:21<00:03,  1.13s/it]"
     ]
    },
    {
     "name": "stdout",
     "output_type": "stream",
     "text": [
      "32\n"
     ]
    },
    {
     "name": "stderr",
     "output_type": "stream",
     "text": [
      "INFO:root:\n",
      "INFO:root:Test Loss: 5.022024154663086 || Test accuracy: 0.0 Batch №: 8\n",
      "Testing Epoch 3:  80%|████████  | 8/10 [00:23<00:02,  1.37s/it]"
     ]
    },
    {
     "name": "stdout",
     "output_type": "stream",
     "text": [
      "32\n",
      "32\n"
     ]
    },
    {
     "name": "stderr",
     "output_type": "stream",
     "text": [
      "INFO:root:\n",
      "INFO:root:Test Loss: 5.022024154663086 || Test accuracy: 0.0 Batch №: 9\n",
      "Testing Epoch 3:  90%|█████████ | 9/10 [00:23<00:00,  1.02it/s]INFO:root:\n",
      "INFO:root:Test Loss: 5.0220255851745605 || Test accuracy: 0.0 Batch №: 10\n",
      "Testing Epoch 3: 100%|██████████| 10/10 [00:24<00:00,  1.00s/it]"
     ]
    },
    {
     "name": "stdout",
     "output_type": "stream",
     "text": [
      "26\n"
     ]
    },
    {
     "name": "stderr",
     "output_type": "stream",
     "text": [
      "Testing Epoch 3: 100%|██████████| 10/10 [00:30<00:00,  3.02s/it]\n",
      "INFO:root:Mean Train Loss: 5.015774297714233 || Mean Train acc: 0.625\n",
      "Training Epoch 4:   0%|          | 0/24 [00:00<?, ?it/s]INFO:root:\n"
     ]
    },
    {
     "name": "stdout",
     "output_type": "stream",
     "text": [
      "32\n"
     ]
    },
    {
     "name": "stderr",
     "output_type": "stream",
     "text": [
      "INFO:root:Train Loss: 5.022024154663086 || Train accuracy: 0.0 Batch №: 1\n",
      "Training Epoch 4:   4%|▍         | 1/24 [00:17<06:40, 17.40s/it]INFO:root:\n"
     ]
    },
    {
     "name": "stdout",
     "output_type": "stream",
     "text": [
      "32\n"
     ]
    },
    {
     "name": "stderr",
     "output_type": "stream",
     "text": [
      "INFO:root:Train Loss: 4.959524154663086 || Train accuracy: 6.25 Batch №: 2\n",
      "Training Epoch 4:   8%|▊         | 2/24 [00:19<03:05,  8.44s/it]INFO:root:\n"
     ]
    },
    {
     "name": "stdout",
     "output_type": "stream",
     "text": [
      "32\n"
     ]
    },
    {
     "name": "stderr",
     "output_type": "stream",
     "text": [
      "INFO:root:Train Loss: 4.990774154663086 || Train accuracy: 3.125 Batch №: 3\n",
      "Training Epoch 4:  12%|█▎        | 3/24 [00:20<01:45,  5.02s/it]INFO:root:\n"
     ]
    },
    {
     "name": "stdout",
     "output_type": "stream",
     "text": [
      "32\n"
     ]
    },
    {
     "name": "stderr",
     "output_type": "stream",
     "text": [
      "INFO:root:Train Loss: 5.022024154663086 || Train accuracy: 0.0 Batch №: 4\n",
      "Training Epoch 4:  17%|█▋        | 4/24 [00:21<01:09,  3.48s/it]INFO:root:\n"
     ]
    },
    {
     "name": "stdout",
     "output_type": "stream",
     "text": [
      "32\n"
     ]
    },
    {
     "name": "stderr",
     "output_type": "stream",
     "text": [
      "INFO:root:Train Loss: 5.022024154663086 || Train accuracy: 0.0 Batch №: 5\n",
      "Training Epoch 4:  21%|██        | 5/24 [00:24<01:02,  3.29s/it]INFO:root:\n"
     ]
    },
    {
     "name": "stdout",
     "output_type": "stream",
     "text": [
      "32\n"
     ]
    },
    {
     "name": "stderr",
     "output_type": "stream",
     "text": [
      "INFO:root:Train Loss: 5.022024154663086 || Train accuracy: 0.0 Batch №: 6\n",
      "Training Epoch 4:  25%|██▌       | 6/24 [00:25<00:43,  2.40s/it]INFO:root:\n"
     ]
    },
    {
     "name": "stdout",
     "output_type": "stream",
     "text": [
      "32\n"
     ]
    },
    {
     "name": "stderr",
     "output_type": "stream",
     "text": [
      "INFO:root:Train Loss: 5.022024154663086 || Train accuracy: 0.0 Batch №: 7\n",
      "Training Epoch 4:  29%|██▉       | 7/24 [00:27<00:37,  2.19s/it]INFO:root:\n"
     ]
    },
    {
     "name": "stdout",
     "output_type": "stream",
     "text": [
      "32\n"
     ]
    },
    {
     "name": "stderr",
     "output_type": "stream",
     "text": [
      "INFO:root:Train Loss: 5.022024154663086 || Train accuracy: 0.0 Batch №: 8\n",
      "Training Epoch 4:  33%|███▎      | 8/24 [00:29<00:34,  2.15s/it]INFO:root:\n"
     ]
    },
    {
     "name": "stdout",
     "output_type": "stream",
     "text": [
      "32\n"
     ]
    },
    {
     "name": "stderr",
     "output_type": "stream",
     "text": [
      "INFO:root:Train Loss: 4.959524154663086 || Train accuracy: 6.25 Batch №: 9\n",
      "Training Epoch 4:  38%|███▊      | 9/24 [00:29<00:24,  1.60s/it]INFO:root:\n"
     ]
    },
    {
     "name": "stdout",
     "output_type": "stream",
     "text": [
      "32\n"
     ]
    },
    {
     "name": "stderr",
     "output_type": "stream",
     "text": [
      "INFO:root:Train Loss: 5.022024154663086 || Train accuracy: 0.0 Batch №: 10\n",
      "Training Epoch 4:  42%|████▏     | 10/24 [00:31<00:24,  1.78s/it]INFO:root:\n"
     ]
    },
    {
     "name": "stdout",
     "output_type": "stream",
     "text": [
      "32\n"
     ]
    },
    {
     "name": "stderr",
     "output_type": "stream",
     "text": [
      "INFO:root:Train Loss: 5.022024154663086 || Train accuracy: 0.0 Batch №: 11\n",
      "Training Epoch 4:  46%|████▌     | 11/24 [00:32<00:19,  1.49s/it]INFO:root:\n"
     ]
    },
    {
     "name": "stdout",
     "output_type": "stream",
     "text": [
      "32\n"
     ]
    },
    {
     "name": "stderr",
     "output_type": "stream",
     "text": [
      "INFO:root:Train Loss: 5.022024154663086 || Train accuracy: 0.0 Batch №: 12\n",
      "Training Epoch 4:  50%|█████     | 12/24 [00:32<00:13,  1.15s/it]INFO:root:\n"
     ]
    },
    {
     "name": "stdout",
     "output_type": "stream",
     "text": [
      "32\n"
     ]
    },
    {
     "name": "stderr",
     "output_type": "stream",
     "text": [
      "INFO:root:Train Loss: 5.022024154663086 || Train accuracy: 0.0 Batch №: 13\n",
      "Training Epoch 4:  54%|█████▍    | 13/24 [00:33<00:10,  1.08it/s]INFO:root:\n"
     ]
    },
    {
     "name": "stdout",
     "output_type": "stream",
     "text": [
      "32\n"
     ]
    },
    {
     "name": "stderr",
     "output_type": "stream",
     "text": [
      "INFO:root:Train Loss: 4.990774154663086 || Train accuracy: 3.125 Batch №: 14\n",
      "Training Epoch 4:  58%|█████▊    | 14/24 [00:33<00:07,  1.30it/s]INFO:root:\n"
     ]
    },
    {
     "name": "stdout",
     "output_type": "stream",
     "text": [
      "32\n"
     ]
    },
    {
     "name": "stderr",
     "output_type": "stream",
     "text": [
      "INFO:root:Train Loss: 5.022024154663086 || Train accuracy: 0.0 Batch №: 15\n",
      "Training Epoch 4:  62%|██████▎   | 15/24 [00:34<00:05,  1.52it/s]INFO:root:\n"
     ]
    },
    {
     "name": "stdout",
     "output_type": "stream",
     "text": [
      "32\n"
     ]
    },
    {
     "name": "stderr",
     "output_type": "stream",
     "text": [
      "INFO:root:Train Loss: 5.022024154663086 || Train accuracy: 0.0 Batch №: 16\n",
      "Training Epoch 4:  67%|██████▋   | 16/24 [00:34<00:04,  1.72it/s]INFO:root:\n"
     ]
    },
    {
     "name": "stdout",
     "output_type": "stream",
     "text": [
      "32\n"
     ]
    },
    {
     "name": "stderr",
     "output_type": "stream",
     "text": [
      "INFO:root:Train Loss: 5.022024154663086 || Train accuracy: 0.0 Batch №: 17\n",
      "Training Epoch 4:  71%|███████   | 17/24 [00:34<00:03,  1.91it/s]INFO:root:\n"
     ]
    },
    {
     "name": "stdout",
     "output_type": "stream",
     "text": [
      "32\n"
     ]
    },
    {
     "name": "stderr",
     "output_type": "stream",
     "text": [
      "INFO:root:Train Loss: 5.022024154663086 || Train accuracy: 0.0 Batch №: 18\n",
      "Training Epoch 4:  75%|███████▌  | 18/24 [00:35<00:02,  2.02it/s]INFO:root:\n"
     ]
    },
    {
     "name": "stdout",
     "output_type": "stream",
     "text": [
      "32\n"
     ]
    },
    {
     "name": "stderr",
     "output_type": "stream",
     "text": [
      "INFO:root:Train Loss: 5.022024154663086 || Train accuracy: 0.0 Batch №: 19\n",
      "Training Epoch 4:  79%|███████▉  | 19/24 [00:35<00:02,  2.14it/s]INFO:root:\n"
     ]
    },
    {
     "name": "stdout",
     "output_type": "stream",
     "text": [
      "32\n"
     ]
    },
    {
     "name": "stderr",
     "output_type": "stream",
     "text": [
      "INFO:root:Train Loss: 5.022024154663086 || Train accuracy: 0.0 Batch №: 20\n",
      "Training Epoch 4:  83%|████████▎ | 20/24 [00:36<00:01,  2.25it/s]INFO:root:\n"
     ]
    },
    {
     "name": "stdout",
     "output_type": "stream",
     "text": [
      "32\n"
     ]
    },
    {
     "name": "stderr",
     "output_type": "stream",
     "text": [
      "INFO:root:Train Loss: 5.022024154663086 || Train accuracy: 0.0 Batch №: 21\n",
      "Training Epoch 4:  88%|████████▊ | 21/24 [00:36<00:01,  2.27it/s]INFO:root:\n"
     ]
    },
    {
     "name": "stdout",
     "output_type": "stream",
     "text": [
      "32\n"
     ]
    },
    {
     "name": "stderr",
     "output_type": "stream",
     "text": [
      "INFO:root:Train Loss: 4.990774154663086 || Train accuracy: 3.125 Batch №: 22\n",
      "Training Epoch 4:  92%|█████████▏| 22/24 [00:36<00:00,  2.34it/s]INFO:root:\n"
     ]
    },
    {
     "name": "stdout",
     "output_type": "stream",
     "text": [
      "32\n"
     ]
    },
    {
     "name": "stderr",
     "output_type": "stream",
     "text": [
      "INFO:root:Train Loss: 4.990774154663086 || Train accuracy: 3.125 Batch №: 23\n",
      "Training Epoch 4:  96%|█████████▌| 23/24 [00:37<00:00,  2.37it/s]INFO:root:\n"
     ]
    },
    {
     "name": "stdout",
     "output_type": "stream",
     "text": [
      "29\n"
     ]
    },
    {
     "name": "stderr",
     "output_type": "stream",
     "text": [
      "INFO:root:Train Loss: 5.022024631500244 || Train accuracy: 0.0 Batch №: 24\n",
      "Training Epoch 4: 100%|██████████| 24/24 [00:42<00:00,  1.75s/it]\n",
      "INFO:root:Mean Train Loss: 5.0116075078646345 || Mean Train acc: 1.0416666666666667\n",
      "Testing Epoch 4:   0%|          | 0/10 [00:00<?, ?it/s]"
     ]
    },
    {
     "name": "stdout",
     "output_type": "stream",
     "text": [
      "32\n"
     ]
    },
    {
     "name": "stderr",
     "output_type": "stream",
     "text": [
      "INFO:root:\n",
      "INFO:root:Test Loss: 5.022024154663086 || Test accuracy: 0.0 Batch №: 1\n",
      "Testing Epoch 4:  10%|█         | 1/10 [00:16<02:27, 16.40s/it]INFO:root:\n",
      "INFO:root:Test Loss: 5.022024154663086 || Test accuracy: 0.0 Batch №: 2\n",
      "Testing Epoch 4:  20%|██        | 2/10 [00:16<00:54,  6.84s/it]"
     ]
    },
    {
     "name": "stdout",
     "output_type": "stream",
     "text": [
      "32\n"
     ]
    },
    {
     "name": "stderr",
     "output_type": "stream",
     "text": [
      "INFO:root:\n",
      "INFO:root:Test Loss: 5.022024154663086 || Test accuracy: 0.0 Batch №: 3\n",
      "Testing Epoch 4:  30%|███       | 3/10 [00:18<00:31,  4.46s/it]"
     ]
    },
    {
     "name": "stdout",
     "output_type": "stream",
     "text": [
      "32\n",
      "32\n"
     ]
    },
    {
     "name": "stderr",
     "output_type": "stream",
     "text": [
      "INFO:root:\n",
      "INFO:root:Test Loss: 5.022024154663086 || Test accuracy: 0.0 Batch №: 4\n",
      "Testing Epoch 4:  40%|████      | 4/10 [00:18<00:16,  2.76s/it]INFO:root:\n",
      "INFO:root:Test Loss: 4.959524154663086 || Test accuracy: 6.25 Batch №: 5\n",
      "Testing Epoch 4:  50%|█████     | 5/10 [00:20<00:13,  2.69s/it]"
     ]
    },
    {
     "name": "stdout",
     "output_type": "stream",
     "text": [
      "32\n",
      "32\n"
     ]
    },
    {
     "name": "stderr",
     "output_type": "stream",
     "text": [
      "INFO:root:\n",
      "INFO:root:Test Loss: 5.022024154663086 || Test accuracy: 0.0 Batch №: 6\n",
      "Testing Epoch 4:  60%|██████    | 6/10 [00:21<00:07,  1.83s/it]INFO:root:\n",
      "INFO:root:Test Loss: 5.022024154663086 || Test accuracy: 0.0 Batch №: 7\n",
      "Testing Epoch 4:  70%|███████   | 7/10 [00:21<00:03,  1.28s/it]"
     ]
    },
    {
     "name": "stdout",
     "output_type": "stream",
     "text": [
      "32\n",
      "32\n"
     ]
    },
    {
     "name": "stderr",
     "output_type": "stream",
     "text": [
      "INFO:root:\n",
      "INFO:root:Test Loss: 5.022024154663086 || Test accuracy: 0.0 Batch №: 8\n",
      "Testing Epoch 4:  80%|████████  | 8/10 [00:21<00:01,  1.09it/s]INFO:root:\n",
      "INFO:root:Test Loss: 5.022024154663086 || Test accuracy: 0.0 Batch №: 9\n",
      "Testing Epoch 4:  90%|█████████ | 9/10 [00:22<00:00,  1.15it/s]"
     ]
    },
    {
     "name": "stdout",
     "output_type": "stream",
     "text": [
      "32\n"
     ]
    },
    {
     "name": "stderr",
     "output_type": "stream",
     "text": [
      "INFO:root:\n",
      "INFO:root:Test Loss: 5.0220255851745605 || Test accuracy: 0.0 Batch №: 10\n",
      "Testing Epoch 4: 100%|██████████| 10/10 [00:22<00:00,  1.24it/s]"
     ]
    },
    {
     "name": "stdout",
     "output_type": "stream",
     "text": [
      "26\n"
     ]
    },
    {
     "name": "stderr",
     "output_type": "stream",
     "text": [
      "Testing Epoch 4: 100%|██████████| 10/10 [00:26<00:00,  2.65s/it]\n",
      "INFO:root:Mean Train Loss: 5.015774297714233 || Mean Train acc: 0.625\n",
      "Training Epoch 5:   0%|          | 0/24 [00:00<?, ?it/s]INFO:root:\n"
     ]
    },
    {
     "name": "stdout",
     "output_type": "stream",
     "text": [
      "32\n"
     ]
    },
    {
     "name": "stderr",
     "output_type": "stream",
     "text": [
      "INFO:root:Train Loss: 4.990774154663086 || Train accuracy: 3.125 Batch №: 1\n",
      "Training Epoch 5:   4%|▍         | 1/24 [00:12<04:48, 12.54s/it]INFO:root:\n"
     ]
    },
    {
     "name": "stdout",
     "output_type": "stream",
     "text": [
      "32\n"
     ]
    },
    {
     "name": "stderr",
     "output_type": "stream",
     "text": [
      "INFO:root:Train Loss: 5.022024154663086 || Train accuracy: 0.0 Batch №: 2\n",
      "Training Epoch 5:   8%|▊         | 2/24 [00:13<02:01,  5.53s/it]INFO:root:\n"
     ]
    },
    {
     "name": "stdout",
     "output_type": "stream",
     "text": [
      "32\n"
     ]
    },
    {
     "name": "stderr",
     "output_type": "stream",
     "text": [
      "INFO:root:Train Loss: 5.022024154663086 || Train accuracy: 0.0 Batch №: 3\n",
      "Training Epoch 5:  12%|█▎        | 3/24 [00:13<01:06,  3.18s/it]INFO:root:\n"
     ]
    },
    {
     "name": "stdout",
     "output_type": "stream",
     "text": [
      "32\n"
     ]
    },
    {
     "name": "stderr",
     "output_type": "stream",
     "text": [
      "INFO:root:Train Loss: 5.022024154663086 || Train accuracy: 0.0 Batch №: 4\n",
      "Training Epoch 5:  17%|█▋        | 4/24 [00:13<00:41,  2.08s/it]INFO:root:\n"
     ]
    },
    {
     "name": "stdout",
     "output_type": "stream",
     "text": [
      "32\n"
     ]
    },
    {
     "name": "stderr",
     "output_type": "stream",
     "text": [
      "INFO:root:Train Loss: 5.022024154663086 || Train accuracy: 0.0 Batch №: 5\n",
      "Training Epoch 5:  21%|██        | 5/24 [00:14<00:28,  1.47s/it]INFO:root:\n"
     ]
    },
    {
     "name": "stdout",
     "output_type": "stream",
     "text": [
      "32\n"
     ]
    },
    {
     "name": "stderr",
     "output_type": "stream",
     "text": [
      "INFO:root:Train Loss: 4.990774154663086 || Train accuracy: 3.125 Batch №: 6\n",
      "Training Epoch 5:  25%|██▌       | 6/24 [00:14<00:20,  1.11s/it]INFO:root:\n"
     ]
    },
    {
     "name": "stdout",
     "output_type": "stream",
     "text": [
      "32\n"
     ]
    },
    {
     "name": "stderr",
     "output_type": "stream",
     "text": [
      "INFO:root:Train Loss: 4.990774154663086 || Train accuracy: 3.125 Batch №: 7\n",
      "Training Epoch 5:  29%|██▉       | 7/24 [00:15<00:14,  1.14it/s]INFO:root:\n"
     ]
    },
    {
     "name": "stdout",
     "output_type": "stream",
     "text": [
      "32\n"
     ]
    },
    {
     "name": "stderr",
     "output_type": "stream",
     "text": [
      "INFO:root:Train Loss: 5.022024154663086 || Train accuracy: 0.0 Batch №: 8\n",
      "Training Epoch 5:  33%|███▎      | 8/24 [00:15<00:11,  1.38it/s]INFO:root:\n"
     ]
    },
    {
     "name": "stdout",
     "output_type": "stream",
     "text": [
      "32\n"
     ]
    },
    {
     "name": "stderr",
     "output_type": "stream",
     "text": [
      "INFO:root:Train Loss: 5.022024154663086 || Train accuracy: 0.0 Batch №: 9\n",
      "Training Epoch 5:  38%|███▊      | 9/24 [00:15<00:09,  1.61it/s]INFO:root:\n"
     ]
    },
    {
     "name": "stdout",
     "output_type": "stream",
     "text": [
      "32\n"
     ]
    },
    {
     "name": "stderr",
     "output_type": "stream",
     "text": [
      "INFO:root:Train Loss: 5.022024154663086 || Train accuracy: 0.0 Batch №: 10\n",
      "Training Epoch 5:  42%|████▏     | 10/24 [00:16<00:07,  1.81it/s]INFO:root:\n"
     ]
    },
    {
     "name": "stdout",
     "output_type": "stream",
     "text": [
      "32\n"
     ]
    },
    {
     "name": "stderr",
     "output_type": "stream",
     "text": [
      "INFO:root:Train Loss: 5.022024154663086 || Train accuracy: 0.0 Batch №: 11\n",
      "Training Epoch 5:  46%|████▌     | 11/24 [00:16<00:06,  1.99it/s]INFO:root:\n"
     ]
    },
    {
     "name": "stdout",
     "output_type": "stream",
     "text": [
      "32\n"
     ]
    },
    {
     "name": "stderr",
     "output_type": "stream",
     "text": [
      "INFO:root:Train Loss: 5.022024154663086 || Train accuracy: 0.0 Batch №: 12\n",
      "Training Epoch 5:  50%|█████     | 12/24 [00:17<00:05,  2.15it/s]INFO:root:\n"
     ]
    },
    {
     "name": "stdout",
     "output_type": "stream",
     "text": [
      "32\n"
     ]
    },
    {
     "name": "stderr",
     "output_type": "stream",
     "text": [
      "INFO:root:Train Loss: 5.022024154663086 || Train accuracy: 0.0 Batch №: 13\n",
      "Training Epoch 5:  54%|█████▍    | 13/24 [00:17<00:04,  2.27it/s]INFO:root:\n"
     ]
    },
    {
     "name": "stdout",
     "output_type": "stream",
     "text": [
      "32\n"
     ]
    },
    {
     "name": "stderr",
     "output_type": "stream",
     "text": [
      "INFO:root:Train Loss: 4.959524154663086 || Train accuracy: 6.25 Batch №: 14\n",
      "Training Epoch 5:  58%|█████▊    | 14/24 [00:17<00:04,  2.37it/s]INFO:root:\n"
     ]
    },
    {
     "name": "stdout",
     "output_type": "stream",
     "text": [
      "32\n"
     ]
    },
    {
     "name": "stderr",
     "output_type": "stream",
     "text": [
      "INFO:root:Train Loss: 5.022024154663086 || Train accuracy: 0.0 Batch №: 15\n",
      "Training Epoch 5:  62%|██████▎   | 15/24 [00:18<00:03,  2.45it/s]INFO:root:\n"
     ]
    },
    {
     "name": "stdout",
     "output_type": "stream",
     "text": [
      "32\n"
     ]
    },
    {
     "name": "stderr",
     "output_type": "stream",
     "text": [
      "INFO:root:Train Loss: 5.022024154663086 || Train accuracy: 0.0 Batch №: 16\n",
      "Training Epoch 5:  67%|██████▋   | 16/24 [00:18<00:03,  2.51it/s]INFO:root:\n"
     ]
    },
    {
     "name": "stdout",
     "output_type": "stream",
     "text": [
      "32\n"
     ]
    },
    {
     "name": "stderr",
     "output_type": "stream",
     "text": [
      "INFO:root:Train Loss: 5.022024154663086 || Train accuracy: 0.0 Batch №: 17\n",
      "Training Epoch 5:  71%|███████   | 17/24 [00:18<00:02,  2.56it/s]INFO:root:\n"
     ]
    },
    {
     "name": "stdout",
     "output_type": "stream",
     "text": [
      "32\n"
     ]
    },
    {
     "name": "stderr",
     "output_type": "stream",
     "text": [
      "INFO:root:Train Loss: 4.990774154663086 || Train accuracy: 3.125 Batch №: 18\n",
      "Training Epoch 5:  75%|███████▌  | 18/24 [00:19<00:02,  2.59it/s]INFO:root:\n"
     ]
    },
    {
     "name": "stdout",
     "output_type": "stream",
     "text": [
      "32\n"
     ]
    },
    {
     "name": "stderr",
     "output_type": "stream",
     "text": [
      "INFO:root:Train Loss: 5.022024154663086 || Train accuracy: 0.0 Batch №: 19\n",
      "Training Epoch 5:  79%|███████▉  | 19/24 [00:19<00:01,  2.60it/s]INFO:root:\n"
     ]
    },
    {
     "name": "stdout",
     "output_type": "stream",
     "text": [
      "32\n"
     ]
    },
    {
     "name": "stderr",
     "output_type": "stream",
     "text": [
      "INFO:root:Train Loss: 4.990774154663086 || Train accuracy: 3.125 Batch №: 20\n",
      "Training Epoch 5:  83%|████████▎ | 20/24 [00:20<00:01,  2.61it/s]INFO:root:\n"
     ]
    },
    {
     "name": "stdout",
     "output_type": "stream",
     "text": [
      "32\n"
     ]
    },
    {
     "name": "stderr",
     "output_type": "stream",
     "text": [
      "INFO:root:Train Loss: 4.990774154663086 || Train accuracy: 3.125 Batch №: 21\n",
      "Training Epoch 5:  88%|████████▊ | 21/24 [00:20<00:01,  2.62it/s]INFO:root:\n"
     ]
    },
    {
     "name": "stdout",
     "output_type": "stream",
     "text": [
      "32\n"
     ]
    },
    {
     "name": "stderr",
     "output_type": "stream",
     "text": [
      "INFO:root:Train Loss: 5.022024154663086 || Train accuracy: 0.0 Batch №: 22\n",
      "Training Epoch 5:  92%|█████████▏| 22/24 [00:20<00:00,  2.62it/s]INFO:root:\n"
     ]
    },
    {
     "name": "stdout",
     "output_type": "stream",
     "text": [
      "32\n"
     ]
    },
    {
     "name": "stderr",
     "output_type": "stream",
     "text": [
      "INFO:root:Train Loss: 5.022024154663086 || Train accuracy: 0.0 Batch №: 23\n",
      "Training Epoch 5:  96%|█████████▌| 23/24 [00:21<00:00,  2.63it/s]INFO:root:\n"
     ]
    },
    {
     "name": "stdout",
     "output_type": "stream",
     "text": [
      "29\n"
     ]
    },
    {
     "name": "stderr",
     "output_type": "stream",
     "text": [
      "INFO:root:Train Loss: 5.022024631500244 || Train accuracy: 0.0 Batch №: 24\n",
      "Training Epoch 5: 100%|██████████| 24/24 [00:24<00:00,  1.03s/it]\n",
      "INFO:root:Mean Train Loss: 5.0116075078646345 || Mean Train acc: 1.0416666666666667\n",
      "Testing Epoch 5:   0%|          | 0/10 [00:00<?, ?it/s]"
     ]
    },
    {
     "name": "stdout",
     "output_type": "stream",
     "text": [
      "32\n"
     ]
    },
    {
     "name": "stderr",
     "output_type": "stream",
     "text": [
      "INFO:root:\n",
      "INFO:root:Test Loss: 5.022024154663086 || Test accuracy: 0.0 Batch №: 1\n",
      "Testing Epoch 5:  10%|█         | 1/10 [00:23<03:33, 23.76s/it]INFO:root:\n",
      "INFO:root:Test Loss: 5.022024154663086 || Test accuracy: 0.0 Batch №: 2\n",
      "Testing Epoch 5:  20%|██        | 2/10 [00:23<01:18,  9.87s/it]"
     ]
    },
    {
     "name": "stdout",
     "output_type": "stream",
     "text": [
      "32\n",
      "32\n"
     ]
    },
    {
     "name": "stderr",
     "output_type": "stream",
     "text": [
      "INFO:root:\n",
      "INFO:root:Test Loss: 5.022024154663086 || Test accuracy: 0.0 Batch №: 3\n",
      "Testing Epoch 5:  30%|███       | 3/10 [00:24<00:37,  5.42s/it]INFO:root:\n",
      "INFO:root:Test Loss: 5.022024154663086 || Test accuracy: 0.0 Batch №: 4\n",
      "Testing Epoch 5:  40%|████      | 4/10 [00:24<00:20,  3.34s/it]"
     ]
    },
    {
     "name": "stdout",
     "output_type": "stream",
     "text": [
      "32\n",
      "32\n"
     ]
    },
    {
     "name": "stderr",
     "output_type": "stream",
     "text": [
      "INFO:root:\n",
      "INFO:root:Test Loss: 4.959524154663086 || Test accuracy: 6.25 Batch №: 5\n",
      "Testing Epoch 5:  50%|█████     | 5/10 [00:24<00:10,  2.19s/it]INFO:root:\n",
      "INFO:root:Test Loss: 5.022024154663086 || Test accuracy: 0.0 Batch №: 6\n",
      "Testing Epoch 5:  60%|██████    | 6/10 [00:24<00:05,  1.49s/it]"
     ]
    },
    {
     "name": "stdout",
     "output_type": "stream",
     "text": [
      "32\n",
      "32\n"
     ]
    },
    {
     "name": "stderr",
     "output_type": "stream",
     "text": [
      "INFO:root:\n",
      "INFO:root:Test Loss: 5.022024154663086 || Test accuracy: 0.0 Batch №: 7\n",
      "Testing Epoch 5:  70%|███████   | 7/10 [00:24<00:03,  1.05s/it]INFO:root:\n",
      "INFO:root:Test Loss: 5.022024154663086 || Test accuracy: 0.0 Batch №: 8\n",
      "Testing Epoch 5:  80%|████████  | 8/10 [00:24<00:01,  1.32it/s]"
     ]
    },
    {
     "name": "stdout",
     "output_type": "stream",
     "text": [
      "32\n"
     ]
    },
    {
     "name": "stderr",
     "output_type": "stream",
     "text": [
      "INFO:root:\n",
      "INFO:root:Test Loss: 5.022024154663086 || Test accuracy: 0.0 Batch №: 9\n",
      "Testing Epoch 5:  90%|█████████ | 9/10 [00:25<00:00,  1.18it/s]"
     ]
    },
    {
     "name": "stdout",
     "output_type": "stream",
     "text": [
      "32\n",
      "26\n"
     ]
    },
    {
     "name": "stderr",
     "output_type": "stream",
     "text": [
      "INFO:root:\n",
      "INFO:root:Test Loss: 5.0220255851745605 || Test accuracy: 0.0 Batch №: 10\n",
      "Testing Epoch 5: 100%|██████████| 10/10 [00:31<00:00,  3.15s/it]\n",
      "INFO:root:Mean Train Loss: 5.015774297714233 || Mean Train acc: 0.625\n"
     ]
    }
   ],
   "source": [
    "# Collect our results\n",
    "results = train(model=model_V0, \n",
    "                train_dataloader=train_dataloader, \n",
    "                test_dataloader=test_dataloader,\n",
    "                loss_fn=loss_func,\n",
    "                acc_fn=True,\n",
    "                optimizer=optim,\n",
    "                device=device,\n",
    "                epochs=EPOCHS)"
   ]
  },
  {
   "cell_type": "code",
   "execution_count": 66,
   "metadata": {},
   "outputs": [
    {
     "data": {
      "text/plain": [
       "<matplotlib.legend.Legend at 0x276f7dc3590>"
      ]
     },
     "execution_count": 66,
     "metadata": {},
     "output_type": "execute_result"
    },
    {
     "data": {
      "image/png": "[encoded data removed]",
      "text/plain": [
       "<Figure size 1200x700 with 2 Axes>"
      ]
     },
     "metadata": {},
     "output_type": "display_data"
    }
   ],
   "source": [
    "# Plot our results\n",
    "fig = plt.figure(figsize=(12, 7))\n",
    "plt.subplot(1, 2, 1)\n",
    "plt.plot(results[\"train_loss\"], label=\"train_loss\")\n",
    "plt.plot(results[\"test_loss\"], label=\"test_loss\")\n",
    "plt.title(\"Loss Train/Test\")\n",
    "plt.xlabel(\"Epoch\")\n",
    "plt.ylabel(\"Loss\")\n",
    "plt.ylim([0, max(max(results[\"train_loss\"]), max(results[\"test_loss\"]))+1])\n",
    "plt.legend()\n",
    "plt.subplot(1, 2, 2)\n",
    "plt.plot(results[\"train_acc\"], label=\"train_acc\")\n",
    "plt.plot(results[\"test_acc\"], label=\"test_acc\")\n",
    "plt.title(\"Accuracy Train/Test\")\n",
    "plt.ylim([0, 100])\n",
    "plt.xlabel(\"Epoch\")\n",
    "plt.ylabel(\"Accuracy (%)\")\n",
    "plt.legend()"
   ]
  },
  {
   "cell_type": "code",
   "execution_count": null,
   "metadata": {},
   "outputs": [],
   "source": []
  }
 ],
 "metadata": {
  "kernelspec": {
   "display_name": "Python 3",
   "language": "python",
   "name": "python3"
  },
  "language_info": {
   "codemirror_mode": {
    "name": "ipython",
    "version": 3
   },
   "file_extension": ".py",
   "mimetype": "text/x-python",
   "name": "python",
   "nbconvert_exporter": "python",
   "pygments_lexer": "ipython3",
   "version": "3.11.2"
  },
  "orig_nbformat": 4
 },
 "nbformat": 4,
 "nbformat_minor": 2
}
