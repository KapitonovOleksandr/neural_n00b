{
 "cells": [
  {
   "cell_type": "code",
   "execution_count": null,
   "metadata": {},
   "outputs": [],
   "source": [
    "#TODO text to code generator\n",
    "\n",
    "1. Vector distance (Cosine, Euclidian, Haming, Dot prod, Minkowski) \"data close / data far\"\n",
    "2.  "
   ]
  }
 ],
 "metadata": {
  "language_info": {
   "name": "python"
  },
  "orig_nbformat": 4
 },
 "nbformat": 4,
 "nbformat_minor": 2
}
