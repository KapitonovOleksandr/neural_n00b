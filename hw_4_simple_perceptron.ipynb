{
 "cells": [
  {
   "cell_type": "markdown",
   "metadata": {},
   "source": [
    "# HW 4 \n",
    "\n",
    "\n"
   ]
  },
  {
   "cell_type": "markdown",
   "metadata": {},
   "source": [
    "# Task 4.1: \n",
    "\n",
    "# Handwritten Digits Classification\n",
    "\n",
    "## Overview\n",
    "Implementing a Neural Network for classifying handwritten digits using the 3D MNIST dataset, with a focus on PyTorch for model development and accuracy assessment.\n",
    "\n",
    "### Dataset\n",
    "- Utilize the [3D MNIST dataset from Kaggle](https://www.kaggle.com/datasets/daavoo/3d-mnist) for training and testing the model.\n",
    "\n",
    "### Neural Network Implementation with PyTorch\n",
    "- Implement a Neural Network using PyTorch. \n",
    "- Ensure the network is suitable for handling the 3D data structure of the dataset.\n",
    "- Tailor the architecture to effectively learn from the dataset for digit classification.\n",
    "\n",
    "### Accuracy Calculation\n",
    "- After training, evaluate the model on a test set.\n",
    "- Calculate the accuracy of the model: $$\\frac{\\text{Number of Correct Predictions}}{\\text{Total Predictions}}$$\n",
    "- Document the model's performance and any insights gained during the development process."
   ]
  },
  {
   "cell_type": "code",
   "execution_count": 1,
   "metadata": {},
   "outputs": [
    {
     "name": "stderr",
     "output_type": "stream",
     "text": [
      "c:\\Users\\Sanya\\kapitonnov_nn_n00b\\neural_n00b\\nn_n00b_env\\Lib\\site-packages\\tqdm\\auto.py:21: TqdmWarning: IProgress not found. Please update jupyter and ipywidgets. See https://ipywidgets.readthedocs.io/en/stable/user_install.html\n",
      "  from .autonotebook import tqdm as notebook_tqdm\n"
     ]
    }
   ],
   "source": [
    "import os \n",
    "import torch\n",
    "import torch.nn as nn\n",
    "import h5py\n",
    "import numpy as np\n",
    "import matplotlib.pyplot as plt\n",
    "import torchinfo\n",
    "from tqdm.auto import tqdm\n",
    "from torchvision.transforms import v2\n",
    "from torch.utils.data import DataLoader, TensorDataset"
   ]
  },
  {
   "cell_type": "code",
   "execution_count": 2,
   "metadata": {},
   "outputs": [
    {
     "name": "stdout",
     "output_type": "stream",
     "text": [
      "['X_test', 'X_train', 'y_test', 'y_train']\n"
     ]
    }
   ],
   "source": [
    "with h5py.File('data/3d_mnist/full_dataset_vectors.h5', 'r') as file:\n",
    "    datasets_names = list(file.keys())\n",
    "    print(datasets_names)\n",
    "    X_train, y_train, X_test, y_test = file['X_train'][:], file['y_train'][:], file['X_test'][:], file['y_test'][:]"
   ]
  },
  {
   "cell_type": "code",
   "execution_count": 3,
   "metadata": {},
   "outputs": [
    {
     "data": {
      "text/plain": [
       "(array([[0., 0., 0., ..., 0., 0., 0.],\n",
       "        [0., 0., 0., ..., 0., 0., 0.],\n",
       "        [0., 0., 0., ..., 0., 0., 0.],\n",
       "        ...,\n",
       "        [0., 0., 0., ..., 0., 0., 0.],\n",
       "        [0., 0., 0., ..., 0., 0., 0.],\n",
       "        [0., 0., 0., ..., 0., 0., 0.]]),\n",
       " array([5, 5, 0, ..., 1, 2, 2], dtype=int64))"
      ]
     },
     "execution_count": 3,
     "metadata": {},
     "output_type": "execute_result"
    }
   ],
   "source": [
    "# Take a look at data\n",
    "X_train, y_train"
   ]
  },
  {
   "cell_type": "code",
   "execution_count": 4,
   "metadata": {},
   "outputs": [
    {
     "name": "stdout",
     "output_type": "stream",
     "text": [
      "Mon Dec 11 16:52:17 2023       \n",
      "+---------------------------------------------------------------------------------------+\n",
      "| NVIDIA-SMI 546.29                 Driver Version: 546.29       CUDA Version: 12.3     |\n",
      "|-----------------------------------------+----------------------+----------------------+\n",
      "| GPU  Name                     TCC/WDDM  | Bus-Id        Disp.A | Volatile Uncorr. ECC |\n",
      "| Fan  Temp   Perf          Pwr:Usage/Cap |         Memory-Usage | GPU-Util  Compute M. |\n",
      "|                                         |                      |               MIG M. |\n",
      "|=========================================+======================+======================|\n",
      "|   0  NVIDIA GeForce GTX 1050 Ti   WDDM  | 00000000:01:00.0  On |                  N/A |\n",
      "| N/A   50C    P8              N/A / ERR! |     60MiB /  4096MiB |     18%      Default |\n",
      "|                                         |                      |                  N/A |\n",
      "+-----------------------------------------+----------------------+----------------------+\n",
      "                                                                                         \n",
      "+---------------------------------------------------------------------------------------+\n",
      "| Processes:                                                                            |\n",
      "|  GPU   GI   CI        PID   Type   Process name                            GPU Memory |\n",
      "|        ID   ID                                                             Usage      |\n",
      "|=======================================================================================|\n",
      "|    0   N/A  N/A     10780    C+G   ...8.0_x64__t4vj0pshhgkwm\\Telegram.exe    N/A      |\n",
      "+---------------------------------------------------------------------------------------+\n"
     ]
    }
   ],
   "source": [
    "!nvidia-smi"
   ]
  },
  {
   "cell_type": "code",
   "execution_count": 5,
   "metadata": {},
   "outputs": [
    {
     "data": {
      "text/plain": [
       "'cuda'"
      ]
     },
     "execution_count": 5,
     "metadata": {},
     "output_type": "execute_result"
    }
   ],
   "source": [
    "# Set device\n",
    "device = 'cuda' if torch.cuda.is_available() else 'cpu'\n",
    "device"
   ]
  },
  {
   "cell_type": "code",
   "execution_count": 6,
   "metadata": {},
   "outputs": [
    {
     "name": "stdout",
     "output_type": "stream",
     "text": [
      "1\n",
      "0\n",
      "NVIDIA GeForce GTX 1050 Ti\n"
     ]
    }
   ],
   "source": [
    "if torch.cuda.is_available():\n",
    "    # Print the number of available GPUs\n",
    "    print(torch.cuda.device_count())\n",
    "    # Print the current GPU device\n",
    "    print(torch.cuda.current_device())\n",
    "    # Print the name of the GPU\n",
    "    print(torch.cuda.get_device_name(0))\n",
    "else:\n",
    "    print(\"CUDA is not available. Check your GPU drivers and CUDA installation.\")"
   ]
  },
  {
   "cell_type": "code",
   "execution_count": 7,
   "metadata": {},
   "outputs": [
    {
     "data": {
      "text/plain": [
       "((10000, 4096), (2000, 4096), (10000,), (2000,))"
      ]
     },
     "execution_count": 7,
     "metadata": {},
     "output_type": "execute_result"
    }
   ],
   "source": [
    "# Shapes\n",
    "X_train.shape, X_test.shape, y_train.shape, y_test.shape"
   ]
  },
  {
   "cell_type": "code",
   "execution_count": 8,
   "metadata": {},
   "outputs": [
    {
     "name": "stdout",
     "output_type": "stream",
     "text": [
      "X_train shape: (10000, 4096, 3)\n",
      "X_test shape: (2000, 4096, 3)\n"
     ]
    }
   ],
   "source": [
    "# Add color channels to pics\n",
    "s_m = plt.cm.ScalarMappable()\n",
    "X_train = s_m.to_rgba(X_train)[:,:,:-1]\n",
    "X_test = s_m.to_rgba(X_test)[:,:,:-1]\n",
    "print(f'X_train shape: {X_train.shape}')\n",
    "print(f'X_test shape: {X_test.shape}')"
   ]
  },
  {
   "cell_type": "code",
   "execution_count": 9,
   "metadata": {},
   "outputs": [
    {
     "data": {
      "text/plain": [
       "array([[0.267004, 0.004874, 0.329415],\n",
       "       [0.267004, 0.004874, 0.329415],\n",
       "       [0.267004, 0.004874, 0.329415],\n",
       "       ...,\n",
       "       [0.267004, 0.004874, 0.329415],\n",
       "       [0.267004, 0.004874, 0.329415],\n",
       "       [0.267004, 0.004874, 0.329415]])"
      ]
     },
     "execution_count": 9,
     "metadata": {},
     "output_type": "execute_result"
    }
   ],
   "source": [
    "# View observation\n",
    "X_train[0]"
   ]
  },
  {
   "cell_type": "code",
   "execution_count": 10,
   "metadata": {},
   "outputs": [],
   "source": [
    "# Reshape \n",
    "class ReshapeT:\n",
    "    def __init__(self, shape):\n",
    "        self.shape = shape\n",
    "        \n",
    "    def __call__(self, x):\n",
    "        return torch.tensor(x.reshape(self.shape))"
   ]
  },
  {
   "cell_type": "code",
   "execution_count": 11,
   "metadata": {},
   "outputs": [],
   "source": [
    "# Transforms \n",
    "transformer = v2.Compose([\n",
    "    v2.ToDtype(torch.float32, scale=True),\n",
    "    ReshapeT((3, 16, 16, 16))\n",
    "])\n",
    "\n",
    "label_transformer = v2.Compose([\n",
    "    v2.ToDtype(torch.float32, scale=False)\n",
    "])\n",
    "\n",
    "# # Custom Dataset\n",
    "# class CustomDataset(Dataset):\n",
    "#     def __init__(self, data, labels, transform=False, label_transform=False):\n",
    "#         self.data = data\n",
    "#         self.labels = labels\n",
    "#         self.transform = transform\n",
    "#         self.label_transform = label_transform\n",
    "        \n",
    "#     def __len__(self):\n",
    "#         return len(self.labels)\n",
    "    \n",
    "#     def __getitem__(self, idx):\n",
    "#         image = self.data[idx]\n",
    "#         label = self.labels[idx]\n",
    "#         if self.transform:\n",
    "#             image = self.transform(image)\n",
    "#         if self.label_transform:\n",
    "#             label = self.label_transform(label)\n",
    "#         return torch.Tensor(image), torch.tensor(label)"
   ]
  },
  {
   "cell_type": "code",
   "execution_count": 12,
   "metadata": {},
   "outputs": [],
   "source": [
    "# Preprocess data\n",
    "X_train = torch.tensor(X_train.reshape((len(X_train), 3, 16, 16, 16)), dtype=torch.float32).to(device)\n",
    "X_test = torch.tensor(X_test.reshape((len(X_test), 3, 16, 16, 16)), dtype=torch.float32).to(device)\n",
    "y_train = torch.tensor(y_train).to(device)\n",
    "y_test = torch.tensor(y_test).to(device)"
   ]
  },
  {
   "cell_type": "code",
   "execution_count": 13,
   "metadata": {},
   "outputs": [],
   "source": [
    "# Hyperparameters\n",
    "BATCH_SIZE = 64\n",
    "NUM_WORKERS = os.cpu_count()\n",
    "\n",
    "# Datasets\n",
    "train_dataset = TensorDataset(X_train, y_train)\n",
    "test_dataset = TensorDataset(X_test, y_test)\n",
    "\n",
    "# DataLoaders\n",
    "train_dataloader = DataLoader(train_dataset, batch_size=BATCH_SIZE, num_workers=NUM_WORKERS, shuffle=True)\n",
    "test_dataloader = DataLoader(test_dataset, batch_size=BATCH_SIZE, num_workers=NUM_WORKERS, shuffle=False)"
   ]
  },
  {
   "cell_type": "code",
   "execution_count": 14,
   "metadata": {},
   "outputs": [
    {
     "data": {
      "text/plain": [
       "(tensor([[[[0.2670, 0.0049, 0.3294,  ..., 0.0049, 0.3294, 0.5756],\n",
       "           [0.8446, 0.2564, 0.5756,  ..., 0.2564, 0.5756, 0.8446],\n",
       "           [0.2564, 0.2670, 0.0049,  ..., 0.2670, 0.0049, 0.3294],\n",
       "           ...,\n",
       "           [0.7740, 0.4066, 0.1312,  ..., 0.5525, 0.3278, 0.7740],\n",
       "           [0.4066, 0.2670, 0.0049,  ..., 0.2670, 0.0049, 0.3294],\n",
       "           [0.2670, 0.0049, 0.3294,  ..., 0.0049, 0.3294, 0.1579]],\n",
       " \n",
       "          [[0.6838, 0.5017, 0.1563,  ..., 0.5579, 0.1579, 0.6838],\n",
       "           [0.5017, 0.2670, 0.0049,  ..., 0.2670, 0.0049, 0.3294],\n",
       "           [0.2670, 0.0049, 0.3294,  ..., 0.0049, 0.3294, 0.1579],\n",
       "           ...,\n",
       "           [0.3294, 0.2670, 0.0049,  ..., 0.2670, 0.0049, 0.3294],\n",
       "           [0.2670, 0.0049, 0.3294,  ..., 0.0049, 0.3294, 0.2670],\n",
       "           [0.0049, 0.3294, 0.2670,  ..., 0.3294, 0.2670, 0.0049]],\n",
       " \n",
       "          [[0.3294, 0.2670, 0.0049,  ..., 0.2670, 0.0049, 0.3294],\n",
       "           [0.2670, 0.0049, 0.3294,  ..., 0.0049, 0.3294, 0.2670],\n",
       "           [0.0049, 0.3294, 0.2670,  ..., 0.3294, 0.2670, 0.0049],\n",
       "           ...,\n",
       "           [0.2670, 0.0049, 0.3294,  ..., 0.0049, 0.3294, 0.2670],\n",
       "           [0.0049, 0.3294, 0.2670,  ..., 0.3294, 0.2670, 0.0049],\n",
       "           [0.3294, 0.2670, 0.0049,  ..., 0.2670, 0.0049, 0.3294]],\n",
       " \n",
       "          ...,\n",
       " \n",
       "          [[0.3515, 0.5506, 0.1563,  ..., 0.5579, 0.2162, 0.3515],\n",
       "           [0.5506, 0.2670, 0.0049,  ..., 0.2670, 0.0049, 0.3294],\n",
       "           [0.2670, 0.0049, 0.3294,  ..., 0.0049, 0.3294, 0.1579],\n",
       "           ...,\n",
       "           [0.5525, 0.2670, 0.0049,  ..., 0.2670, 0.0049, 0.3294],\n",
       "           [0.2670, 0.0049, 0.3294,  ..., 0.0049, 0.3294, 0.1312],\n",
       "           [0.5559, 0.5525, 0.2670,  ..., 0.3294, 0.1312, 0.5559]],\n",
       " \n",
       "          [[0.5525, 0.2670, 0.0049,  ..., 0.2670, 0.0049, 0.3294],\n",
       "           [0.2670, 0.0049, 0.3294,  ..., 0.0049, 0.3294, 0.1579],\n",
       "           [0.6838, 0.5017, 0.2762,  ..., 0.4930, 0.1579, 0.6838],\n",
       "           ...,\n",
       "           [0.2670, 0.0049, 0.3294,  ..., 0.0049, 0.3294, 0.2670],\n",
       "           [0.0049, 0.3294, 0.2670,  ..., 0.3294, 0.2670, 0.0049],\n",
       "           [0.3294, 0.2670, 0.0049,  ..., 0.2670, 0.0049, 0.3294]],\n",
       " \n",
       "          [[0.2670, 0.0049, 0.3294,  ..., 0.0049, 0.3294, 0.2670],\n",
       "           [0.0049, 0.3294, 0.2670,  ..., 0.3294, 0.2670, 0.0049],\n",
       "           [0.3294, 0.2670, 0.0049,  ..., 0.2670, 0.0049, 0.3294],\n",
       "           ...,\n",
       "           [0.0049, 0.3294, 0.2670,  ..., 0.3294, 0.2670, 0.0049],\n",
       "           [0.3294, 0.2670, 0.0049,  ..., 0.2670, 0.0049, 0.3294],\n",
       "           [0.2670, 0.0049, 0.3294,  ..., 0.0049, 0.3294, 0.2670]]],\n",
       " \n",
       " \n",
       "         [[[0.0049, 0.3294, 0.2670,  ..., 0.3294, 0.2670, 0.0049],\n",
       "           [0.3294, 0.2670, 0.0049,  ..., 0.2670, 0.0049, 0.3294],\n",
       "           [0.2670, 0.0049, 0.3294,  ..., 0.0049, 0.3294, 0.2670],\n",
       "           ...,\n",
       "           [0.5525, 0.2670, 0.0049,  ..., 0.2670, 0.0049, 0.3294],\n",
       "           [0.2670, 0.0049, 0.3294,  ..., 0.0049, 0.3294, 0.1254],\n",
       "           [0.5743, 0.5491, 0.2162,  ..., 0.5506, 0.1254, 0.5743]],\n",
       " \n",
       "          [[0.5491, 0.2670, 0.0049,  ..., 0.2670, 0.0049, 0.3294],\n",
       "           [0.2670, 0.0049, 0.3294,  ..., 0.0049, 0.3294, 0.1312],\n",
       "           [0.5559, 0.5525, 0.2670,  ..., 0.3294, 0.1312, 0.5559],\n",
       "           ...,\n",
       "           [0.2670, 0.0049, 0.3294,  ..., 0.0049, 0.3294, 0.2670],\n",
       "           [0.0049, 0.3294, 0.2670,  ..., 0.3294, 0.2670, 0.0049],\n",
       "           [0.3294, 0.2670, 0.0049,  ..., 0.2670, 0.0049, 0.3294]],\n",
       " \n",
       "          [[0.2670, 0.0049, 0.3294,  ..., 0.0049, 0.3294, 0.2670],\n",
       "           [0.0049, 0.3294, 0.2670,  ..., 0.3294, 0.2670, 0.0049],\n",
       "           [0.3294, 0.2670, 0.0049,  ..., 0.2670, 0.0049, 0.3294],\n",
       "           ...,\n",
       "           [0.0049, 0.3294, 0.2670,  ..., 0.3294, 0.2670, 0.0049],\n",
       "           [0.3294, 0.2670, 0.0049,  ..., 0.2670, 0.0049, 0.3294],\n",
       "           [0.2670, 0.0049, 0.3294,  ..., 0.0049, 0.3294, 0.2670]],\n",
       " \n",
       "          ...,\n",
       " \n",
       "          [[0.5579, 0.2670, 0.0049,  ..., 0.2670, 0.0049, 0.3294],\n",
       "           [0.2670, 0.0049, 0.3294,  ..., 0.0049, 0.3294, 0.2651],\n",
       "           [0.2330, 0.5166, 0.2162,  ..., 0.5506, 0.2651, 0.2330],\n",
       "           ...,\n",
       "           [0.2670, 0.0049, 0.3294,  ..., 0.0049, 0.3294, 0.2670],\n",
       "           [0.0049, 0.3294, 0.2670,  ..., 0.3294, 0.2670, 0.0049],\n",
       "           [0.3294, 0.2670, 0.0049,  ..., 0.2670, 0.0049, 0.3294]],\n",
       " \n",
       "          [[0.2670, 0.0049, 0.3294,  ..., 0.0049, 0.3294, 0.2670],\n",
       "           [0.0049, 0.3294, 0.2670,  ..., 0.3294, 0.2670, 0.0049],\n",
       "           [0.3294, 0.2670, 0.0049,  ..., 0.2670, 0.0049, 0.3294],\n",
       "           ...,\n",
       "           [0.0049, 0.3294, 0.2670,  ..., 0.3294, 0.2670, 0.0049],\n",
       "           [0.3294, 0.2670, 0.0049,  ..., 0.2670, 0.0049, 0.3294],\n",
       "           [0.2670, 0.0049, 0.3294,  ..., 0.0049, 0.3294, 0.1839]],\n",
       " \n",
       "          [[0.4224, 0.5569, 0.1563,  ..., 0.5579, 0.1839, 0.4224],\n",
       "           [0.5569, 0.2670, 0.0049,  ..., 0.2670, 0.0049, 0.3294],\n",
       "           [0.2670, 0.0049, 0.3294,  ..., 0.0049, 0.3294, 0.1563],\n",
       "           ...,\n",
       "           [0.3294, 0.2670, 0.0049,  ..., 0.2670, 0.0049, 0.3294],\n",
       "           [0.2670, 0.0049, 0.3294,  ..., 0.0049, 0.3294, 0.2670],\n",
       "           [0.0049, 0.3294, 0.2670,  ..., 0.3294, 0.2670, 0.0049]]],\n",
       " \n",
       " \n",
       "         [[[0.3294, 0.2670, 0.0049,  ..., 0.2670, 0.0049, 0.3294],\n",
       "           [0.2670, 0.0049, 0.3294,  ..., 0.0049, 0.3294, 0.2670],\n",
       "           [0.0049, 0.3294, 0.2670,  ..., 0.3294, 0.2670, 0.0049],\n",
       "           ...,\n",
       "           [0.2670, 0.0049, 0.3294,  ..., 0.0049, 0.3294, 0.2670],\n",
       "           [0.0049, 0.3294, 0.2670,  ..., 0.3294, 0.2670, 0.0049],\n",
       "           [0.3294, 0.2670, 0.0049,  ..., 0.2670, 0.0049, 0.3294]],\n",
       " \n",
       "          [[0.2670, 0.0049, 0.3294,  ..., 0.0049, 0.3294, 0.2670],\n",
       "           [0.0049, 0.3294, 0.2670,  ..., 0.3294, 0.2670, 0.0049],\n",
       "           [0.3294, 0.2670, 0.0049,  ..., 0.2670, 0.0049, 0.3294],\n",
       "           ...,\n",
       "           [0.8507, 0.2367, 0.5756,  ..., 0.2564, 0.6060, 0.8507],\n",
       "           [0.2367, 0.2670, 0.0049,  ..., 0.2670, 0.0049, 0.3294],\n",
       "           [0.2670, 0.0049, 0.3294,  ..., 0.0049, 0.3294, 0.1466]],\n",
       " \n",
       "          [[0.6730, 0.5089, 0.1839,  ..., 0.5569, 0.1466, 0.6730],\n",
       "           [0.5089, 0.2670, 0.0049,  ..., 0.2670, 0.0049, 0.3294],\n",
       "           [0.2670, 0.0049, 0.3294,  ..., 0.0049, 0.3294, 0.1312],\n",
       "           ...,\n",
       "           [0.5166, 0.2670, 0.0049,  ..., 0.2670, 0.0049, 0.3294],\n",
       "           [0.2670, 0.0049, 0.3294,  ..., 0.0049, 0.3294, 0.2162],\n",
       "           [0.3515, 0.5506, 0.1563,  ..., 0.5579, 0.2162, 0.3515]],\n",
       " \n",
       "          ...,\n",
       " \n",
       "          [[0.2670, 0.0049, 0.3294,  ..., 0.0049, 0.3294, 0.2670],\n",
       "           [0.0049, 0.3294, 0.2670,  ..., 0.3294, 0.2670, 0.0049],\n",
       "           [0.3294, 0.2670, 0.0049,  ..., 0.2670, 0.0049, 0.3294],\n",
       "           ...,\n",
       "           [0.3993, 0.5556, 0.1312,  ..., 0.5525, 0.1941, 0.3993],\n",
       "           [0.5556, 0.2670, 0.0049,  ..., 0.2670, 0.0049, 0.3294],\n",
       "           [0.2670, 0.0049, 0.3294,  ..., 0.0049, 0.3294, 0.2162]],\n",
       " \n",
       "          [[0.3515, 0.5506, 0.1563,  ..., 0.5579, 0.2162, 0.3515],\n",
       "           [0.5506, 0.2670, 0.0049,  ..., 0.2670, 0.0049, 0.3294],\n",
       "           [0.2670, 0.0049, 0.3294,  ..., 0.0049, 0.3294, 0.1579],\n",
       "           ...,\n",
       "           [0.5017, 0.2670, 0.0049,  ..., 0.2670, 0.0049, 0.3294],\n",
       "           [0.2670, 0.0049, 0.3294,  ..., 0.0049, 0.3294, 0.1579],\n",
       "           [0.6838, 0.5017, 0.1563,  ..., 0.5579, 0.1579, 0.6838]],\n",
       " \n",
       "          [[0.5017, 0.2670, 0.0049,  ..., 0.2670, 0.0049, 0.3294],\n",
       "           [0.2670, 0.0049, 0.3294,  ..., 0.0049, 0.3294, 0.3278],\n",
       "           [0.7740, 0.4066, 0.1312,  ..., 0.5525, 0.3278, 0.7740],\n",
       "           ...,\n",
       "           [0.2670, 0.0049, 0.3294,  ..., 0.0049, 0.3294, 0.5756],\n",
       "           [0.8446, 0.2564, 0.5756,  ..., 0.2564, 0.5756, 0.8446],\n",
       "           [0.2564, 0.2670, 0.0049,  ..., 0.2670, 0.0049, 0.3294]]]],\n",
       "        device='cuda:0'),\n",
       " tensor(5, device='cuda:0'))"
      ]
     },
     "execution_count": 14,
     "metadata": {},
     "output_type": "execute_result"
    }
   ],
   "source": [
    "# View dataset item\n",
    "train_dataset[0]"
   ]
  },
  {
   "cell_type": "code",
   "execution_count": 15,
   "metadata": {},
   "outputs": [],
   "source": [
    "# Take a look at sample\n",
    "# next(iter(train_dataloader))"
   ]
  },
  {
   "cell_type": "code",
   "execution_count": 16,
   "metadata": {},
   "outputs": [],
   "source": [
    "# NN architecture\n",
    "class Convolutional_3d(nn.Module):\n",
    "    def __init__(self, input_layers, hidden_layers, output_layers, number_of_class=0):\n",
    "        super(Convolutional_3d, self).__init__()\n",
    "        self.conv3d_block_1 = nn.Sequential(\n",
    "            nn.Conv3d(in_channels=input_layers, out_channels=hidden_layers, kernel_size=3, stride=1, padding=1),\n",
    "            nn.ReLU(),\n",
    "            nn.Conv3d(in_channels=hidden_layers, out_channels=hidden_layers, kernel_size=3, stride=1, padding=1),\n",
    "            nn.ReLU(),\n",
    "            nn.MaxPool3d(kernel_size=3, stride=1)\n",
    "        )\n",
    "        \n",
    "        self.conv3d_block_2 = nn.Sequential(\n",
    "            nn.Conv3d(in_channels=hidden_layers, out_channels=hidden_layers, kernel_size=3, stride=1, padding=1),\n",
    "            nn.ReLU(),\n",
    "            nn.Conv3d(in_channels=hidden_layers, out_channels=hidden_layers, kernel_size=3, stride=1, padding=1),\n",
    "            nn.ReLU(),\n",
    "            nn.MaxPool3d(kernel_size=3, stride=1)\n",
    "        )\n",
    "        \n",
    "        self.classifier_block = nn.Sequential(\n",
    "            nn.Flatten(),\n",
    "            nn.Linear(in_features=32000, out_features=1024), # 32000 a number taken from a shape error.\n",
    "            nn.ReLU(),\n",
    "            nn.Linear(in_features=1024, out_features=512),\n",
    "            nn.ReLU(),\n",
    "            nn.Linear(in_features=512, out_features=output_layers),\n",
    "            nn.ReLU(),\n",
    "            nn.Softmax()\n",
    "        )\n",
    "    \n",
    "    def forward(self, x):\n",
    "        return self.classifier_block(self.conv3d_block_2(self.conv3d_block_2(self.conv3d_block_1(x))))\n"
   ]
  },
  {
   "cell_type": "code",
   "execution_count": 17,
   "metadata": {},
   "outputs": [],
   "source": [
    "model_0 = Convolutional_3d(input_layers=3,\n",
    "                           hidden_layers=32,\n",
    "                           output_layers=10).to(device)"
   ]
  },
  {
   "cell_type": "code",
   "execution_count": 18,
   "metadata": {},
   "outputs": [
    {
     "data": {
      "text/plain": [
       "Convolutional_3d(\n",
       "  (conv3d_block_1): Sequential(\n",
       "    (0): Conv3d(3, 32, kernel_size=(3, 3, 3), stride=(1, 1, 1), padding=(1, 1, 1))\n",
       "    (1): ReLU()\n",
       "    (2): Conv3d(32, 32, kernel_size=(3, 3, 3), stride=(1, 1, 1), padding=(1, 1, 1))\n",
       "    (3): ReLU()\n",
       "    (4): MaxPool3d(kernel_size=3, stride=1, padding=0, dilation=1, ceil_mode=False)\n",
       "  )\n",
       "  (conv3d_block_2): Sequential(\n",
       "    (0): Conv3d(32, 32, kernel_size=(3, 3, 3), stride=(1, 1, 1), padding=(1, 1, 1))\n",
       "    (1): ReLU()\n",
       "    (2): Conv3d(32, 32, kernel_size=(3, 3, 3), stride=(1, 1, 1), padding=(1, 1, 1))\n",
       "    (3): ReLU()\n",
       "    (4): MaxPool3d(kernel_size=3, stride=1, padding=0, dilation=1, ceil_mode=False)\n",
       "  )\n",
       "  (classifier_block): Sequential(\n",
       "    (0): Flatten(start_dim=1, end_dim=-1)\n",
       "    (1): Linear(in_features=32000, out_features=1024, bias=True)\n",
       "    (2): ReLU()\n",
       "    (3): Linear(in_features=1024, out_features=512, bias=True)\n",
       "    (4): ReLU()\n",
       "    (5): Linear(in_features=512, out_features=10, bias=True)\n",
       "    (6): ReLU()\n",
       "    (7): Softmax(dim=None)\n",
       "  )\n",
       ")"
      ]
     },
     "execution_count": 18,
     "metadata": {},
     "output_type": "execute_result"
    }
   ],
   "source": [
    "model_0"
   ]
  },
  {
   "cell_type": "code",
   "execution_count": 19,
   "metadata": {},
   "outputs": [
    {
     "data": {
      "text/plain": [
       "=================================================================\n",
       "Layer (type:depth-idx)                   Param #\n",
       "=================================================================\n",
       "Convolutional_3d                         --\n",
       "├─Sequential: 1-1                        --\n",
       "│    └─Conv3d: 2-1                       2,624\n",
       "│    └─ReLU: 2-2                         --\n",
       "│    └─Conv3d: 2-3                       27,680\n",
       "│    └─ReLU: 2-4                         --\n",
       "│    └─MaxPool3d: 2-5                    --\n",
       "├─Sequential: 1-2                        --\n",
       "│    └─Conv3d: 2-6                       27,680\n",
       "│    └─ReLU: 2-7                         --\n",
       "│    └─Conv3d: 2-8                       27,680\n",
       "│    └─ReLU: 2-9                         --\n",
       "│    └─MaxPool3d: 2-10                   --\n",
       "├─Sequential: 1-3                        --\n",
       "│    └─Flatten: 2-11                     --\n",
       "│    └─Linear: 2-12                      32,769,024\n",
       "│    └─ReLU: 2-13                        --\n",
       "│    └─Linear: 2-14                      524,800\n",
       "│    └─ReLU: 2-15                        --\n",
       "│    └─Linear: 2-16                      5,130\n",
       "│    └─ReLU: 2-17                        --\n",
       "│    └─Softmax: 2-18                     --\n",
       "=================================================================\n",
       "Total params: 33,384,618\n",
       "Trainable params: 33,384,618\n",
       "Non-trainable params: 0\n",
       "================================================================="
      ]
     },
     "execution_count": 19,
     "metadata": {},
     "output_type": "execute_result"
    }
   ],
   "source": [
    "torchinfo.summary(model_0)"
   ]
  },
  {
   "cell_type": "code",
   "execution_count": 20,
   "metadata": {},
   "outputs": [],
   "source": [
    "EPOCHS = 5\n",
    "LR = 0.001\n",
    "OPTIMIZER = torch.optim.Adam(params=model_0.parameters(), lr=LR)\n",
    "LOSS_FUNC = nn.CrossEntropyLoss()"
   ]
  },
  {
   "cell_type": "code",
   "execution_count": 21,
   "metadata": {},
   "outputs": [
    {
     "name": "stdout",
     "output_type": "stream",
     "text": [
      "TRAINING...\n"
     ]
    },
    {
     "name": "stderr",
     "output_type": "stream",
     "text": [
      "  0%|          | 0/5 [00:00<?, ?it/s]"
     ]
    },
    {
     "name": "stdout",
     "output_type": "stream",
     "text": [
      "Epoch: 0\n",
      "-------------------------------------------------------------------------------\n"
     ]
    },
    {
     "name": "stderr",
     "output_type": "stream",
     "text": [
      "c:\\Users\\Sanya\\kapitonnov_nn_n00b\\neural_n00b\\nn_n00b_env\\Lib\\site-packages\\torch\\nn\\modules\\module.py:1518: UserWarning: Implicit dimension choice for softmax has been deprecated. Change the call to include dim=X as an argument.\n",
      "  return self._call_impl(*args, **kwargs)\n",
      " 20%|██        | 1/5 [00:43<02:53, 43.38s/it]"
     ]
    },
    {
     "name": "stdout",
     "output_type": "stream",
     "text": [
      "Train Loss: 2.3026 || Train Accuracy: 1.00%\n",
      "\n",
      "Epoch: 1\n",
      "-------------------------------------------------------------------------------\n"
     ]
    },
    {
     "name": "stderr",
     "output_type": "stream",
     "text": [
      " 40%|████      | 2/5 [01:27<02:11, 43.95s/it]"
     ]
    },
    {
     "name": "stdout",
     "output_type": "stream",
     "text": [
      "Train Loss: 2.3173 || Train Accuracy: 1.01%\n",
      "\n",
      "Epoch: 2\n",
      "-------------------------------------------------------------------------------\n"
     ]
    },
    {
     "name": "stderr",
     "output_type": "stream",
     "text": [
      " 60%|██████    | 3/5 [02:12<01:28, 44.21s/it]"
     ]
    },
    {
     "name": "stdout",
     "output_type": "stream",
     "text": [
      "Train Loss: 2.3173 || Train Accuracy: 1.01%\n",
      "\n",
      "Epoch: 3\n",
      "-------------------------------------------------------------------------------\n"
     ]
    },
    {
     "name": "stderr",
     "output_type": "stream",
     "text": [
      " 80%|████████  | 4/5 [02:57<00:44, 44.61s/it]"
     ]
    },
    {
     "name": "stdout",
     "output_type": "stream",
     "text": [
      "Train Loss: 2.3173 || Train Accuracy: 1.01%\n",
      "\n",
      "Epoch: 4\n",
      "-------------------------------------------------------------------------------\n"
     ]
    },
    {
     "name": "stderr",
     "output_type": "stream",
     "text": [
      "100%|██████████| 5/5 [03:43<00:00, 44.64s/it]"
     ]
    },
    {
     "name": "stdout",
     "output_type": "stream",
     "text": [
      "Train Loss: 2.3173 || Train Accuracy: 1.01%\n",
      "\n",
      "Finished TRAINING! \n",
      "\n",
      "\n",
      " TESTING...\n"
     ]
    },
    {
     "name": "stderr",
     "output_type": "stream",
     "text": [
      "\n"
     ]
    },
    {
     "name": "stdout",
     "output_type": "stream",
     "text": [
      "Mean test Loss: 2.3026 || Mean test Accuracy: 1.00%\n",
      "\n",
      "Finished TESTING!\n"
     ]
    }
   ],
   "source": [
    "# Results dict\n",
    "results = {'train_loss': [],\n",
    "           'train_acc': [],\n",
    "           'test_loss': [],\n",
    "           'test_acc': []}\n",
    "\n",
    "# train model\n",
    "model_0.train()\n",
    "print('TRAINING...')\n",
    "train_loss_mean, train_acc_mean = 0, 0\n",
    "train_num_batches = len(train_dataloader)\n",
    "for epoch in tqdm(range(EPOCHS)):\n",
    "    print(f'Epoch: {epoch}\\n-------------------------------------------------------------------------------')\n",
    "    for batch, (image, label) in enumerate(train_dataloader, start=1):\n",
    "        logits = model_0(image)\n",
    "        loss = LOSS_FUNC(logits, label)\n",
    "        OPTIMIZER.zero_grad()\n",
    "        loss.backward()\n",
    "        OPTIMIZER.step()\n",
    "        train_loss_mean += loss.item()\n",
    "        train_acc_mean += (logits.argmax(1)==label).type(torch.float32).sum().item()/len(logits)\n",
    "    train_loss_mean /= train_num_batches\n",
    "    train_acc_mean /= train_num_batches\n",
    "    print(f'Train Loss: {train_loss_mean:.4f} || Train Accuracy: {train_acc_mean:.2f}%\\n')\n",
    "    results['train_loss'].append(train_loss_mean)\n",
    "    results['train_acc'].append(train_acc_mean)\n",
    "print('Finished TRAINING!','\\n')\n",
    "\n",
    "# test model\n",
    "model_0.eval()\n",
    "print('\\n', 'TESTING...')\n",
    "test_num_batches = len(test_dataloader)\n",
    "test_loss_mean, test_acc_mean = 0, 0\n",
    "with torch.inference_mode():\n",
    "    for image, label in test_dataloader:\n",
    "        pred = model_0(image)\n",
    "        loss = LOSS_FUNC(pred, label)\n",
    "        test_loss_mean += loss.item()\n",
    "        test_acc_mean += (pred.argmax(1)==label).type(torch.float32).sum().item()/len(pred)\n",
    "test_loss_mean /= test_num_batches\n",
    "test_acc_mean /= test_num_batches\n",
    "print(f'Mean test Loss: {test_loss_mean:.4f} || Mean test Accuracy: {test_acc_mean:.2f}%\\n')\n",
    "results['test_loss'].append(test_loss_mean)\n",
    "results['test_acc'].append(test_acc_mean)\n",
    "print('Finished TESTING!')"
   ]
  },
  {
   "cell_type": "code",
   "execution_count": 22,
   "metadata": {},
   "outputs": [
    {
     "data": {
      "text/plain": [
       "{'train_loss': [2.3025848895880827,\n",
       "  2.317251035381637,\n",
       "  2.317344450322998,\n",
       "  2.317345045322624,\n",
       "  2.3173450491124306],\n",
       " 'train_acc': [1.0,\n",
       "  1.0063694267515924,\n",
       "  1.006409996348736,\n",
       "  1.0064102547538136,\n",
       "  1.0064102563997057],\n",
       " 'test_loss': [2.3025849014520645],\n",
       " 'test_acc': [1.0]}"
      ]
     },
     "execution_count": 22,
     "metadata": {},
     "output_type": "execute_result"
    }
   ],
   "source": [
    "results"
   ]
  },
  {
   "cell_type": "code",
   "execution_count": 23,
   "metadata": {},
   "outputs": [
    {
     "name": "stderr",
     "output_type": "stream",
     "text": [
      "No artists with labels found to put in legend.  Note that artists whose label start with an underscore are ignored when legend() is called with no argument.\n",
      "No artists with labels found to put in legend.  Note that artists whose label start with an underscore are ignored when legend() is called with no argument.\n"
     ]
    },
    {
     "data": {
      "text/plain": [
       "[<matplotlib.lines.Line2D at 0x2dd5ddf8250>]"
      ]
     },
     "execution_count": 23,
     "metadata": {},
     "output_type": "execute_result"
    },
    {
     "data": {
      "image/png": "[encoded data removed]",
      "text/plain": [
       "<Figure size 1500x700 with 2 Axes>"
      ]
     },
     "metadata": {},
     "output_type": "display_data"
    }
   ],
   "source": [
    "fig = plt.figure(figsize=(15, 7))\n",
    "epochs = range(len(results['train_loss']))\n",
    "plt.subplot(1,2,1)\n",
    "plt.title('Loss')\n",
    "plt.xlabel('Epochs')\n",
    "plt.ylabel('Error')\n",
    "plt.legend()\n",
    "plt.plot(epochs, results['train_loss'])\n",
    "\n",
    "plt.subplot(1,2,2)\n",
    "plt.title('Accuracy')\n",
    "plt.xlabel('Epochs')\n",
    "plt.ylabel('%')\n",
    "plt.legend()\n",
    "plt.plot(epochs, results['train_acc'])"
   ]
  },
  {
   "cell_type": "code",
   "execution_count": null,
   "metadata": {},
   "outputs": [],
   "source": []
  }
 ],
 "metadata": {
  "kernelspec": {
   "display_name": "Python 3",
   "language": "python",
   "name": "python3"
  },
  "language_info": {
   "codemirror_mode": {
    "name": "ipython",
    "version": 3
   },
   "file_extension": ".py",
   "mimetype": "text/x-python",
   "name": "python",
   "nbconvert_exporter": "python",
   "pygments_lexer": "ipython3",
   "version": "3.11.2"
  },
  "orig_nbformat": 4
 },
 "nbformat": 4,
 "nbformat_minor": 2
}
