{
 "cells": [
  {
   "cell_type": "markdown",
   "metadata": {},
   "source": []
  },
  {
   "cell_type": "markdown",
   "metadata": {},
   "source": [
    "### Preferable Home Work \n",
    "1. Use data/mnist_train_10k.csv.zip\n",
    "2. Create MLP based on the - src/perceptron_n00b.py. Add more than 2 layers to the your perceptron network \n",
    "4. Train and test your network. \n",
    "5. Investigate how amount of layers and amount of neurons can influence on the your prediction results"
   ]
  },
  {
   "cell_type": "code",
   "execution_count": null,
   "metadata": {},
   "outputs": [],
   "source": [
    "#TODO implement your MLP here"
   ]
  },
  {
   "cell_type": "markdown",
   "metadata": {},
   "source": [
    "### Optional Home Work\n",
    "1. Upload \"Dog vs Cat Images Data\" https://www.kaggle.com/datasets/kunalgupta2616/dog-vs-cat-images-data\n",
    "2. Transform images to the matrices in the .CSV format. where label 0 is cat, label 1 is dog.\n",
    "3. Create train and test your network based on src/perceptron_n00b.py or torch.nn\n",
    "4. Investigate how amount of layers and amount of neurons can influence on the your prediction results\n",
    "\n"
   ]
  }
 ],
 "metadata": {
  "language_info": {
   "name": "python"
  },
  "orig_nbformat": 4
 },
 "nbformat": 4,
 "nbformat_minor": 2
}
